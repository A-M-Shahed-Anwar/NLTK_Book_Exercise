{
  "nbformat": 4,
  "nbformat_minor": 0,
  "metadata": {
    "colab": {
      "provenance": [],
      "toc_visible": true
    },
    "kernelspec": {
      "name": "python3",
      "display_name": "Python 3"
    },
    "language_info": {
      "name": "python"
    }
  },
  "cells": [
    {
      "cell_type": "code",
      "source": [
        "import nltk\n",
        "import numpy\n",
        "import matplotlib"
      ],
      "metadata": {
        "id": "KNVFx1R5rbVG"
      },
      "execution_count": 1,
      "outputs": []
    },
    {
      "cell_type": "code",
      "source": [
        "nltk.download()"
      ],
      "metadata": {
        "colab": {
          "base_uri": "https://localhost:8080/"
        },
        "id": "MSNglEn0riLd",
        "outputId": "29de8124-743d-4754-b992-752a04b33bdb"
      },
      "execution_count": 2,
      "outputs": [
        {
          "name": "stdout",
          "output_type": "stream",
          "text": [
            "NLTK Downloader\n",
            "---------------------------------------------------------------------------\n",
            "    d) Download   l) List    u) Update   c) Config   h) Help   q) Quit\n",
            "---------------------------------------------------------------------------\n",
            "Downloader> d\n",
            "\n",
            "Download which package (l=list; x=cancel)?\n",
            "  Identifier> book\n"
          ]
        },
        {
          "output_type": "stream",
          "name": "stderr",
          "text": [
            "    Downloading collection 'book'\n",
            "       | \n",
            "       | Downloading package abc to /root/nltk_data...\n",
            "       |   Unzipping corpora/abc.zip.\n",
            "       | Downloading package brown to /root/nltk_data...\n",
            "       |   Unzipping corpora/brown.zip.\n",
            "       | Downloading package chat80 to /root/nltk_data...\n",
            "       |   Unzipping corpora/chat80.zip.\n",
            "       | Downloading package cmudict to /root/nltk_data...\n",
            "       |   Unzipping corpora/cmudict.zip.\n",
            "       | Downloading package conll2000 to /root/nltk_data...\n",
            "       |   Unzipping corpora/conll2000.zip.\n",
            "       | Downloading package conll2002 to /root/nltk_data...\n",
            "       |   Unzipping corpora/conll2002.zip.\n",
            "       | Downloading package dependency_treebank to /root/nltk_data...\n",
            "       |   Unzipping corpora/dependency_treebank.zip.\n",
            "       | Downloading package genesis to /root/nltk_data...\n",
            "       |   Unzipping corpora/genesis.zip.\n",
            "       | Downloading package gutenberg to /root/nltk_data...\n",
            "       |   Unzipping corpora/gutenberg.zip.\n",
            "       | Downloading package ieer to /root/nltk_data...\n",
            "       |   Unzipping corpora/ieer.zip.\n",
            "       | Downloading package inaugural to /root/nltk_data...\n",
            "       |   Unzipping corpora/inaugural.zip.\n",
            "       | Downloading package movie_reviews to /root/nltk_data...\n",
            "       |   Unzipping corpora/movie_reviews.zip.\n",
            "       | Downloading package nps_chat to /root/nltk_data...\n",
            "       |   Unzipping corpora/nps_chat.zip.\n",
            "       | Downloading package names to /root/nltk_data...\n",
            "       |   Unzipping corpora/names.zip.\n",
            "       | Downloading package ppattach to /root/nltk_data...\n",
            "       |   Unzipping corpora/ppattach.zip.\n",
            "       | Downloading package reuters to /root/nltk_data...\n",
            "       | Downloading package senseval to /root/nltk_data...\n",
            "       |   Unzipping corpora/senseval.zip.\n",
            "       | Downloading package state_union to /root/nltk_data...\n",
            "       |   Unzipping corpora/state_union.zip.\n",
            "       | Downloading package stopwords to /root/nltk_data...\n",
            "       |   Unzipping corpora/stopwords.zip.\n",
            "       | Downloading package swadesh to /root/nltk_data...\n",
            "       |   Unzipping corpora/swadesh.zip.\n",
            "       | Downloading package timit to /root/nltk_data...\n",
            "       |   Unzipping corpora/timit.zip.\n",
            "       | Downloading package treebank to /root/nltk_data...\n",
            "       |   Unzipping corpora/treebank.zip.\n",
            "       | Downloading package toolbox to /root/nltk_data...\n",
            "       |   Unzipping corpora/toolbox.zip.\n",
            "       | Downloading package udhr to /root/nltk_data...\n",
            "       |   Unzipping corpora/udhr.zip.\n",
            "       | Downloading package udhr2 to /root/nltk_data...\n",
            "       |   Unzipping corpora/udhr2.zip.\n",
            "       | Downloading package unicode_samples to /root/nltk_data...\n",
            "       |   Unzipping corpora/unicode_samples.zip.\n",
            "       | Downloading package webtext to /root/nltk_data...\n",
            "       |   Unzipping corpora/webtext.zip.\n",
            "       | Downloading package wordnet to /root/nltk_data...\n",
            "       | Downloading package wordnet_ic to /root/nltk_data...\n",
            "       |   Unzipping corpora/wordnet_ic.zip.\n",
            "       | Downloading package words to /root/nltk_data...\n",
            "       |   Unzipping corpora/words.zip.\n",
            "       | Downloading package maxent_treebank_pos_tagger to\n",
            "       |     /root/nltk_data...\n",
            "       |   Unzipping taggers/maxent_treebank_pos_tagger.zip.\n",
            "       | Downloading package maxent_ne_chunker to /root/nltk_data...\n",
            "       |   Unzipping chunkers/maxent_ne_chunker.zip.\n",
            "       | Downloading package universal_tagset to /root/nltk_data...\n",
            "       |   Unzipping taggers/universal_tagset.zip.\n",
            "       | Downloading package punkt to /root/nltk_data...\n",
            "       |   Unzipping tokenizers/punkt.zip.\n",
            "       | Downloading package book_grammars to /root/nltk_data...\n",
            "       |   Unzipping grammars/book_grammars.zip.\n",
            "       | Downloading package city_database to /root/nltk_data...\n",
            "       |   Unzipping corpora/city_database.zip.\n",
            "       | Downloading package tagsets to /root/nltk_data...\n",
            "       |   Unzipping help/tagsets.zip.\n",
            "       | Downloading package panlex_swadesh to /root/nltk_data...\n",
            "       | Downloading package averaged_perceptron_tagger to\n",
            "       |     /root/nltk_data...\n",
            "       |   Unzipping taggers/averaged_perceptron_tagger.zip.\n",
            "       | \n",
            "     Done downloading collection book\n"
          ]
        },
        {
          "name": "stdout",
          "output_type": "stream",
          "text": [
            "\n",
            "---------------------------------------------------------------------------\n",
            "    d) Download   l) List    u) Update   c) Config   h) Help   q) Quit\n",
            "---------------------------------------------------------------------------\n",
            "Downloader> q\n"
          ]
        },
        {
          "output_type": "execute_result",
          "data": {
            "text/plain": [
              "True"
            ]
          },
          "metadata": {},
          "execution_count": 2
        }
      ]
    },
    {
      "cell_type": "code",
      "source": [
        "from nltk.book import *"
      ],
      "metadata": {
        "colab": {
          "base_uri": "https://localhost:8080/"
        },
        "id": "nslM0vkRrvnu",
        "outputId": "e569b7ad-62a4-464d-9ad4-5ffa08d29ba0"
      },
      "execution_count": 3,
      "outputs": [
        {
          "output_type": "stream",
          "name": "stdout",
          "text": [
            "*** Introductory Examples for the NLTK Book ***\n",
            "Loading text1, ..., text9 and sent1, ..., sent9\n",
            "Type the name of the text or sentence to view it.\n",
            "Type: 'texts()' or 'sents()' to list the materials.\n",
            "text1: Moby Dick by Herman Melville 1851\n",
            "text2: Sense and Sensibility by Jane Austen 1811\n",
            "text3: The Book of Genesis\n",
            "text4: Inaugural Address Corpus\n",
            "text5: Chat Corpus\n",
            "text6: Monty Python and the Holy Grail\n",
            "text7: Wall Street Journal\n",
            "text8: Personals Corpus\n",
            "text9: The Man Who Was Thursday by G . K . Chesterton 1908\n"
          ]
        }
      ]
    },
    {
      "cell_type": "markdown",
      "source": [
        "Try using the Python interpreter as a calculator, and typing expressions like 12 / (4 + 1)."
      ],
      "metadata": {
        "id": "ItoROKvTqY_O"
      }
    },
    {
      "cell_type": "code",
      "source": [
        "12 / (4 + 1)"
      ],
      "metadata": {
        "colab": {
          "base_uri": "https://localhost:8080/"
        },
        "id": "hM2xrxYtq1Ya",
        "outputId": "f8d600a2-ce36-43c6-bbaf-b38fb7e5bde4"
      },
      "execution_count": 4,
      "outputs": [
        {
          "output_type": "execute_result",
          "data": {
            "text/plain": [
              "2.4"
            ]
          },
          "metadata": {},
          "execution_count": 4
        }
      ]
    },
    {
      "cell_type": "markdown",
      "source": [
        "2.Given an alphabet of 26 letters, there are 26 to the power 10, or 26 ** 10, ten-letter strings we can form. That works out to 141167095653376. How many hundred-letter strings are possible?"
      ],
      "metadata": {
        "id": "9nfPwWyPq-Ik"
      }
    },
    {
      "cell_type": "code",
      "source": [
        "26**100"
      ],
      "metadata": {
        "colab": {
          "base_uri": "https://localhost:8080/"
        },
        "id": "wCfVOtdGrHJ-",
        "outputId": "fcb8bff2-7b2f-4f71-f044-7766d015dfac"
      },
      "execution_count": 5,
      "outputs": [
        {
          "output_type": "execute_result",
          "data": {
            "text/plain": [
              "3142930641582938830174357788501626427282669988762475256374173175398995908420104023465432599069702289330964075081611719197835869803511992549376"
            ]
          },
          "metadata": {},
          "execution_count": 5
        }
      ]
    },
    {
      "cell_type": "markdown",
      "source": [
        "3.The Python multiplication operation can be applied to lists. What happens when you type ['Monty', 'Python'] * 20, or 3 * sent1?"
      ],
      "metadata": {
        "id": "9TcKx-81rPrD"
      }
    },
    {
      "cell_type": "code",
      "source": [
        "print(['Monty', 'Python']*20)\n",
        "print(3*sent1)"
      ],
      "metadata": {
        "colab": {
          "base_uri": "https://localhost:8080/"
        },
        "id": "1Iu2jTqurVTM",
        "outputId": "19fc77a7-bfac-41ed-8db6-5b1517bfb02e"
      },
      "execution_count": 6,
      "outputs": [
        {
          "output_type": "stream",
          "name": "stdout",
          "text": [
            "['Monty', 'Python', 'Monty', 'Python', 'Monty', 'Python', 'Monty', 'Python', 'Monty', 'Python', 'Monty', 'Python', 'Monty', 'Python', 'Monty', 'Python', 'Monty', 'Python', 'Monty', 'Python', 'Monty', 'Python', 'Monty', 'Python', 'Monty', 'Python', 'Monty', 'Python', 'Monty', 'Python', 'Monty', 'Python', 'Monty', 'Python', 'Monty', 'Python', 'Monty', 'Python', 'Monty', 'Python']\n",
            "['Call', 'me', 'Ishmael', '.', 'Call', 'me', 'Ishmael', '.', 'Call', 'me', 'Ishmael', '.']\n"
          ]
        }
      ]
    },
    {
      "cell_type": "markdown",
      "source": [
        "4.Review 1 on computing with language. How many words are there in text2? How many distinct words are there?"
      ],
      "metadata": {
        "id": "6SifchrAsJJq"
      }
    },
    {
      "cell_type": "code",
      "source": [
        "print(\"Number of words in text2 is\", len(text2))\n",
        "print(\"Number of distinct words in text2 is\", len(set(text2)))"
      ],
      "metadata": {
        "colab": {
          "base_uri": "https://localhost:8080/"
        },
        "id": "dtruMfGVsO_g",
        "outputId": "db70a92a-5103-4052-d226-d0c5e97866a0"
      },
      "execution_count": 7,
      "outputs": [
        {
          "output_type": "stream",
          "name": "stdout",
          "text": [
            "Number of words in text2 is 141576\n",
            "Number of distinct words in text2 is 6833\n"
          ]
        }
      ]
    },
    {
      "cell_type": "markdown",
      "source": [
        "5.Compare the lexical diversity scores for humor and romance fiction in 1.1. Which genre is more lexically diverse?  \n",
        "Answer: humor"
      ],
      "metadata": {
        "id": "ot8kSrAfswcL"
      }
    },
    {
      "cell_type": "markdown",
      "source": [
        "6.Produce a dispersion plot of the four main protagonists in Sense and Sensibility: Elinor, Marianne, Edward, and Willoughby. What can you observe about the different roles played by the males and females in this novel? Can you identify the couples?"
      ],
      "metadata": {
        "id": "Ou3Mor-wuB8v"
      }
    },
    {
      "cell_type": "code",
      "source": [
        "text2.dispersion_plot(['Elinor', 'Marianne', 'Edward', 'Willoughby'])\n"
      ],
      "metadata": {
        "colab": {
          "base_uri": "https://localhost:8080/",
          "height": 295
        },
        "id": "W_ups-6puI-A",
        "outputId": "71690605-990f-4d78-9db3-3d8c5283106f"
      },
      "execution_count": 8,
      "outputs": [
        {
          "output_type": "display_data",
          "data": {
            "text/plain": [
              "<Figure size 432x288 with 1 Axes>"
            ],
            "image/png": "[encoded data removed]"
          },
          "metadata": {
            "needs_background": "light"
          }
        }
      ]
    },
    {
      "cell_type": "markdown",
      "source": [
        "7.Find the collocations in text5."
      ],
      "metadata": {
        "id": "ySWtrScfw7Es"
      }
    },
    {
      "cell_type": "code",
      "source": [
        "text5.collocations()"
      ],
      "metadata": {
        "colab": {
          "base_uri": "https://localhost:8080/"
        },
        "id": "Z0DcOcxQd-bP",
        "outputId": "8adf2c5b-2ede-459c-e8df-d4bff905cc86"
      },
      "execution_count": 9,
      "outputs": [
        {
          "output_type": "stream",
          "name": "stdout",
          "text": [
            "wanna chat; PART JOIN; MODE #14-19teens; JOIN PART; PART PART;\n",
            "cute.-ass MP3; MP3 player; JOIN JOIN; times .. .; ACTION watches; guys\n",
            "wanna; song lasts; last night; ACTION sits; -...)...- S.M.R.; Lime\n",
            "Player; Player 12%; dont know; lez gurls; long time\n"
          ]
        }
      ]
    },
    {
      "cell_type": "markdown",
      "source": [
        "8.Consider the following Python expression: len(set(text4)). State the purpose of this expression. Describe the two steps involved in performing this computation.  \n",
        "\n",
        "> len(set(text4)) calculates the vocabulary type and total number of distinct words in the text.  \n",
        "\n",
        ">set(text4) find out distinct words and len(set(text4)) counts the number of elements in set(text4)"
      ],
      "metadata": {
        "id": "P6kPzXzqeTop"
      }
    },
    {
      "cell_type": "markdown",
      "source": [
        "9a.Define a string and assign it to a variable, e.g., my_string = 'My String' (but put something more interesting in the string). Print the contents of this variable in two ways, first by simply typing the variable name and pressing enter, then by using the print statement."
      ],
      "metadata": {
        "id": "HgAH_8hGfC1d"
      }
    },
    {
      "cell_type": "code",
      "source": [
        "my_string = 'Karma is a bitch!!!'\n",
        "my_string"
      ],
      "metadata": {
        "colab": {
          "base_uri": "https://localhost:8080/",
          "height": 36
        },
        "id": "ioD_VjDDfiN2",
        "outputId": "35b967ce-d750-45c5-f700-f054c7a72f66"
      },
      "execution_count": 10,
      "outputs": [
        {
          "output_type": "execute_result",
          "data": {
            "text/plain": [
              "'Karma is a bitch!!!'"
            ],
            "application/vnd.google.colaboratory.intrinsic+json": {
              "type": "string"
            }
          },
          "metadata": {},
          "execution_count": 10
        }
      ]
    },
    {
      "cell_type": "code",
      "source": [
        "print(my_string)"
      ],
      "metadata": {
        "colab": {
          "base_uri": "https://localhost:8080/"
        },
        "id": "_GzymvXEfsjd",
        "outputId": "da0c9619-4842-4132-f03f-d7783a6e0e41"
      },
      "execution_count": 11,
      "outputs": [
        {
          "output_type": "stream",
          "name": "stdout",
          "text": [
            "Karma is a bitch!!!\n"
          ]
        }
      ]
    },
    {
      "cell_type": "markdown",
      "source": [
        "9b.Try adding the string to itself using my_string + my_string, or multiplying it by a number, e.g., my_string * 3. Notice that the strings are joined together without any spaces. How could you fix this?"
      ],
      "metadata": {
        "id": "TPfuselNf6Bd"
      }
    },
    {
      "cell_type": "code",
      "source": [
        "my_string + ' ' + my_string"
      ],
      "metadata": {
        "colab": {
          "base_uri": "https://localhost:8080/",
          "height": 36
        },
        "id": "OFcPwrtMgJW1",
        "outputId": "88c4e87f-6fdf-4e96-ee8c-fbf93a92c969"
      },
      "execution_count": 12,
      "outputs": [
        {
          "output_type": "execute_result",
          "data": {
            "text/plain": [
              "'Karma is a bitch!!! Karma is a bitch!!!'"
            ],
            "application/vnd.google.colaboratory.intrinsic+json": {
              "type": "string"
            }
          },
          "metadata": {},
          "execution_count": 12
        }
      ]
    },
    {
      "cell_type": "code",
      "source": [
        "(my_string + ' ')*3"
      ],
      "metadata": {
        "colab": {
          "base_uri": "https://localhost:8080/",
          "height": 36
        },
        "id": "mGTMSUWtgZDG",
        "outputId": "c764317d-726f-4785-bdc9-de7933b42827"
      },
      "execution_count": 13,
      "outputs": [
        {
          "output_type": "execute_result",
          "data": {
            "text/plain": [
              "'Karma is a bitch!!! Karma is a bitch!!! Karma is a bitch!!! '"
            ],
            "application/vnd.google.colaboratory.intrinsic+json": {
              "type": "string"
            }
          },
          "metadata": {},
          "execution_count": 13
        }
      ]
    },
    {
      "cell_type": "markdown",
      "source": [
        "10.Define a variable my_sent to be a list of words, using the syntax my_sent = [\"My\", \"sent\"] (but with your own words, or a favorite saying)."
      ],
      "metadata": {
        "id": "S_UwGZNRg5T8"
      }
    },
    {
      "cell_type": "code",
      "source": [
        "my_sent = ['This', 'is', 'not', 'what', 'I', 'had', 'in', 'mind', '.']\n",
        "my_sent"
      ],
      "metadata": {
        "colab": {
          "base_uri": "https://localhost:8080/"
        },
        "id": "7f_xFb5vhEL5",
        "outputId": "48797586-445b-4b86-ec3d-13a9d776a325"
      },
      "execution_count": 14,
      "outputs": [
        {
          "output_type": "execute_result",
          "data": {
            "text/plain": [
              "['This', 'is', 'not', 'what', 'I', 'had', 'in', 'mind', '.']"
            ]
          },
          "metadata": {},
          "execution_count": 14
        }
      ]
    },
    {
      "cell_type": "markdown",
      "source": [
        "10a.Use ' '.join(my_sent) to convert this into a string"
      ],
      "metadata": {
        "id": "u9N_v22rhrtd"
      }
    },
    {
      "cell_type": "code",
      "source": [
        "str1 = ' '.join(my_sent)\n",
        "str1"
      ],
      "metadata": {
        "colab": {
          "base_uri": "https://localhost:8080/",
          "height": 36
        },
        "id": "cCWKOctJh03l",
        "outputId": "a0f9c8d1-7747-4115-dae0-04a9fe2519a4"
      },
      "execution_count": 15,
      "outputs": [
        {
          "output_type": "execute_result",
          "data": {
            "text/plain": [
              "'This is not what I had in mind .'"
            ],
            "application/vnd.google.colaboratory.intrinsic+json": {
              "type": "string"
            }
          },
          "metadata": {},
          "execution_count": 15
        }
      ]
    },
    {
      "cell_type": "markdown",
      "source": [
        "10b.Use split() to split the string back into the list form you had to start with."
      ],
      "metadata": {
        "id": "V_Pkx5HFiCue"
      }
    },
    {
      "cell_type": "code",
      "source": [
        "my_sent = str1.split()\n",
        "my_sent"
      ],
      "metadata": {
        "colab": {
          "base_uri": "https://localhost:8080/"
        },
        "id": "aMgIYYZ7iIig",
        "outputId": "c39e1a6d-896f-4ece-dbcc-b5e5ffeb1f98"
      },
      "execution_count": 16,
      "outputs": [
        {
          "output_type": "execute_result",
          "data": {
            "text/plain": [
              "['This', 'is', 'not', 'what', 'I', 'had', 'in', 'mind', '.']"
            ]
          },
          "metadata": {},
          "execution_count": 16
        }
      ]
    },
    {
      "cell_type": "markdown",
      "source": [
        "11.Define several variables containing lists of words, e.g., phrase1, phrase2, and so on. Join them together in various combinations (using the plus operator) to form whole sentences. What is the relationship between len(phrase1 + phrase2) and len(phrase1) + len(phrase2)?"
      ],
      "metadata": {
        "id": "tCVirZkejDJ3"
      }
    },
    {
      "cell_type": "code",
      "source": [
        "phrase1 = ['He', 'is', 'my', 'brother', '.']\n",
        "phrase2 = ['He', 'is', 'a', 'good', 'player', '.']\n",
        "print(len(phrase1 + phrase2))\n",
        "print(len(phrase1) + len(phrase2))"
      ],
      "metadata": {
        "colab": {
          "base_uri": "https://localhost:8080/"
        },
        "id": "56jqWVj4jOaC",
        "outputId": "37bf88f1-9106-4ea3-981b-16e851044a26"
      },
      "execution_count": 17,
      "outputs": [
        {
          "output_type": "stream",
          "name": "stdout",
          "text": [
            "11\n",
            "11\n"
          ]
        }
      ]
    },
    {
      "cell_type": "markdown",
      "source": [
        "12.Consider the following two expressions, which have the same value. Which one will typically be more relevant in NLP? Why?\n",
        "\n",
        "    \"Monty Python\"[6:12]\n",
        "    [\"Monty\", \"Python\"][1]\n"
      ],
      "metadata": {
        "id": "S6TdO0MjmgUM"
      }
    },
    {
      "cell_type": "markdown",
      "source": [
        "The later one will be more appropriate to NLP because, in NLP we like dealing with List rather than string."
      ],
      "metadata": {
        "id": "ytAkUrwzmplP"
      }
    },
    {
      "cell_type": "markdown",
      "source": [
        "13.We have seen how to represent a sentence as a list of words, where each word is a sequence of characters. What does sent1[2][2] do? Why? Experiment with other index values."
      ],
      "metadata": {
        "id": "rW-_3L3im5Nn"
      }
    },
    {
      "cell_type": "code",
      "source": [
        "sent1[2][2]"
      ],
      "metadata": {
        "colab": {
          "base_uri": "https://localhost:8080/",
          "height": 36
        },
        "id": "D8_Q4N--nG7d",
        "outputId": "f1bde085-5bf7-49ef-8aeb-26008c92ae52"
      },
      "execution_count": 18,
      "outputs": [
        {
          "output_type": "execute_result",
          "data": {
            "text/plain": [
              "'h'"
            ],
            "application/vnd.google.colaboratory.intrinsic+json": {
              "type": "string"
            }
          },
          "metadata": {},
          "execution_count": 18
        }
      ]
    },
    {
      "cell_type": "markdown",
      "source": [
        "14.The first sentence of text3 is provided to you in the variable sent3. The index of the in sent3 is 1, because sent3[1] gives us 'the'. What are the indexes of the two other occurrences of this word in sent3?"
      ],
      "metadata": {
        "id": "bzK7mQStwDES"
      }
    },
    {
      "cell_type": "code",
      "source": [
        "sent3[1]"
      ],
      "metadata": {
        "colab": {
          "base_uri": "https://localhost:8080/",
          "height": 36
        },
        "id": "gYeVckhzwS0_",
        "outputId": "b39cdf5d-362a-43dc-939a-c1561d29d80f"
      },
      "execution_count": 19,
      "outputs": [
        {
          "output_type": "execute_result",
          "data": {
            "text/plain": [
              "'the'"
            ],
            "application/vnd.google.colaboratory.intrinsic+json": {
              "type": "string"
            }
          },
          "metadata": {},
          "execution_count": 19
        }
      ]
    },
    {
      "cell_type": "code",
      "source": [
        "for i in range(len(sent3)):\n",
        "  if sent3[i] == 'the':\n",
        "    print(i)\n",
        "\n",
        "print(range(len(sent3)))"
      ],
      "metadata": {
        "colab": {
          "base_uri": "https://localhost:8080/"
        },
        "id": "BQPQ5I1QyJqU",
        "outputId": "3c6f8416-2046-4853-d259-75f64fe12066"
      },
      "execution_count": 20,
      "outputs": [
        {
          "output_type": "stream",
          "name": "stdout",
          "text": [
            "1\n",
            "5\n",
            "8\n",
            "range(0, 11)\n"
          ]
        }
      ]
    },
    {
      "cell_type": "markdown",
      "source": [
        "15.Review the discussion of conditionals in 4. Find all words in the Chat Corpus (text5) starting with the letter b. Show them in alphabetical order."
      ],
      "metadata": {
        "id": "eNgwMN881U7Y"
      }
    },
    {
      "cell_type": "code",
      "source": [
        "print(sorted([w for w in set(text5) if w.startswith('b')]))"
      ],
      "metadata": {
        "colab": {
          "base_uri": "https://localhost:8080/"
        },
        "id": "iUXG7q1m1trE",
        "outputId": "06b04fd6-b0ec-406e-93f4-38a0feea7d29"
      },
      "execution_count": 21,
      "outputs": [
        {
          "output_type": "stream",
          "name": "stdout",
          "text": [
            "['b', 'b-day', 'b/c', 'b4', 'babay', 'babble', 'babblein', 'babe', 'babes', 'babi', 'babies', 'babiess', 'baby', 'babycakeses', 'bachelorette', 'back', 'backatchya', 'backfrontsidewaysandallaroundtheworld', 'backroom', 'backup', 'bacl', 'bad', 'bag', 'bagel', 'bagels', 'bahahahaa', 'bak', 'baked', 'balad', 'balance', 'balck', 'ball', 'ballin', 'balls', 'ban', 'band', 'bandito', 'bandsaw', 'banjoes', 'banned', 'baord', 'bar', 'barbie', 'bare', 'barely', 'bares', 'barfights', 'barks', 'barn', 'barrel', 'base', 'bases', 'basically', 'basket', 'battery', 'bay', 'bbbbbyyyyyyyeeeeeeeee', 'bbiam', 'bbl', 'bbs', 'bc', 'be', 'beach', 'beachhhh', 'beam', 'beams', 'beanbag', 'beans', 'bear', 'bears', 'beat', 'beaten', 'beatles', 'beats', 'beattles', 'beautiful', 'because', 'beckley', 'become', 'bed', 'bedford', 'bedroom', 'beeeeehave', 'beeehave', 'been', 'beer', 'before', 'beg', 'begin', 'behave', 'behind', 'bein', 'being', 'beleive', 'believe', 'belive', 'bell', 'belly', 'belong', 'belongings', 'ben', 'bend', 'benz', 'bes', 'beside', 'besides', 'best', 'bet', 'betrayal', 'betta', 'better', 'between', 'beuty', 'bf', 'bi', 'biatch', 'bible', 'biebsa', 'bied', 'big', 'bigest', 'biggest', 'biiiatch', 'bike', 'bikes', 'bikini', 'bio', 'bird', 'birfday', 'birthday', 'bisexual', 'bishes', 'bit', 'bitch', 'bitches', 'bitdh', 'bite', 'bites', 'biyatch', 'biz', 'bj', 'black', 'blade', 'blah', 'blank', 'blankie', 'blazed', 'bleach', 'blech', 'bless', 'blessings', 'blew', 'blind', 'blinks', 'bliss', 'blocking', 'bloe', 'blood', 'blooded', 'bloody', 'blow', 'blowing', 'blowjob', 'blowup', 'blue', 'blueberry', 'bluer', 'blues', 'blunt', 'board', 'bob', 'bodies', 'body', 'boed', 'boght', 'boi', 'boing', 'boinked', 'bois', 'bomb', 'bone', 'boned', 'bones', 'bong', 'boning', 'bonus', 'boo', 'booboo', 'boobs', 'book', 'boom', 'boooooooooooglyyyyyy', 'boost', 'boot', 'bootay', 'booted', 'boots', 'booty', 'border', 'borderline', 'bored', 'boredom', 'boring', 'born', 'born-again', 'bosom', 'boss', 'bossy', 'bot', 'both', 'bother', 'bothering', 'bottle', 'bought', 'bounced', 'bouncer', 'bouncers', 'bound', 'bout', 'bouts', 'bow', 'bowl', 'box', 'boy', 'boyfriend', 'boys', 'bra', 'brad', 'brady', 'brain', 'brakes', 'brass', 'brat', 'brb', 'brbbb', 'bread', 'break', 'breaks', 'breath', 'breathe', 'bred', 'breeding', 'bright', 'brightened', 'bring', 'brings', 'bro', 'broke', 'brooklyn', 'brother', 'brothers', 'brought', 'brown', 'brrrrrrr', 'bruises', 'brunswick', 'brwn', 'btw', 'bucks', 'buddyyyyyy', 'buff', 'buffalo', 'bug', 'bugs', 'buh', 'build', 'builds', 'built', 'bull', 'bulls', 'bum', 'bumber', 'bummer', 'bumped', 'bumper', 'bunch', 'bunny', 'burger', 'burito', 'burned', 'burns', 'burp', 'burpin', 'burps', 'burried', 'burryed', 'bus', 'buses', 'bust', 'busted', 'busy', 'but', 'butt', 'butter', 'butterscotch', 'button', 'buttons', 'buy', 'buying', 'bwahahahahahahahahahaha', 'by', 'byb', 'bye', 'byeee', 'byeeee', 'byeeeeeeee', 'byeeeeeeeeeeeee', 'byes']\n"
          ]
        }
      ]
    },
    {
      "cell_type": "markdown",
      "source": [
        "16.Type the expression list(range(10)) at the interpreter prompt. Now try list(range(10, 20)), list(range(10, 20, 2)), and list(range(20, 10, -2)). We will see a variety of uses for this built-in function in later chapters."
      ],
      "metadata": {
        "id": "CPpQ1ILz26GI"
      }
    },
    {
      "cell_type": "code",
      "source": [
        "print(list(range(10)))\n",
        "print(list(range(10,20)))\n",
        "print(list(range(10,20,2)))\n",
        "print(list(range(20,10,-2)))"
      ],
      "metadata": {
        "colab": {
          "base_uri": "https://localhost:8080/"
        },
        "id": "I8PBreLt3EDm",
        "outputId": "b19524ff-b833-4f0a-aff4-9cbce165b8b5"
      },
      "execution_count": 22,
      "outputs": [
        {
          "output_type": "stream",
          "name": "stdout",
          "text": [
            "[0, 1, 2, 3, 4, 5, 6, 7, 8, 9]\n",
            "[10, 11, 12, 13, 14, 15, 16, 17, 18, 19]\n",
            "[10, 12, 14, 16, 18]\n",
            "[20, 18, 16, 14, 12]\n"
          ]
        }
      ]
    },
    {
      "cell_type": "markdown",
      "source": [
        "17.Use text9.index() to find the index of the word sunset. You'll need to insert this word as an argument between the parentheses. By a process of trial and error, find the slice for the complete sentence that contains this word."
      ],
      "metadata": {
        "id": "7mcivVRe3f94"
      }
    },
    {
      "cell_type": "code",
      "source": [
        "text9[615:644]"
      ],
      "metadata": {
        "colab": {
          "base_uri": "https://localhost:8080/"
        },
        "id": "LVPYl3CX3xrj",
        "outputId": "86dbac5d-79c2-420f-ff70-00fb174742d2"
      },
      "execution_count": 23,
      "outputs": [
        {
          "output_type": "execute_result",
          "data": {
            "text/plain": [
              "['THE',\n",
              " 'TWO',\n",
              " 'POETS',\n",
              " 'OF',\n",
              " 'SAFFRON',\n",
              " 'PARK',\n",
              " 'THE',\n",
              " 'suburb',\n",
              " 'of',\n",
              " 'Saffron',\n",
              " 'Park',\n",
              " 'lay',\n",
              " 'on',\n",
              " 'the',\n",
              " 'sunset',\n",
              " 'side',\n",
              " 'of',\n",
              " 'London',\n",
              " ',',\n",
              " 'as',\n",
              " 'red',\n",
              " 'and',\n",
              " 'ragged',\n",
              " 'as',\n",
              " 'a',\n",
              " 'cloud',\n",
              " 'of',\n",
              " 'sunset',\n",
              " '.']"
            ]
          },
          "metadata": {},
          "execution_count": 23
        }
      ]
    },
    {
      "cell_type": "markdown",
      "source": [
        "18.Using list addition, and the set and sorted operations, compute the vocabulary of the sentences sent1 ... sent8."
      ],
      "metadata": {
        "id": "bNI132dhLmKG"
      }
    },
    {
      "cell_type": "code",
      "source": [
        "long_list = sent1 + sent2 + sent3 + sent4 + sent5 + sent6 +sent7 + sent8\n",
        "print(len(set(long_list)))"
      ],
      "metadata": {
        "colab": {
          "base_uri": "https://localhost:8080/"
        },
        "id": "7PHPs46MLz6S",
        "outputId": "3eb4d4dc-b852-4c38-bcfa-e32b9fefd25d"
      },
      "execution_count": 24,
      "outputs": [
        {
          "output_type": "stream",
          "name": "stdout",
          "text": [
            "75\n"
          ]
        }
      ]
    },
    {
      "cell_type": "markdown",
      "source": [
        "19.What is the difference between the following two lines? Which one will give a larger value? Will this be the case for other texts?  \n",
        "> sorted(set(w.lower() for w in text1))  # This will have only unique values.\n",
        "\n",
        "> sorted(w.lower() for w in set(text1)) # This will contain duplicate values for upper and lower case issues."
      ],
      "metadata": {
        "id": "SgVQKi7hMbCV"
      }
    },
    {
      "cell_type": "code",
      "source": [
        "print(len(sorted(set(w.lower() for w in text1))))\n",
        "print(len(sorted(w.lower() for w in set(text1))))"
      ],
      "metadata": {
        "colab": {
          "base_uri": "https://localhost:8080/"
        },
        "id": "fABQ1JtwOp_F",
        "outputId": "a89250ad-1647-419e-c981-80adb65614e1"
      },
      "execution_count": 25,
      "outputs": [
        {
          "output_type": "stream",
          "name": "stdout",
          "text": [
            "17231\n",
            "19317\n"
          ]
        }
      ]
    },
    {
      "cell_type": "markdown",
      "source": [
        "20.What is the difference between the following two tests: w.isupper() and not w.islower()?\n",
        "\n",
        "> w.isupper() will satisfy only if the word is in uppercase\n",
        "\n",
        "> not w.islower() will satisfy only if the is not in lowercase. so it will also contain alphanumeric words and punctuation symbols"
      ],
      "metadata": {
        "id": "sz6mGtiZP5s_"
      }
    },
    {
      "cell_type": "code",
      "source": [
        "not '!'.islower()"
      ],
      "metadata": {
        "colab": {
          "base_uri": "https://localhost:8080/"
        },
        "id": "z7g4nB0bQDlm",
        "outputId": "b7ff1f00-88f9-4081-8f10-f2542ce09120"
      },
      "execution_count": 26,
      "outputs": [
        {
          "output_type": "execute_result",
          "data": {
            "text/plain": [
              "True"
            ]
          },
          "metadata": {},
          "execution_count": 26
        }
      ]
    },
    {
      "cell_type": "markdown",
      "source": [
        "21.Write the slice expression that extracts the last two words of text2."
      ],
      "metadata": {
        "id": "ft3mp39IQzjS"
      }
    },
    {
      "cell_type": "code",
      "source": [
        "text2[141574:141576]"
      ],
      "metadata": {
        "colab": {
          "base_uri": "https://localhost:8080/"
        },
        "id": "uoUbW2TzQ-am",
        "outputId": "db347fc2-7c02-4eb9-cbb2-89b14794c2c0"
      },
      "execution_count": 27,
      "outputs": [
        {
          "output_type": "execute_result",
          "data": {
            "text/plain": [
              "['THE', 'END']"
            ]
          },
          "metadata": {},
          "execution_count": 27
        }
      ]
    },
    {
      "cell_type": "markdown",
      "source": [
        "22.Find all the four-letter words in the Chat Corpus (text5). With the help of a frequency distribution (FreqDist), show these words in decreasing order of frequency."
      ],
      "metadata": {
        "id": "AxCyqPyaRdMb"
      }
    },
    {
      "cell_type": "code",
      "source": [
        "print([w for w in text5 if len(w)==4])"
      ],
      "metadata": {
        "colab": {
          "base_uri": "https://localhost:8080/"
        },
        "id": "bfA6XQs5RlVD",
        "outputId": "9a818ef7-0dff-4321-cb28-24e8830c1aaf"
      },
      "execution_count": 28,
      "outputs": [
        {
          "output_type": "stream",
          "name": "stdout",
          "text": [
            "['left', 'with', 'this', 'name', 'PART', 'well', 'NICK', 'name', 'U121', 'golf', 'clap', 'JOIN', 'that', 'nice', 'JOIN', 'PART', 'golf', 'clap', 'fuck', 'U121', 'PART', 'PART', 'clap', 'your', 'PART', 'dont', 'even', 'know', 'what', 'that', 'that', 'chat', 'JOIN', 'drew', 'cast', 'PART', 'sexy', 'U115', 'JOIN', 'PART', 'drew', 'girl', 'with', 'legs', 'hope', 'draw', 'PART', 'head', 'legs', 'JOIN', 'JOIN', 'good', 'JOIN', 'PART', 'take', 'have', 'docs', 'Slip', 'away', 'Fade', 'away', 'Days', 'away', 'feel', 'have', 'back', 'U115', 'U129', 'U115', 'chat', 'with', 'PART', 'JOIN', 'JOIN', 'fast', 'U116', 'bowl', 'bong', 'JOIN', 'well', 'glad', 'hard', 'from', 'here', 'back', 'PART', 'PART', 'JOIN', 'U121', 'name', 'hard', 'very', 'fire', 'from', 'here', 'JOIN', 'PART', 'itch', 'JOIN', 'U133', 'ogan', 'male', 'JOIN', 'JOIN', 'show', 'will', 'talk', 'PART', 'haha', 'opps', 'JOIN', 'PART', 'U115', 'nice', 'warm', 'guys', 'with', 'cams', 'play', 'sits', 'JOIN', 'JOIN', 'guyz', 'chat', 'U126', 'PART', 'chat', 'PART', 'gooo', 'sure', 'U126', 'JOIN', 'what', 'feel', 'like', 'room', 'yeee', 'JOIN', 'want', 'pics', 'look', 'U139', 'PART', 'PART', 'JOIN', 'here', 'JOIN', 'PART', 'JOIN', 'U139', 'PART', 'JOIN', 'U138', 'U139', 'make', 'U139', 'that', 'U126', 'late', 'lmao', 'ahah', 'PART', 'U121', 'U121', 'does', 'like', 'that', 'guys', 'male', 'JOIN', 'U139', 'well', 'what', 'yeah', 'know', 'U136', 'hell', 'with', 'U139', 'U101', 'like', 'when', 'plan', 'PART', 'JOIN', 'gold', 'jeep', 'make', 'sure', 'nice', 'ring', 'U115', 'isnt', 'that', 'U136', 'hell', 'have', 'have', 'doin', 'U139', 'U121', 'many', 'Just', 'fine', 'that', 'like', 'PART', 'hiya', 'room', 'lmao', 'doin', 'Deep', 'Show', 'that', 'love', 'that', 'Turn', 'take', 'Hand', 'just', 'even', 'look', 'hang', 'PART', 'that', 'such', 'word', 'U141', 'hear', '!!!!', 'PART', 'JOIN', 'PART', 'deaf', 'here', 'dont', 'U115', 'U115', '....', 'hugs', 'chat', 'with', 'baby', 'Only', 'U121', 'U121', 'PART', 'have', 'away', 'from', 'U121', 'what', 'read', 'here', 'with', 'JOIN', 'read', 'have', 'here', 'JOIN', 'want', 'chat', 'talk', 'U121', 'JOIN', 'U121', 'VBox', 'PART', 'take', 'that', 'JOIN', 'PART', 'hate', 'when', 'U121', 'U115', 'lmao', 'PART', 'your', 'know', 'what', 'your', 'what', 'JOIN', 'love', 'more', 'than', 'ELSE', 'serg', 'well', 'most', 'love', 'JOIN', 'know', 'that', 'what', 'lmao', 'well', 'have', 'eyes', 'lmao', 'know', 'JOIN', 'girl', 'jerk', 'kids', 'guys', 'type', 'much', 'shut', 'fuck', 'girl', 'nice', 'shut', 'fuck', 'PART', 'dont', 'want', 'JOIN', 'want', 'U115', 'what', 'miss', 'much', 'work', 'nice', 'U116', 'PART', 'PART', 'heyy', 'U148', 'hate', 'boys', 'JOIN', 'U148', 'hate', 'what', 'PART', 'hate', 'U121', 'fuck', 'your', 'ugly', 'JOIN', 'bein', 'PART', 'What', 'U115', 'whys', 'that', 'deep', 'U121', 'what', 'JOIN', 'tape', 'Your', 'sexs', 'best', 'phil', 'said', 'ugly', 'PART', 'date', 'feel', 'your', 'they', 'form', 'PART', 'sits', 'JOIN', 'sits', 'with', 'hmph', 'hate', 'does', 'that', 'mean', 'want', 'room', 'this', 'been', 'PART', 'JOIN', 'U115', 'U116', 'your', 'here', 'talk', 'wait', 'that', 'perv', 'lets', 'hope', 'U121', 'PART', 'U115', '!!!!', 'lets', 'chat', 'JOIN', 'rule', 'land', 'wont', 'then', 'find', 'need', 'this', 'HUGE', 'perv', 'that', 'deal', '????', 'JOIN', 'shit', 'hell', 'lmao', 'PART', 'hell', 'JOIN', 'here', 'guys', 'have', 'U121', 'JOIN', 'U155', 'only', 'Poor', 'U121', 'love', 'pick', 'much', 'that', 'PART', 'PART', 'sits', 'with', 'U121', 'nads', 'JOIN', 'from', 'pick', 'your', 'pick', 'your', 'nose', 'pick', 'your', 'nose', 'JOIN', 'face', 'with', 'PART', 'U115', 'owww', 'PART', 'JOIN', 'U116', 'PART', 'does', 'want', 'talk', 'head', 'gags', 'even', 'U121', 'neck', 'Meep', 'U115', 'LAst', 'time', 'that', 'wash', 'your', 'dude', 'gets', 'JOIN', 'U121', 'dang', 'just', \"pm's\", 'that', '1.99', '....', 'yeah', 'nice', 'neck', 'U115', 'like', 'shut', 'free', 'JOIN', 'goes', 'wash', 'lmao', 'Lies', 'lmao', 'U115', 'lick', 'very', 'lmao', 'U115', 'ummm', 'U109', 'dont', 'dead', 'more', 'than', 'call', 'just', 'case', 'dead', 'good', 'neck', 'talk', 'what', 'ummm', 'else', 'wont', 'bite', 'U115', 'yeah', 'wait', 'yeah', 'PART', 'your', 'want', 'have', 'sexy', 'bite', 'lmao', 'call', 'have', 'free', 'call', 'mins', 'JOIN', 'nite', 'lool', 'know', 'that', 'kina', 'give', 'away', 'then', 'room', 'call', 'yeah', 'U155', 'PART', 'U115', 'more', 'U115', 'guys', 'baby', 'U109', 'fuck', 'case', 'know', 'were', 'girl', 'JOIN', 'baby', 'what', 'U109', 'guys', 'chat', 'have', 'have', 'sext', 'piff', 'dont', 'talk', 'read', 'dang', 'lazy', 'dont', 'read', 'PART', 'JOIN', 'mean', 'fine', '....', 'busy', 'work', 'okay', 'dont', 'talk', 'calm', 'down', 'busy', 'busy', 'want', 'chat', 'arms', 'kids', 'name', 'PART', 'sits', 'down', 'eats', 'JOIN', 'hugs', 'want', 'U121', 'near', 'just', 'PART', 'JOIN', 'PART', 'hell', 'yeah', 'U115', 'near', 'near', 'good', 'smax', 'JOIN', 'haha', 'only', '>:->', 'near', 'PART', 'piff', 'VVil', 'JOIN', 'free', 'wont', 'cold', 'U121', 'cell', 'runs', 'thru', 'back', 'hair', 'eyes', 'neck', 'yeah', 'caps', 'PART', 'JOIN', 'PART', 'PART', 'U165', 'jump', 'U165', 'baby', 'here', 'over', 'your', 'good', 'PART', 'that', 'left', 'room', 'este', 'U115', 'will', 'PART', 'U121', 'U165', 'lmao', 'PART', 'PART', 'very', 'guys', 'wana', 'chat', 'chik', 'from', 'mean', 'chat', 'well', 'PART', 'that', 'dont', 'shit', 'U165', 'U165', 'left', 'room', 'with', 'your', 'JOIN', 'U115', 'what', 'list', 'wish', 'cmon', 'U128', 'nice', 'JOIN', 'list', 'PART', 'list', 'U115', 'good', 'lmao', 'U128', 'hehe', 'hows', 'bout', 'good', 'hear', 'U165', 'have', 'JOIN', 'good', 'PART', 'JOIN', 'wats', 'they', 'PART', 'piff', 'aint', 'know', 'shut', 'much', 'good', 'PART', 'JOIN', 'JOIN', 'yeah', 'lost', 'like', 'same', 'well', 'work', 'what', 'Boyz', 'rock', 'what', 'hehe', 'went', 'back', 'some', 'then', 'came', 'back', 'home', 'PART', 'what', 'they', 'coat', 'nice', 'read', 'many', 'nice', 'hehe', 'lmao', 'even', 'JOIN', 'well', 'talk', 'nite', 'what', 'very', 'time', 'What', 'kind', '....', 'nite', 'PART', 'Eyes', 'Dawn', 'last', 'song', 'LIVE', 'cool', 'good', 'nite', 'mauh', 'nite', 'mike', 'keep', 'must', 'girl', 'seem', 'pick', 'else', '....', 'take', 'your', 'your', 'JOIN', 'lmao', 'just', 'days', 'late', 'with', 'room', 'JOIN', 'PART', 'good', 'ques', 'lmao', 'JOIN', 'that', 'like', 'dont', 'quit', 'what', 'your', '4.20', 'PART', 'like', 'mine', 'over', 'cali', 'good', 'this', 'year', 'NICK', 'whoa', 'have', 'have', 'have', 'what', 'boys', 'gosh', 'that', 'ruff', 'what', 'PART', 'hell', 'rock', 'roll', 'PART', 'with', 'like', 'that', 'nope', '....', 'rest', 'rock', 'roll', '....', '....', 'sing', 'from', 'kids', '....', 'mame', 'nada', 'cali', 'here', 'that', 'cool', 'kids', 'cool', 'JOIN', 'with', 'from', 'said', 'alot', 'JOIN', 'year', 'band', 'JOIN', 'NICK', 'cool', 'nice', 'here', 'hair', 'hard', 'what', 'type', 'does', 'your', 'band', 'play', 'hair', 'yeah', 'what', 'doin', '....', 'with', 'hand', 'what', 'JOIN', 'room', '....', 'sexy', 'PART', 'dumb', 'they', 'wont', 'chat', 'with', 'lmao', 'damn', 'what', 'orgy', 'orgy', 'lmao', 'what', 'word', 'some', 'easy', 'PART', 'JOIN', 'back', 'orgy', 'lmao', 'PART', 'lets', 'play', 'room', 'PART', 'JOIN', 'JOIN', 'were', 'damn', 'PART', 'good', 'call', 'what', 'like', 'just', 'late', 'date', 'know', 'push', 'PART', 'lose', 'name', 'shit', 'head', 'long', 'time', 'said', 'shit', 'lost', 'baby', 'then', 'JOIN', 'PART', 'JOIN', 'What', 'sure', 'JOIN', 'sure', 'lmao', 'this', 'room', '....', '....', 'your', '....', 'lmao', 'that', 'yeah', 'have', 'many', 'lmao', 'sexy', 'stay', 'keep', 'lmao', 'with', 'hair', 'like', 'that', '....', 'down', 'door', 'prob', '....', 'hair', 'lmao', 'JOIN', 'sexy', 'just', 'this', 'life', 'just', 'PART', 'room', 'with', 'hair', 'like', 'what', 'from', 'here', 'said', 'wild', '....', 'even', 'from', 'JOIN', 'cool', 'sexy', 'JOIN', 'sexy', 'only', 'none', 'sexy', 'whew', 'sexy', 'hell', 'have', 'shut', 'sexy', 'damn', 'sexy', 'dark', 'have', 'seen', 'have', 'just', 'JOIN', 'does', 'waht', 'else', 'next', 'JOIN', 'test', 'self', 'JOIN', 'room', 'here', 'well', 'that', 'what', 'pass', 'once', 'that', 'been', 'JOIN', 'PART', 'over', 'over', 'book', 'word', 'PART', 'must', 'PART', 'JOIN', 'just', 'home', 'from', 'work', 'Well', 'keep', 'time', 'here', 'PART', 'over', '....', 'know', 'PART', 'JOIN', 'PART', 'that', 'lmao', 'they', 'cant', 'come', 'with', 'line', 'then', 'they', 'stay', 'away', 'from', 'lmao', 'ummm', 'yeah', 'dang', 'even', 'that', 'PART', 'some', 'with', 'male', 'chat', 'boot', 'JOIN', 'book', '....', 'away', 'from', '....', 'stop', 'that', 'JOIN', 'slap', 'hiom', 'back', '....', 'PART', 'used', 'live', 'next', 'door', 'PART', 'PART', 'live', 'HAHA', 'cute', '....', 'that', 'lmao', 'dman', 'damn', 'even', 'PART', 'just', 'PART', 'that', 'PART', '....', 'holy', 'crap', 'that', 'took', 'What', 'hate', 'what', 'took', 'crap', 'ever', 'left', 'JOIN', 'Well', 'days', '....', 'When', 'even', 'know', 'what', 'that', '....', 'talk', 'babe', 'park', 'lmao', 'them', 'jail', 'even', 'been', 'lmao', 'soon', 'tell', 'cops', 'guys', 'PART', 'been', 'once', 'stop', 'then', 'hate', 'yeah', 'JOIN', 'Sure', 'hate', 'want', 'lmao', 'good', 'look', 'much', 'JOIN', 'love', 'very', 'much', '....', 'over', 'PART', 'Come', 'down', 'hogs', 'over', 'peek', 'girl', 'help', 'know', 'MORE', 'TIME', 'this', 'just', 'that', 'look', 'like', 'here', 'what', 'care', 'JOIN', 'JOIN', 'play', '....', 'this', 'room', 'real', 'LMAO', 'from', 'soul', 'like', 'have', 'done', 'time', 'then', 'that', 'that', 'like', 'O.k.', 'what', 'fine', 'JOIN', 'make', 'here', 'Well', 'PART', 'luck', 'here', '....', 'need', 'help', '....', 'PART', 'much', 'else', 'want', 'back', 'baby', 'hows', 'that', 'loud', 'keep', 'PART', '....', 'o.k.', 'once', 'PART', '....', 'what', 'hell', 'yeah', 'JOIN', 'JOIN', 'hair', 'PART', 'over', 'hair', 'Sexy', 'lets', 'will', '....', 'does', 'hair', 'then', 'lmao', 'good', 'take', 'like', 'look', '....', 'ride', 'PART', 'JOIN', 'have', 'such', 'room', 'luck', 'sure', 'make', 'PART', 'Ctrl', 'PART', 'give', 'Well', 'O.k.', 'take', 'your', 'word', 'that', 'mama', 'Nice', 'nope', 'nope', 'nope', 'that', 'hots', 'with', 'your', 'hook', 'with', 'them', 'word', 'know', 'well', 'have', 'work', 'LMAO', 'have', 'hugs', 'awww', 'have', 'good', 'have', 'work', 'here', 'have', 'good', 'nite', 'nite', 'nite', 'Need', 'what', 'hold', 'PART', 'lady', 'with', 'hair', 'frst', 'like', 'Only', 'been', 'time', 'live', 'hook', 'your', 'like', 'shut', 'wish', 'here', 'such', 'tell', '1200', 'best', 'love', '....', 'soft', '....', 'this', 'room', '....', 'like', 'them', 'ohio', 'Like', 'whip', 'crop', 'know', 'each', '....', 'love', 'like', 'bomb', 'baby', 'come', 'Pour', 'some', 'babe', 'JOIN', 'hiya', 'bend', 'want', 'room', 'also', 'hiya', 'book', '....', 'read', '....', 'same', 'with', 'pour', 'some', 'when', 'need', 'JOIN', 'this', 'comp', 'sure', 'some', 'have', 'room', 'free', 'your', 'mind', 'with', 'nice', 'free', 'your', 'free', 'gets', 'some', 'free', 'your', 'they', 'free', 'well', 'like', 'long', 'Swim', 'Hard', 'read', 'book', 'open', 'PART', 'some', 'just', 'some', 'book', 'full', 'wear', 'work', 'JOIN', 'have', 'much', 'need', 'JOIN', 'will', 'your', 'book', 'just', 'that', 'make', 'PART', 'that', 'back', 'toss', 'hiya', '....', 'they', 'just', 'tell', 'that', 'left', 'high', 'ouch', '....', 'they', 'wear', 'work', 'PART', 'away', 'JOIN', 'well', 'find', 'yeah', 'toss', '....', 'PART', 'back', 'with', 'many', 'evil', 'twin', 'left', 'eeek', 'JOIN', 'JOIN', 'what', '????', 'some', 'just', 'thru', 'said', 'look', 'nice', 'room', 'tjhe', 'burp', 'that', 'JOIN', 'Well', '....', 'like', '....', 'fart', 'JOIN', 'true', 'just', '!!!!', 'room', 'that', 'here', '!!!!', 'PART', 'JOIN', 'PART', 'mean', '!!!!', 'room', '10th', 'heee', 'good', 'dont', 'from', 'PART', 'your', 'have', 'peel', 'soon', 'land', 'PART', 'fock', 'JOIN', 'here', 'kool', 'just', 'back', 'from', 'hiya', 'come', 'kiss', 'what', 'kool', 'with', 'cold', '????', '....', 'were', 'doin', 'Kold', 'soon', 'JOIN', 'exit', 'land', '....', 'cool', 'kool', 'that', 'kold', '....', 'well', '....', 'they', 'this', '3:45', 'MRIs', 'what', 'what', 'your', 'with', 'nice', 'JOIN', 'good', 'PART', 'amen', 'PART', '....', 'buff', 'what', 'like', 'well', 'from', 'PART', 'were', 'love', 'plus', '....', 'them', 'when', '....', 'they', 'were', 'JOIN', 'know', 'also', 'here', 'this', 'tory', 'What', 'blew', 'knee', 'left', 'that', 'heya', 'what', 'JOIN', 'damn', 'comp', 'fall', 'ever', 'date', 'ouch', 'name', 'kids', 'were', 'OOPS', 'none', 'with', 'PART', 'that', 'much', 'gets', 'JOIN', 'this', 'oooh', 'lala', 'some', 'very', 'hugs', 'they', 'need', 'fake', 'into', 'with', 'like', 'mind', 'eyes', 'none', 'like', 'JOIN', 'eyes', 'back', 'have', 'eyes', 'roll', 'know', 'ever', 'come', 'with', 'hugs', 'with', 'JOIN', 'cool', 'from', 'wait', 'ssid', 'none', 'JOIN', 'PART', 'PART', 'your', 'yeah', 'that', 'some', 'such', 'need', 'evil', 'twin', 'room', 'PART', 'this', 'yeah', 'nice', 'from', 'here', 'this', 'JOIN', 'need', 'have', 'some', 'temp', 'work', 'nice', 'JOIN', 'PART', 'blue', 'PART', 'room', 'JOIN', 'corn', 'poot', 'poop', 'line', 'bird', 'JOIN', 'corn', 'well', 'PART', 'PART', 'hope', 'lets', 'Hiya', 'have', 'been', 'rain', 'plow', '....', '....', 'here', 'have', 'with', 'take', 'main', 'room', 'your', 'they', '....', 'MODE', 'fine', 'here', 'JOIN', 'JOIN', 'this', 'Yeah', 'fall', 'good', 'back', 'PART', 'pick', 'JOIN', 'from', 'pool', 'nice', 'JOIN', 'JOIN', 'nice', 'PART', 'JOIN', 'hiya', 'just', 'hiya', 'sexy', 'hiya', 'hiya', 'JOIN', 'hiya', 'deop', 'MODE', 'JOIN', 'hugs', 'hiya', 'hiya', 'hiya', 'hiya', 'must', 'time', 'hiya', 'love', 'PART', 'hows', 'just', 'left', 'hiya', 'full', 'here', 'fine', 'here', 'have', 'work', 'fine', 'thnx', 'JOIN', 'good', 'hiya', 'just', 'roof', 'roof', 'roof', 'fire', 'that', 'doin', 'PART', 'PART', 'good', 'hear', 'that', '....', 'your', 'hear', 'that', 'just', 'card', 'hear', 'that', '....', 'hugs', 'have', 'been', 'here', 'JOIN', 'Hugs', 'lost', '((((', '))))', 'PART', 'Lord', 'uyes', 'give', 'damn', 'benz', 'just', 'well', 'week', 'lost', 'sure', 'feel', 'just', 'cash', 'PART', 'PART', 'does', 'PART', 'hear', 'sing', 'away', 'JOIN', 'PART', '....', 'said', '....', 'come', 'with', 'Hiya', 'wait', 'were', 'call', 'Hiya', 'that', 'into', 'good', 'nice', 'here', 'JOIN', '<~~~', 'will', 'play', 'nice', 'grrr', 'pics', 'from', 'Hiya', 'miss', 'ears', 'wait', 'they', 'have', 'that', 'nice', 'disc', 'LONG', 'does', 'this', 'take', 'Been', 'over', 'hour', 'nice', 'real', 'life', 'play', 'nice', '....', 'long', 'time', 'many', 'that', 'come', 'From', 'long', 'time', 'know', 'with', 'long', 'been', 'last', 'PART', 'been', 'Will', 'this', 'well', 'know', 'porn', 'well', 'yeah', 'like', 'that', 'know', 'good', 'luck', 'back', 'will', 'work', 'have', 'PART', 'CHAT', 'just', 'hiya', 'JOIN', 'just', 'call', 'heya', 'yeah', 'told', 'last', 'have', 'week', 'hows', 'your', 'goin', 'back', '....', 'boss', 'from', 'well', 'time', 'last', 'call', 'dont', 'work', 'heal', 'girl', 'away', 'will', 'hour', 'talk', 'like', 'were', 'pain', 'your', 'quit', 'work', 'JOIN', 'JOIN', '....', 'down', 'time', 'PART', 'main', 'room', 'find', 'your', 'game', 'such', 'like', 'what', 'bloe', '????', 'PART', 'blow', 'here', 'hooo', 'Dang', 'PART', 'know', '....', 'hiya', 'babe', 'this', 'game', 'ciao', 'they', 'cant', 'read', 'PART', 'here', 'many', 'DOES', 'take', '????', 'U520', 'lick', 'kick', 'good', 'PART', 'thje', 'same', 'yeah', 'U520', 'hell', 'good', 'know', 'U520', 'good', 'U520', 'U520', 'were', 'last', 'ever', 'come', 'back', 'Jess', 'came', 'back', 'Yeah', 'back', 'hear', 'nick', 'like', 'that', 'PART', 'U520', 'JOIN', 'JOIN', 'yeah', 'typo', 'ummm', 'yeah', 'typo', 'NICK', 'what', 'ride', 'JOIN', 'with', 'when', 'came', 'name', 'like', 'even', 'glad', 'back', 'like', 'lmao', 'like', 'ahhh', 'know', 'yeah', 'have', 'JOIN', 'JOIN', 'said', 'used', 'with', 'like', 'look', 'pink', 'JOIN', 'lmao', 'pink', 'took', 'long', 'time', 'JOIN', 'PART', 'JOIN', 'come', 'back', 'just', 'with', 'long', 'term', 'with', 'this', 'girl', 'over', 'last', 'they', 'beer', 'PART', 'JOIN', 'hiya', 'JOIN', 'PART', 'JOIN', 'lmao', 'Stop', 'room', 'amen', 'PART', 'JOIN', 'JOIN', 'PART', 'what', 'JOIN', 'PART', 'well', 'then', 'Tina', 'here', '....', 'want', 'left', 'love', 'your', 'cool', 'here', 'with', 'pink', 'nice', '....', 'soft', 'long', 'time', 'type', '....', 'lmao', 'down', 'stop', 'with', 'room', 'cool', 'away', 'lmao', 'ooer', 'damn', '....', 'that', 'cool', 'hate', 'babe', 'they', 'seem', 'long', 'ahem', 'much', 'last', 'HALO', 'hows', 'Awww', 'dear', '!!!!', 'hola', 'cool', 'What', 'doin', 'Dang', 'well', 'tell', 'stop', 'anal', 'PART', 'good', '....', 'busy', 'very', 'busy', 'good', 'good', 'dear', 'love', 'that', 'call', 'good', 'eric', 'back', 'Drop', 'caps', 'what', 'dont', 'take', 'over', 'cool', 'yeah', 'well', 'hope', 'dojn', 'fine', 'babe', 'rock', 'long', 'know', 'same', 'busy', 'busy', 'then', 'wubs', 'mkay', 'this', 'fast', 'just', 'babe', 'just', 'your', 'butt', 'here', 'then', 'word', 'from', 'your', 'what', 'need', 'like', 'take', 'ride', 'JOIN', 'last', 'spat', 'said', 'that', 'what', 'call', 'your', 'soon', 'poor', 'will', 'gone', 'same', 'have', 'real', 'once', 'hehe', 'babe', 'imma', 'make', 'gees', 'JOIN', 'know', 'Drew', 'hawT', 'many', 'hate', 'hate', 'Drew', 'have', 'only', 'long', 'town', 'that', 'PART', 'even', 'JOIN', 'JOIN', 'damn', 'even', 'have', 'hola', 'hugs', 'hiya', 'sore', 'with', 'back', 'cold', 'runs', 'cold', 'yes.', 'that', 'with', 'like', 'puts', 'book', 'from', 'fish', 'JOIN', 'when', 'tell', 'Well', 'know', 'size', 'with', 'hawt', 'LMAO', 'hugs', 'from', 'goes', 'look', 'haha', 'Live', '39.3', '2006', 'Elev', 'Wind', 'back', 'High', '1980', 'back', 'goes', 'look', 'your', 'that', 'Live', '64.8', 'want', 'says', 'That', 'AKDT', '2006', 'Elev', 'Wind', 'nice', 'AKDT', 'AKDT', 'pfft', 'PART', 'sigh', 'PART', 'from', 'dang', 'cold', 'syck', 'JOIN', 'tere', 'said', 'talk', 'here', 'suck', 'even', 'good', 'here', 'ohhh', 'U542', 'sent', 'PART', 'only', 'talk', 'know', 'like', 'goes', 'look', '45.5', '98.5', '2006', 'Elev', '1299', 'hits', 'Wind', 'chat', '1900', 'shit', 'High', '1930', 'JOIN', 'know', 'list', 'that', 'only', 'talk', 'KoOL', 'LMAO', 'tell', 'Werd', 'PART', 'Rofl', 'hiya', '....', 'lmao', 'yeah', 'well', 'then', 'wont', 'talk', 'only', 'kool', 'such', 'have', 'have', 'lead', 'mode', 'want', 'does', 'that', 'make', 'chat', 'make', 'feel', 'days', 'PART', 'nawt', 'your', 'lmao', 'dang', 'come', 'back', 'that', 'feel', 'yeah', 'awww', 'what', 'your', 'know', 'past', 'life', 'DING', 'DING', 'DING', 'imma', 'want', 'make', 'love', 'JOIN', 'then', 'your', 'okay', 'same', 'then', 'talk', 'love', 'baby', 'cant', 'Love', 'JOIN', 'good', '####', 'yeah', 'MODE', 'What', 'your', 'sign', 'woof', 'many', 'were', 'same', 'JOIN', 'they', 'just', 'nose', 'cold', 'love', 'when', 'take', 'ever', 'were', 'even', 'gets', 'damn', 'sum1', 'ghet', 'yeah', 'keep', 'here', 'chat', 'even', 'brad', 'PART', 'keep', 'jerk', 'this', 'PART', 'PART', 'here', 'note', 'your', 'just', 'lmao', 'like', 'meat', 'offa', 'hard', 'like', 'some', 'guys', 'pass', 'does', 'help', 'that', 'that', 'what', 'most', 'roll', 'tell', 'were', 'same', 'room', 'rule', 'most', 'JOIN', 'well', '....', 'make', 'jump', 'jump', 'PART', 'shes', 'Dood', 'face', 'then', 'tell', 'JOIN', 'just', 'out.', 'want', 'tell', 'like', 'know', 'tell', 'feel', 'chat', 'dont', 'like', 'play', 'with', 'your', 'meat', '....', '!!!.', 'late', 'lmao', 'your', 'done', 'with', 'call', 'more', 'dont', 'like', 'that', 'lmao', 'LOUD', 'need', 'even', 'JOIN', 'sink', 'from', 'here', 'hiya', 'PART', 'dang', 'some', 'know', 'look', 'make', 'that', 'wall', 'PART', 'ohhh', 'imma', 'look', 'just', 'bend', 'over', 'will', 'lmao', 'your', 'poor', 'wall', 'JOIN', 'JOIN', 'JOIN', 'just', 'yeah', 'butt', 'your', 'FINE', 'they', 'they', 'PART', 'argh', 'fart', 'away', 'oops', 'lmao', 'JOIN', 'gawd', 'head', 'just', 'keep', 'hiya', 'they', 'they', 'sure', 'hell', 'PART', 'haha', 'JOIN', 'PART', 'pfft', 'care', 'they', 'lead', 'yeah', 'away', 'song', 'seen', 'just', 'dead', 'cums', 'LMAO', 'PART', 'PART', 'good', 'whoa', 'that', 'some', 'loss', '....', 'sits', 'need', 'that', 'with', 'limp', 'rent', 'over', 'limp', 'Have', 'seen', 'good', 'been', 'cant', 'wait', 'cars', 'come', 'NICK', 'cars', 'Yeah', 'that', 'nick', 'love', 'NICK', 'just', 'love', 'JOIN', 'lmao', 'Life', 'hiya', 'love', 'JOIN', 'hiya', 'PART', 'chat', 'NICK', 'PART', 'lady', 'NICK', 'like', 'that', 'Damn', 'wrap', 'give', 'them', 'NICK', 'need', 'PART', 'PART', 'PART', 'left', 'real', 'fast', 'JOIN', 'JOIN', 'NICK', 'good', 'JOIN', 'NICK', 'were', 'NICK', 'PART', 'cant', 'have', 'good', 'hear', 'your', 'name', 'PART', 'were', 'Tell', 'this', 'time', 'hide', 'were', \"PM's\", 'just', 'JOIN', 'PART', 'kids', 'once', 'went', 'into', 'Talk', 'tell', 'true', 'what', 'want', 'over', 'okey', 'back', 'worl', 'PART', 'JOIN', 'have', 'good', 'were', 'full', 'half', 'lets', 'next', 'shop', 'your', 'your', 'love', 'cmon', 'make', 'like', 'your', 'JOIN', 'JOIN', 'PART', 'JOIN', 'hiya', 'back', 'need', 'heal', 'soul', 'Hold', 'PART', 'come', 'PART', 'hiya', 'room', 'Hiya', 'hiya', 'hugs', 'JOIN', 'gone', 'PART', 'cant', 'help', 'lmao', 'good', 'dont', 'that', 'PART', 'hugs', '))))', 'tell', 'good', 'says', 'some', 'pics', 'sure', 'aint', 'such', 'good', 'JOIN', 'lmao', 'well', '....', 'cepn', 'well', 'with', 'that', 'your', 'good', 'well', 'lmao', 'ouch', 'lots', 'dear', 'JOIN', 'haha', 'have', 'seen', 'Mary', 'hiya', 'PART', 'JOIN', 'mary', 'hiya', 'hiya', 'that', 'U172', 'hiya', 'JOIN', 'nawp', 'aint', 'seen', 'oops', 'only', 'mary', 'lmao', 'more', 'like', 'PART', 'addy', 'pics', 'hiya', 'will', 'long', 'lake', 'have', 'come', 'with', 'been', 'bout', 'JOIN', 'know', 'what', 'mean', 'JOIN', 'must', 'back', 'room', 'here', 'room', 'ROOM', 'sigh', 'sigh', 'JOIN', 'lmao', 'good', '!!!!', 'tell', 'said', 'that', 'ello', 'back', 'room', 'hugs', 'that', 'good', 'were', 'heyy', 'hiya', 'find', 'back', 'room', 'lmao', 'room', 'here', 'hugs', 'tell', 'slip', 'mind', 'fall', 'open', 'your', 'eyes', 'PART', 'lmao', '....', 'lead', 'mite', 'lmao', 'busy', 'busy', 'busy', ',,,,', 'JOIN', 'ello', 'hiya', 'what', 'hear', 'back', 'JOIN', 'lmao', 'meet', 'hope', 'name', 'lost', 'last', 'wood', 'lmao', 'like', 'knew', 'with', 'good', 'lord', 'long', 'have', 'said', 'this', 'stay', 'away', 'till', 'this', 'over', 'even', 'just', 'call', 'lmao', 'lmao', '....', 'tell', 'they', 'lose', 'that', 'PART', '<---', 'even', 'they', 'hell', 'aint', '####', 'make', 'have', 'pick', 'five', '....', 'that', 'just', 'lmao', 'dont', 'them', 'orta', 'good', 'like', 'JOIN', 'will', 'wins', 'hiya', 'some', 'sell', 'your', 'soul', 'will', 'ebay', 'nice', 'coem', 'like', 'come', 'haha', 'damn', 'what', 'gets', 'well', 'they', 'were', 'only', 'only', 'near', '....', 'goes', 'find', '....', 'giva', '1.98', 'JOIN', 'here', 'JOIN', 'year', '....', 'life', 'this', 'last', 'year', 'best', 'hiya', 'hiya', 'pick', 'rule', 'does', 'that', 'make', 'PART', 'good', 'rule', 'JOIN', 'here', '!!!!', 'what', 'goes', '....', 'PART', '))))', 'ball', '<<<<', 'hick', 'city', 'hick', 'PART', 'good', 'then', 'like', 'gets', 'hick', 'back', 'from', 'ally', 'with', 'wine', 'with', 'JOIN', 'know', 'when', '....', 'JOIN', 'PART', 'find', 'yard', 'when', 'JOIN', 'MODE', 'hiii', 'know', 'true', 'just', 'that', 'here', 'sure', 'Judy', 'deop', 'ever', 'MODE', 'JOIN', 'lmao', 'hiya', 'stay', 'came', 'dang', 'yall', 'quit', 'much', 'perv', 'here', 'call', 'PART', 'that', 'they', 'have', 'good', 'PART', 'cyas', 'yall', 'PART', 'JOIN', 'took', 'care', 'dont', 'much', 'that', 'they', 'ever', 'seen', 'know', 'were', 'will', 'grrl', 'PART', 'lmao', 'heya', 'they', 'lost', '....', 'perv', 'when', 'name', 'shup', 'keep', 'perv', 'heya', 'fall', 'JOIN', 'PART', 'JOIN', 'mean', 'perv', 'main', 'room', 'cant', 'read', 'tooo', 'heya', 'back', 'look', 'what', 'lmao', '>:->', 'hear', 'hiya', 'hiya', 'JOIN', 'will', 'take', 'over', 'room', \"pm'n\", 'hear', 'heya', 'lmao', 'home', 'sick', 'want', 'choc', 'chip', 'chip', 'PART', 'sure', 'your', 'crap', 'bear', 'bare', 'case', 'mmmm', 'here', 'PART', 'they', 'wher', 'been', 'bare', 'aint', 'that', 'made', 'ones', 'good', 'lord', 'some', 'awww', 'dont', 'PART', 'from', 'room', 'here', 'JOIN', 'nope', 'this', 'time', 'foot', 'hold', 'PART', 'PART', 'been', 'life', 'last', 'hour', 'whoo', 'dint', 'send', 'that', 'need', 'hiya', 'hour', 'said', 'time', 'damn', 'well', 'like', 'lmao', 'PART', 'nice', 'hour', 'lmao', 'time', 'well', 'just', 'make', 'PART', 'that', 'have', 'lmao', 'with', 'that', 'yeah', 'that', 'till', 'have', 'comp', 'over', 'stop', 'kids', 'with', 'that', 'good', 'time', 'lost', 'PART', 'that', 'PART', 'full', 'perv', 'JOIN', 'tend', 'lost', 'lost', 'vote', 'full', 'need', 'hiya', 'full', 'then', 'PART', 'sits', 'down', 'perv', 'here', 'JOIN', 'with', 'hiya', 'hiii', 'PART', 'then', 'here', 'much', 'legs', 'ever', 'uses', 'help', 'with', 'DONT', 'they', 'will', 'next', 'legs', 'menu', 'tell', 'time', 'PART', 'will', 'send', 'JOIN', 'what', 'time', 'this', 'room', 'that', 'work', 'your', '....', 'hand', 'lust', 'hiya', 'hugs', 'nods', 'have', 'with', 'JOIN', 'JOIN', 'JOIN', 'PART', 'JOIN', 'JOIN', 'here', 'just', 'they', 'live', 'wont', 'stop', 'when', 'PART', 'JOIN', 'PART', 'PART', 'JOIN', 'Liam', 'This', 'what', '; ..', 'this', 'song', 'been', '.. .', 'this', 'song', 'JOIN', 'PART', 'JOIN', 'room', 'JOIN', 'well', 'PART', 'JOIN', 'cool', 'NAME', 'PART', 'PART', 'have', 'them', 'this', 'kept', 'male', 'know', 'that', 'alot', 'like', 'that', 'PART', 'JOIN', 'name', 'bout', 'once', 'name', 'chat', 'with', 'JOIN', 'PART', 'JOIN', 'PART', 'JOIN', 'PART', 'PART', 'PART', 'once', 'more', 'Your', 'name', 'male', 'name', 'JOIN', 'like', 'JOIN', 'PART', 'JOIN', 'what', 'like', 'PART', 'Liam', 'This', 'what', 'Come', 'this', 'song', 'been', '.. .', 'this', 'song', 'this', 'room', 'sits', 'hits', 'love', 'JOIN', 'PART', 'mine', 'good', 'even', 'PART', 'Same', 'here', 'PART', 'dont', 'feel', 'cant', 'left', 'feet', 'what', 'into', 'PART', 'PART', 'rock', 'good', 'here', 'seen', 'away', 'free', 'xbox', 'with', 'PART', 'scuk', 'raed', 'them', 'JOIN', 'xbox', 'Song', 'JOIN', 'JOIN', 'dont', 'like', 'xbox', 'huge', 'make', 'hand', 'PART', 'dont', 'need', 'xbox', 'they', 'chat', 'PART', 'PART', 'PART', 'JOIN', 'JOIN', 'JOIN', 'MODE', 'Then', 'what', 'like', 'have', 'true', 'JOIN', 'yall', 'wack', 'JOIN', 'JOIN', 'like', 'play', 'Liam', 'This', 'what', '; ..', 'Like', 'this', 'song', 'been', '.. .', 'this', 'song', 'love', 'rule', 'woot', 'JOIN', 'JOIN', 'some', 'good', 'JOIN', 'very', 'true', 'PART', 'Have', 'guys', 'PART', 'what', 'have', 'yeah', 'dont', 'know', 'much', 'bugs', 'work', 'your', 'blah', 'blah', 'blah', 'just', 'made', 'JOIN', 'true', 'like', 'just', 'your', 'sort', 'like', 'PART', 'that', 'what', 'game', 'have', 'idea', 'what', 'JOIN', 'PART', 'haha', 'JOIN', 'even', 'know', 'what', 'your', 'that', 'dude', 'just', 'that', 'said', 'that', 'nice', 'PART', 'PART', 'guys', 'free', 'JOIN', 'even', 'work', 'PART', 'PART', 'just', 'days', 'rent', 'many', 'want', 'free', 'like', 'that', 'shes', 'same', 'huge', 'game', 'nerd', 'know', 'talk', 'make', 'play', 'PART', 'used', 'JOIN', 'gets', 'them', 'like', 'have', 'hard', 'time', 'good', 'like', 'girl', 'game', 'JOIN', 'love', 'play', 'JOIN', 'hate', 'girl', 'like', 'Hill', 'Evil', 'well', 'best', 'like', 'like', 'good', 'play', 'full', 'game', 'JOIN', 'PART', 'JOIN', 'Yeah', 'girl', 'play', 'love', 'PART', 'nice', 'JOIN', 'PART', 'saME', 'Nice', 'what', 'JOIN', '2Pac', 'Time', 'good', 'U110', 'with', 'must', 'game', 'then', 'nice', 'your', 'girl', 'PART', 'JOIN', 'PART', 'pimp', 'U108', 'JOIN', 'hope', 'girl', 'have', 'been', 'like', 'that', 'park', 'PART', 'PART', 'that', 'suck', 'free', 'just', 'Liam', 'This', 'what', '; ..', 'this', 'song', 'been', '.. .', 'this', 'song', 'Lies', 'JOIN', 'JOIN', 'shot', 'lies', 'hear', 'lies', 'snow', 'huge', 'JOIN', 'what', 'does', 'know', 'hurt', 'What', 'PART', 'haaa', 'mind', 'Stop', 'sick', 'girl', 'sick', 'girl', 'JOIN', 'JOIN', 'what', 'have', 'temp', 'JOIN', 'U119', 'JOIN', 'JOIN', 'wish', 'then', 'have', 'work', 'good', '98.6', 'PART', 'JOIN', 'JOIN', \"it's\", 'JOIN', 'Mono', 'from', 'Liam', 'This', 'what', '; ..', 'this', 'song', 'been', '.. .', 'this', 'song', 'well', 'have', 'that', 'nice', 'PART', 'mono', 'what', 'heck', 'that', 'best', 'luck', 'JOIN', 'made', 'with', 'team', 'PART', 'much', 'U119', 'PART', 'JOIN', 'whud', 'room', 'ahhh', 'PART', 'PART', 'team', 'PART', 'PART', 'whud', 'room', 'JOIN', 'MODE', 'were', 'JOIN', 'PART', 'Bone', 'Days', 'JOIN', 'PART', 'JOIN', 'U122', 'U122', 'U122', 'MODE', 'U122', 'PART', 'JOIN', 'JOIN', 'JOIN', 'JOIN', 'JOIN', 'U122', 'U122', 'U122', 'MODE', 'U122', 'U122', 'U122', 'MODE', 'PART', 'JOIN', 'MODE', 'PART', 'back', 'PART', 'JOIN', 'MODE', 'PART', 'PART', 'opps', 'JOIN', 'MODE', 'PART', 'PART', 'JOIN', 'MODE', 'from', 'made', 'with', 'team', 'that', 'team', 'JOIN', 'PART', 'JOIN', 'MODE', 'PART', 'JOIN', 'MODE', 'room', 'that', 'PART', 'U122', 'U122', 'U122', 'MODE', 'U122', 'U122', 'U122', 'MODE', 'JOIN', 'MODE', 'U122', 'hiya', 'PART', 'PART', 'JOIN', 'MODE', 'JOIN', 'JOIN', 'U122', 'U122', 'U122', 'MODE', 'U122', 'U122', 'U122', 'MODE', 'knew', 'PART', 'U122', 'U122', 'U122', 'MODE', 'U122', 'U122', 'U122', 'MODE', 'PART', 'JOIN', 'JOIN', 'MODE', 'JOIN', 'PART', 'JOIN', 'Liam', 'This', 'what', '; ..', 'Hero', 'They', 'Came', 'this', 'song', 'been', '.. .', 'this', 'song', '.op.', 'dont', 'talk', 'PART', 'PART', 'have', 'away', 'from', 'lost', 'What', 'hell', 'U122', 'here', 'That', 'alot', 'MODE', 'PART', 'alot', 'PART', 'PART', 'U122', 'JOIN', 'U119', 'U122', 'sick', 'here', 'hott', 'PART', 'PART', 'cool', 'PART', 'PART', 'hiya', 'PART', 'that', 'have', 'Hott', 'mean', 'ugly', 'JOIN', 'MODE', 'PART', 'PART', 'JOIN', 'MODE', 'PART', 'with', 'They', 'PART', 'JOIN', 'JOIN', 'PART', 'Same', 'here', 'PART', 'JOIN', 'come', 'left', 'PART', 'PART', 'Liam', 'This', 'what', '; ..', 'Down', 'Joey', 'this', 'song', 'been', '.. .', 'this', 'song', 'PART', 'PART', 'JOIN', 'Jane', 'JOIN', 'JOIN', 'PART', 'span', 'long', 'JOIN', 'feel', 'your', 'pain', 'JOIN', 'JOIN', 'JOIN', 'your', 'just', '.. .', 'want', 'some', 'They', 'have', 'chat', 'just', 'like', 'what', 'evil', 'JOIN', 'PART', 'PART', 'PART', 'yeah', 'that', 'will', 'just', 'PART', 'PART', 'PART', 'JOIN', 'they', 'want', 'stay', 'this', 'room', 'PART', 'true', 'JOIN', 'chat', 'with', 'girl', 'PART', 'PART', 'like', 'chat', 'PART', 'PART', 'sort', 'JOIN', 'seen', 'much', 'JOIN', 'PART', 'JOIN', 'used', 'work', 'JOIN', 'talk', 'sore', 'room', 'JOIN', 'PART', 'PART', 'PART', 'PART', 'PART', 'JOIN', 'woot', 'back', 'boss', 'wore', 'time', 'Liam', 'This', 'what', '; ..', 'this', 'song', 'been', '.. .', 'this', 'song', 'JOIN', 'PART', 'JOIN', 'JOIN', 'JOIN', 'note', 'QUIT', 'pasa', 'Same', 'here', 'your', 'boss', 'barn', 'JOIN', 'boss', 'play', 'joke', 'dont', 'know', 'what', 'JOIN', 'Kick', 'that', 'feat', 'Back', 'chat', 'kick', 'PART', 'feel', 'like', 'even', 'more', 'Lets', 'PART', 'JOIN', 'best', 'ever', 'have', 'baby', 'give', 'good', 'PART', 'need', 'here', 'ahem', 'what', 'dork', 'heyy', 'girl', 'guys', 'JOIN', 'give', 'good', 'when', 'type', 'just', 'wait', 'home', 'Liam', 'This', 'what', '; ..', 'When', 'this', 'song', 'been', '.. .', 'this', 'song', 'JOIN', 'dont', 'cant', 'PART', 'JOIN', 'JOIN', 'JOIN', 'chat', 'JOIN', 'PART', 'only', 'with', 'with', 'home', 'best', 'PART', 'rule', 'like', 'chat', 'that', 'like', 'laid', 'that', 'U122', 'back', 'with', 'that', 'have', 'club', 'well', 'that', 'JOIN', 'U122', 'JOIN', 'lost', 'mine', 'JOIN', 'PART', 'Home', 'JOIN', 'PART', 'that', 'ways', 'have', 'herd', 'have', 'with', 'part', 'PART', 'JOIN', 'PART', 'just', 'Born', 'PART', 'PART', 'guys', 'here', 'Liam', 'This', 'what', '; ..', 'Away', 'Tide', 'this', 'song', 'been', '.. .', 'this', 'song', 'hate', 'adds', 'they', 'keep', 'room', 'JOIN', 'PART', 'guys', 'wana', 'chat', 'take', 'away', 'last', 'hope', 'here', 'jush', 'Cute', 'GrlZ', 'just', 'does', 'mean', 'have', 'soul', 'told', 'sure', 'bout', 'that', 'JOIN', 'hear', 'perv', 'tell', 'here', 'chat', 'with', 'PART', 'haha', 'JOIN', 'PART', 'PART', 'PART', 'JOIN', 'have', 'lung', 'JOIN', 'SOME', 'U156', 'PART', 'dont', 'mind', 'call', 'U156', 'good', 'main', 'room', 'find', 'blah', 'your', 'game', 'your', 'chat', 'room', 'chat', 'PART', 'JOIN', 'JOIN', 'JOIN', 'Here', 'Poor', 'girl', 'JOIN', 'Lion', 'When', 'Here', 'JOIN', 'hawt', 'lets', 'make', 'with', 'with', 'brat', 'PART', 'JOIN', 'hell', 'yeah', 'away', 'from', 'just', 'have', 'back', 'each', 'want', 'chat', 'move', 'come', 'Down', 'only', 'road', 'born', 'walk', 'PART', 'girl', 'JOIN', 'PART', 'from', 'PART', 'guys', 'cute', 'here', 'from', 'home', ':o *', 'PART', 'face', 'JOIN', 'what', '....', 'from', 'lose', 'when', 'pfft', 'JOIN', 'PART', 'PART', 'JOIN', 'JOIN', 'MODE', 'MODE', 'land', 'sits', 'PART', 'JOIN', 'haha', 'JOIN', 'PART', 'MUAH', 'heya', 'JOIN', 'heya', 'oops', 'JOIN', 'PART', 'JOIN', 'JOIN', 'PART', 'nice', 'what', 'miss', 'what', 'fawk', 'goin', 'much', 'PART', 'much', 'dust', 'time', 'chat', 'kick', 'back', 'fool', 'Help', 'PART', 'JOIN', 'felt', 'like', 'seth', 'glad', 'that', 'have', 'good', 'PART', 'ever', 'gets', 'dont', 'PART', 'JOIN', 'haha', 'haha', 'PART', 'JOIN', 'lmao', 'many', 'U105', 'Heya', 'U105', 'U105', 'JOIN', 'U105', 'JOIN', 'U105', 'does', 'your', 'hang', 'here', 'U105', 'last', 'time', 'JOIN', 'over', 'back', 'U107', 'U107', 'that', 'wOOt', 'wOOt', 'chat', 'then', 'bone', 'come', 'fine', 'wait', '....', 'lose', 'PART', 'U105', '....', 'JOIN', 'PART', 'Like', 'U107', 'over', 'does', 'wack', 'what', 'that', 'abou', 'tthe', 'rest', 'over', 'head', 'U105', 'nope', 'JOIN', 'your', 'easy', 'beat', 'true', 'true', 'PART', 'yawn', 'lost', 'hawt', 'PART', 'JOIN', 'comp', 'damn', 'PART', 'JOIN', 'PART', 'U105', 'PART', 'that', 'area', 'just', 'here', 'PART', 'JOIN', 'JOIN', 'here', 'PART', '?!?!', 'from', 'from', 'here', 'PART', 'here', 'U103', 'JOIN', 'U105', 'well', 'U105', 'well', 'said', 'Even', 'that', 'lost', 'here', 'Ohio', 'here', '?!?!', 'says', 'that', 'U105', 'tell', 'ohio', 'easy', 'beat', 'just', 'have', 'hook', 'U107', 'herE', 'near', 'live', 'Hail', 'hail', 'hail', 'hail', 'best', 'KoOL', 'JOIN', 'from', 'lmao', 'U105', 'yeah', 'from', 'live', 'lmao', 'U112', 'U105', 'U107', 'that', 'show', 'lmao', 'U105', 'PART', 'male', '<---', 'halo', 'very', 'grrl', 'PART', 'that', 'show', 'that', 'yeah', '####', 'sits', 'LMAO', 'damn', 'U105', 'male', 'seem', 'date', 'boys', 'mama', 'from', 'lose', 'sits', 'with', 'lmao', 'girl', 'true', 'U107', 'year', 'JOIN', '<---', 'talk', 'make', 'good', 'Lets', 'make', 'nice', 'meet', 'U107', '!!!!', 'PART', 'JOIN', 'PART', 'male', 'U105', 'PART', 'wait', '....', 'know', 'JOIN', 'PART', 'U105', 'U115', 'U105', 'dude', 'girl', 'U105', 'lmao', 'PART', 'JOIN', 'JOIN', 'PART', 'grrr', 'JOIN', '....', 'been', 'busy', 'PART', 'this', 'many', 'comp', 'JOIN', 'grrr', 'pork', 'U105', 'busy', 'DONT', 'lmao', 'JOIN', 'next', 'time', 'U115', 'near', 'U105', 'even', 'kent', 'hiya', 'well', 'lmao', 'care', 'chat', 'look', 'have', 'well', 'told', 'once', 'cute', 'just', 'your', '1cos', 'U115', \"yw's\", 'JOIN', 'face', 'PART', 'U119', 'face', 'like', 'U107', 'your', 'mark', 'U115', 'PART', 'blue', 'U105', 'like', 'lmao', 'U115', 'know', 'wait', 'over', 'with', 'sick', 'them', 'humm', 'here', 'lmao', 'dotn', 'U105', 'newp', 'hate', 'sits', 'back', 'JOIN', 'room', 'hugs', 'U115', 'JOIN', 'tell', 'U107', 'PART', 'JOIN', 'This', 'sure', 'JOIN', 'PART', 'from', 'here', 'PART', 'talk', 'very', 'JOIN', 'does', 'vote', 'know', 'know', 'slap', 'That', 'show', 'U107', 'know', 'what', 'that', 'JOIN', 'good', 'ones', 'even', 'vote', 'PART', 'have', 'name', 'from', 'want', 'gays', 'have', 'U120', 'JOIN', 'nose', 'U107', 'nose', '<<<<', 'gays', 'MODE', 'U112', 'PART', 'MODE', 'PMSL', 'PART', 'JOIN', 'JOIN', 'PART', 'PART', 'pmsl', 'JOIN', 'PART', 'they', 'PART', 'PART', 'JOIN', 'ohhh', 'PART', 'JOIN', 'JOIN', 'JOIN', 'fire', '....', 'JOIN', 'PART', 'JOIN', 'PART', 'gift', 'PART', 'U115', 'U105', 'PART', 'PART', 'PART', 'U105', 'PART', 'lmao', 'hate', 'this', 'zone', 'will', 'JOIN', 'haha', 'U103', 'when', 'that', 'have', 'hint', 'left', 'PART', 'U129', 'JOIN', 'hmmm', 'U105', 'here', 'hint', 'PART', 'JOIN', 'U129', 'U129', 'sure', 'well', 'girl', 'hell', 'outs', 'comp', 'hiii', 'U105', 'U128', 'JOIN', 'U130', 'U130', 'just', '!!!.', 'U105', 'U115', 'PART', 'JOIN', 'U130', 'open', 'good', 'U105', 'busy', 'busy', 'good', 'does', 'chat', 'here', 'JOIN', 'lady', 'like', 'talk', 'JOIN', 'U129', 'from', 'PART', 'PART', 'busy', 'busy', 'good', 'good', 'that', 'here', 'find', 'JOIN', 'PART', 'lmao', '((((', 'Paul', '))))', 'PART', 'JOIN', 'PART', 'male', 'PART', 'JOIN', 'PART', 'JOIN', 'PART', '))))', 'PART', 'JOIN', 'outa', 'PART', 'JOIN', 'just', 'send', 'have', 'PART', 'PART', 'U105', 'soon', 'send', 'PART', 'here', 'PART', 'PART', 'JOIN', 'JOIN', 'want', 'chat', 'U105', 'JOIN', 'PART', 'U115', 'PART', 'JOIN', 'PART', 'then', 'goin', 'work', 'U110', 'soon', 'also', 'have', 'good', 'good', 'lmao', 'from', 'good', 'nite', 'JOIN', 'JOIN', 'U121', 'that', 'good', 'PART', 'just', 'want', 'chat', 'York', 'JOIN', 'JOIN', 'PART', 'baby', 'PART', 'nana', 'PART', 'PART', 'shut', 'JOIN', 'From', 'JOIN', 'ello', 'U121', 'from', 'PART', 'nice', 'well', 'U121', 'want', 'call', 'U121', 'JOIN', 'JOIN', 'that', 'chat', 'with', 'year', 'male', 'some', 'call', 'U121', 'will', 'call', 'U121', 'JOIN', 'PART', 'fine', 'fine', 'yeah', 'that', 'what', 'want', 'nick', 'name', 'JOIN', 'back', 'humm', 'PART', 'PART', 'U110', 'call', 'baby', 'JOIN', 'U104', 'JOIN', 'PART', 'room', 'guys', 'PART', 'JOIN', 'U130', 'cant', 'U121', 'kill', 'PART', 'JOIN', 'dude', 'stop', 'that', 'fuck', 'U104', 'many', 'cant', 'that', 'PART', 'love', 'fuck', 'hmmm', 'U110', 'just', 'call', 'U110', 'tell', 'that', 'they', 'long', 'lmao', 'PART', 'lmao', 'JOIN', 'U110', 'runs', 'over', 'hugs', 'U110', 'that', 'PART', 'seen', 'U196', 'come', 'give', 'U104', 'U196', 'U196', 'U196', 'Last', 'seen', 'bout', 'baby', 'U110', 'baby', 'feel', 'U104', 'that', 'idea', 'care', 'chat', 'sexy', 'nana', 'runs', 'over', 'hugs', 'sexy', 'nana', 'that', 'mean', 'JOIN', 'stop', 'dont', 'that', 'lmao', 'U132', 'JOIN', 'well', 'fuck', 'U110', 'sits', 'book', 'JOIN', 'Care', 'Chat', 'that', 'from', 'lmao', 'U104', 'spin', 'over', 'U121', 'will', '....', 'PART', 'goes', 'PART', 'stop', 'U106', 'JOIN', 'U121', 'must', 'U106', 'lady', 'whos', 'been', 'with', 'woot', 'woot', 'JOIN', 'ewww', 'stop', 'lmao', 'PART', 'Have', 'ever', 'been', 'pink', 'nope', 'U110', 'give', 'U110', 'feel', 'What', 'your', 'fear', 'PART', 'baby', 'with', 'JOIN', 'U104', 'fuck', 'U110', 'tell', 'that', 'they', 'long', 'JOIN', 'PART', 'JOIN', 'pass', 'babe', 'back', 'JOIN', 'PART', 'awww', 'JOIN', 'here', 'back', 'PART', 'JOIN', 'dies', 'know', 'U110', 'your', 'wife', 'same', 'baby', 'room', 'lady', 'dont', 'baby', 'givs', 'your', 'wife', 'haha', 'come', 'give', 'PART', 'JOIN', 'what', 'goes', 'U110', 'wife', 'seen', 'U219', 'U219', 'U219', 'U219', 'Last', 'seen', 'baby', 'room', 'chat', 'when', 'that', 'want', 'chat', 'need', 'that', 'U133', 'wife', 'what', 'U110', 'cool', 'they', 'male', 'fuck', 'seen', 'girl', 'with', 'nice', 'bust', 'seen', 'girl', 'PART', 'cool', 'JOIN', 'what', 'does', 'deaf', 'xmas', 'PART', 'that', 'JOIN', 'dont', 'need', 'wall', 'more', 'good', 'enuf', 'haha', 'nope', 'dont', 'wall', 'PART', 'LoVe', 'wall', 'Love', 'JOIN', 'lmao', 'hell', 'been', 'some', 'kick', 'then', 'some', 'this', 'more', 'well', 'your', 'your', 'wont', 'that', 'they', 'more', 'U121', 'haha', 'feel', 'that', 'come', 'then', 'mean', 'your', 'isnt', 'that', 'joke', 'seen', 'your', 'love', 'seen', 'your', 'pics', 'joke', 'well', 'will', 'that', 'eeww', 'U121', 'mmmm', 'hell', 'turn', 'back', '????', 'pies', 'pies', 'here', 'what', 'like', 'dick', 'haha', 'ever', 'this', 'room', 'haha', 'damn', 'that', 'fair', 'cant', 'with', 'stop', 'lyin', 'doll', 'then', 'love', 'beer', 'yeah', 'just', 'some', 'even', 'come', 'guys', 'lois', 'U121', 'cold', 'beer', 'guys', 'says', 'what', 'awww', 'U110', 'cuss', 'nope', 'says', 'drop', 'have', 'hand', 'runs', 'thru', 'back', 'hair', 'eyes', 'neck', 'sits', 'down', 'guys', 'LATE', 'THEY', 'GOOD', 'were', 'rape', 'U114', 'girl', 'that', 'LMAO', 'awww', 'geez', 'U110', 'well', 'last', 'shut', 'tart', 'dont', 'like', 'hgey', 'fuck', 'what', 'last', 'mean', 'hump', 'gimp', 'lick', 'caan', 'play', 'lick', '....', 'else', 'U133', 'good', 'U110', '!!!!', 'what', 'want', 'love', 'days', 'used', 'call', 'yeah', 'gimp', 'your', 'lmao', 'what', 'dumb', 'like', 'were', 'PART', 'JOIN', 'well', 'PART', 'PART', 'JOIN', 'JOIN', 'will', 'PART', 'awww', 'make', 'hump', 'JOIN', 'PART', 'PART', 'JOIN', 'this', 'room', 'good', 'JOIN', 'U110', 'U110', 'away', 'U104', 'yeah', 'have', 'make', 'good', 'yeah', 'hump', 'your', 'face', 'PART', 'JOIN', 'stay', 'chat', 'damn', 'know', 'lets', 'just', 'know', 'hmmm', '....', 'yeah', 'spot', 'elle', 'come', 'lets', 'like', 'PART', 'yada', 'yada', 'yada', 'lame', 'suck', 'lol.', 'JOIN', 'with', 'good', 'miss', 'babe', 'seen', 'ages', 'here', 'good', 'Elle', 'went', 'with', 'PART', 'JOIN', 'PART', 'been', 'stop', 'your', 'nude', 'pics', 'JOIN', 'yeah', 'have', 'good', 'good', 'lmao', 'dont', 'have', 'wish', 'sure', 'U110', 'good', 'your', 'like', 'elle', 'allo', 'stop', 'what', 'shit', 'good', 'girl', 'some', 'PART', 'yeah', 'ugly', 'your', 'wife', 'JOIN', 'yesh', 'been', 'nice', 'guyz', 'chat', 'nice', 'want', 'chat', 'male', 'fuck', 'nice', 'lmao', 'when', 'U104', 'like', 'clue', 'alot', 'that', 'PART', 'damn', 'wind', 'must', 'have', 'JOIN', 'poor', 'doll', 'Reub', 'real', 'this', 'talk', '!???', 'just', 'want', 'lost', 'good', 'here', 'help', 'U110', 'elle', '????', 'have', 'sure', 'rain', 'here', 'heat', 'hard', 'seem', 'kmph', 'U114', 'pope', 'have', 'used', 'PART', 'mass', 'they', 'dont', 'even', 'goin', 'give', 'dont', 'babe', 'born', 'cant', 'will', 'fuck', 'just', 'need', 'keep', 'with', 'shut', 'JOIN', 'shit', 'Ummm', 'your', 'that', 'does', 'kill', 'just', 'some', 'will', 'fast', 'U104', 'whip', 'U110', 'U110', 'PART', 'dont', 'know', 'head', 'whos', 'shit', 'JOIN', 'LMAO', 'U104', 'PART', 'U104', 'bend', 'over', 'show', 'yeah', 'baby', 'yess', 'hiya', 'care', '....', 'find', 'else', 'pick', 'JOIN', 'PART', 'JOIN', 'JOIN', 'JOIN', '))))', 'Just', 'what', 'like', '!...', 'dont', 'know', 'time', 'life', 'game', 'what', 'JOIN', '....', '....', 'PART', 'room', 'duet', 'pick', 'Gosh', 'hell', '....', ',,,,', 'bout', 'PART', 'nice', 'meet', 'ahhh', 'JOIN', 'JOIN', 'need', 'perv', 'give', 'wuts', 'here', 'know', '....', 'help', 'PART', 'will', 'perv', 'else', 'with', 'ever', 'wait', 'goin', 'flow', '....', 'lmao', 'JOIN', 'PART', 'know', 'been', 'year', 'here', 'then', 'well', 'last', 'know', 'what', 'west', 'quiz', 'what', 'PART', 'kewl', 'JOIN', 'ahhh', 'just', 'PART', 'JOIN', 'cool', 'next', 'JOIN', 'PART', 'JOIN', 'JOIN', 'PART', 'JOIN', 'PART', 'guys', 'JOIN', 'PART', 'what', 'nick', 'name', 'PART', 'PART', 'JOIN', 'PART', 'like', 'PART', '....', 'JOIN', 'what', 'dont', 'yall', 'PART', 'scar', 'face', 'JOIN', 'JOIN', 'ahhh', 'JOIN', 'JOIN', 'goes', 'back', 'been', 'nice', 'hate', 'JOIN', 'PART', 'JOIN', 'PART', 'PART', 'JOIN', 'PART', 'PART', 'JOIN', 'PART', 'back', 'JOIN', 'what', 'name', 'PART', 'PART', 'away', '....', 'wine', 'well', 'porn', 'life', 'know', 'well', 'then', 'wine', 'PART', 'well', 'have', 'will', 'Girl', 'JOIN', 'JOIN', 'JOIN', 'PART', 'hiya', 'PART', 'PART', 'JOIN', 'hiya', '....', 'hugs', 'yall', 'JOIN', 'good', 'JOIN', 'JOIN', 'baby', 'Hiya', 'PART', 'just', 'left', 'must', 'been', 'good', 'hiya', 'have', 'been', 'turn', 'JOIN', 'hiya', 'head', '....', 'does', 'life', 'with', 'your', 'made', 'same', 'some', 'must', 'have', 'roll', 'JOIN', 'pair', 'like', 'here', 'even', 'know', 'PART', 'PART', 'hehe', 'ring', '....', 'aint', 'what', 'they', 'used', '....', 'sang', 'that', '....', 'Rang', 'dont', 'know', 'some', '????', 'mind', 'that', 'that', 'that', 'hall', 'hows', 'PART', 'PART', 'hall', 'when', 'rang', 'door', 'bell', 'show', 'ring', 'PART', 'JOIN', 'JOIN', 'than', '....', 'hehe', 'dawg', 'than', 'mine', 'nite', 'much', 'love', 'nite', 'JOIN', 'PART', 'PART', 'JOIN', 'PART', 'JOIN', 'cant', 'play', 'crap', 'rule', 'name', 'that', 'tune', 'PART', 'PART', 'many', 'JOIN', '....', 'name', 'that', 'tune', 'PART', 'need', 'love', ',,,,', 'door', 'back', 'were', 'good', 'that', 'sing', 'song', 'haze', 'JOIN', 'time', 'febe', 'Prof', 'does', 'stay', 'just', 'JOIN', 'PART', 'sang', 'play', 'done', 'song', 'JOIN', '????', 'JOIN', 'good', 'PART', 'does', 'that', 'make', '....', 'your', 'time', '....', 'sang', 'sang', '....', '1996', 'with', 'PART', 'JOIN', 'song', '1996', 'hmmm', 'dont', 'know', 'JOIN', 'PART', 'JOIN', 'PART', 'PART', 'fine', 'here', '....', 'JOIN', 'JOIN', 'PART', 'JOIN', 'PART', 'what', 'cash', 'nick', 'name', 'know', 'that', 'when', 'sang', 'dont', 'know', 'come', 'just', 'hell', 'know', 'easy', 'what', 'nick', 'name', 'JOIN', 'JOIN', 'JOIN', 'hiya', 'hiya', 'hiya', 'your', 'girl', 'says', 'PART', 'JOIN', 'PART', 'JOIN', 'nice', 'lady', 'JOIN', 'JOIN', 'Kewl', 'from', 'PART', 'JOIN', 'even', 'what', 'song', 'hank', 'sang', 'from', 'used', 'know', 'just', 'idea', 'over', 'hehe', 'PART', 'cool', 'some', '????', 'know', 'hank', 'hank', 'jude', 'sang', 'slow', 'hand', 'eric', 'PART', 'PART', 'good', 'yoko', 'yoko', 'yoko', 'JOIN', 'what', 'yoko', 'when', 'John', 'shot', 'lmao', 'same', 'shit', 'what', 'show', 'sing', 'heya', 'shit', 'girl', 'JOIN', 'heya', 'show', 'good', 'that', 'hiya', 'yoko', 'that', 'john', 'like', 'JOIN', 'john', 'nite', 'nope', 'that', 'PART', 'hehe', 'back', 'ohhh', 'oops', 'just', 'here', 'need', 'zone', 'JOIN', 'have', 'know', 'John', 'Yoko', 'last', 'wife', 'said', 'when', 'your', 'dead', 'wont', 'take', 'with', 'your', 'soul', 'hehe', 'that', 'good', 'just', 'here', 'will', 'stay', 'PART', 'feel', 'free', 'JOIN', 'hiya', 'seee', 'whou', 'said', 'idnt', 'like', 'nite', 'PART', 'JOIN', 'last', 'been', 'here', 'like', 'that', 'JOIN', 'down', 'well', 'sooo', 'more', 'PART', 'well', 'poor', 'pink', 'here', 'PART', 'yeah', 'hehe', 'good', 'idea', 'busy', 'chat', 'yeah', 'what', 'good', 'perk', 'like', 'took', 'yeah', 'what', 'what', '....', 'that', 'over', 'hehe', 'your', 'nope', 'PART', 'like', 'JOIN', 'must', 'chat', 'wear', 'JOIN', 'JOIN', 'main', 'room', 'find', 'http', 'rain', 'here', 'rubs', 'LMAO', 'love', 'your', 'game', 'your', 'chat', 'room', 'PART', 'this', 'game', 'goin', 'shit', 'ROOM', 'says', 'made', 'skin', 'PART', 'JOIN', 'PART', 'JOIN', '2DAY', 'gawd', 'need', 'meds', 'that', 'make', 'skin', 'sure', 'need', 'yell', 'what', '....', '????', 'else', 'says', 'till', 'caps', 'eyes', 'mang', 'good', 'when', 'take', 'cant', 'live', 'eyes', 'make', 'feel', 'JOIN', 'PART', 'JOIN', 'away', 'what', 'your', 'eyes', 'else', 'from', 'here', 'SSRI', 'girl', 'PART', 'JOIN', 'well', 'deal', 'with', 'that', 'your', 'cure', 'they', 'just', 'help', 'deal', 'with', 'real', 'awww', 'know', 'JOIN', 'wean', 'need', 'meds', 'like', 'that', 'JOIN', 'hiya', 'JOIN', 'well', 'back', 'died', 'cost', 'much', 'JOIN', 'yeah', 'just', 'JOIN', 'PART', 'PART', 'take', 'awww', 'PART', 'PART', 'PART', 'just', 'kick', 'like', 'post', 'room', 'meds', 'left', 'PART', 'what', 'DOES', 'when', 'quit', 'LMAO', 'last', 'mind', 'itch', 'your', 'JOIN', 'dont', 'want', 'live', 'just', 'JOIN', 'that', 'shut', 'many', 'bout', 'lost', 'time', 'just', 'very', 'JOIN', 'just', 'yeah', 'does', 'they', 'case', 'case', 'JOIN', 'read', 'were', 'PART', 'been', 'fine', 'been', 'what', 'long', 'have', 'been', 'much', 'PART', 'meds', 'good', 'doin', 'will', 'take', 'PART', 'PART', 'have', 'like', 'this', 'week', 'long', 'have', 'been', 'holy', 'crap', 'week', 'like', 'JOIN', 'JOIN', 'will', 'take', 'kick', 'JOIN', 'okay', 'just', 'shit', 'time', 'anti', 'talk', 'want', 'mean', 'took', 'LMAO', '....', 'that', 'week', 'itch', 'down', 'near', 'PART', 'life', 'trip', 'well', 'yeah', 'real', 'haha', 'live', 'what', 'JOIN', 'your', 'JOIN', 'when', 'used', 'that', 'real', 'ever', 'hear', 'Ummm', 'else', 'with', 'week', 'that', 'JOIN', 'when', 'talk', 'yeah', 'bout', 'kill', 'much', 'keep', 'bout', 'kill', 'that', 'take', 'work', 'take', 'deep', 'till', 'JOIN', 'PART', 'well', 'hurt', 'hiya', 'PART', 'shut', 'bout', 'talk', 'talk', 'play', 'Gosh', 'lmao', 'PART', 'take', 'that', 'crap', 'lmao', 'PART', 'awww', 'here', 'life', 'cali', 'said', 'okay', 'noth', 'PART', 'JOIN', 'PART', 'your', 'life', 'been', 'stop', 'PART', 'very', 'that', 'many', 'have', 'been', 'wait', 'know', 'then', 'know', 'what', 'look', 'babi', 'look', 'have', 'here', 'feet', 'tall', 'PART', 'PART', 'nite', 'pray', 'hope', 'that', 'will', 'stay', 'JOIN', 'PART', 'JOIN', 'babi', 'look', 'JOIN', 'ewww', 'PART', 'PART', 'PART', 'PART', 'NICK', 'LMAO', 'PART', 'that', 'that', 'rubs', 'weed', 'icky', 'LMAO', 'JOIN', 'name', 'JOIN', 'that', 'mean', 'just', 'Rick', 'know', 'with', 'spit', 'LMAO', 'rich', 'lube', 'JOIN', 'JOIN', 'rich', 'lord', 'JOIN', 'mami', 'JOIN', 'PART', 'want', 'look', 'last', 'name', 'U102', 'U102', 'U101', 'yeah', 'U100', 'U102', 'U102', 'gold', 'hiya', 'U102', 'U102', 'here', 'U102', 'U102', 'look', 'PART', 'what', 'here', 'find', 'what', 'here', 'chat', 'room', 'JOIN', 'PART', 'guys', 'PART', 'from', 'east', '18ST', 'JOIN', 'much', 'cost', 'room', 'slow', 'yeah', 'U102', 'fart', 'blew', 'away', 'JOIN', 'ohhh', 'sexy', 'love', 'PART', 'girl', 'that', 'JOIN', 'U106', 'PART', 'U101', 'come', 'back', 'sexy', 'love', 'over', 'else', 'JOIN', 'PART', 'JOIN', 'haha', 'U101', 'have', 'PART', 'song', 'heya', 'JOIN', 'give', 'U102', 'PART', 'guys', 'girl', 'like', 'back', 'many', 'damn', 'seat', 'dont', 'give', 'PART', 'JOIN', 'PART', 'felt', 'rock', 'hard', 'cock', 'here', 'sexy', 'love', 'meet', 'full', 'girl', 'take', 'make', 'back', 'PART', 'make', 'newp', 'PART', 'love', 'lady', 'JOIN', 'SExy', 'love', 'yeah', 'otay', '####', 'like', 'love', 'PART', 'JOIN', 'Yeah', 'have', 'need', 'JOIN', 'JOIN', 'cool', 'cool', 'U110', 'said', 'like', 'dude', 'many', 'mine', 'JOIN', 'need', 'more', 'JOIN', 'like', 'JOIN', 'JOIN', 'JOIN', 'U115', 'firs', 'time', 'this', 'site', 'said', 'that', 'that', 'ever', 'told', 'room', 'JOIN', 'just', 'PART', 'JOIN', 'PART', 'JOIN', 'JOIN', 'PART', 'U113', 'PART', 'JOIN', 'PART', 'JOIN', 'PART', 'love', 'each', 'yall', 'room', 'mike', 'PART', 'dump', 'PART', 'PART', 'with', 'some', 'toop', 'yall', 'this', 'song', 'PART', 'what', 'song', 'just', 'that', 'PART', 'U108', 'this', 'your', 'room', 'slow', 'chat', 'room', 'here', 'that', 'with', 'four', 'does', 'want', 'chat', 'with', 'from', 'more', 'JOIN', 'U115', 'PART', 'U118', 'over', 'head', 'with', 'make', 'stop', 'make', 'stop', 'JOIN', 'room', 'U108', 'U108', 'just', 'that', 'yeah', 'type', 'JOIN', 'make', 'away', 'JOIN', 'PART', 'U116', 'find', 'U108', 'sets', 'room', 'asss', '....', 'part', 'felt', 'most', 'that', 'lmao', 'just', 'that', 'what', 'shit', 'eyes', 'that', 'paid', 'this', 'room', 'PART', 'LMAO', 'PART', 'what', 'have', 'home', 'JOIN', 'LMAO', 'mean', 'U120', 'your', 'home', 'room', 'hell', 'JOIN', 'Iowa', 'JOIN', 'were', 'just', 'that', 'U102', 'take', 'U108', 'room', 'U120', 'PART', 'lmao', 'beat', 'with', 'your', 'back', 'PART', 'dont', 'beat', 'with', 'your', 'PART', 'Teck', 'n9ne', 'back', 'PART', 'PART', 'dont', 'with', 'JOIN', 'hour', 'from', 'hell', 'that', 'chat', 'dont', 'with', 'kewl', 'JOIN', 'JOIN', 'well', 'JOIN', 'JOIN', 'well', 'JOIN', 'chat', 'that', 'PART', 'goes', 'both', 'ways', 'dear', 'U104', 'JOIN', 'JOIN', 'PART', 'does', 'both', 'ways', 'JOIN', 'know', 'dont', 'PART', 'PART', 'nice', 'once', 'JOIN', 'have', 'been', 'been', 'JOIN', 'JOIN', 'ever', 'here', 'very', 'much', 'have', 'room', 'that', 'that', '\"...', 'hmph', 'PART', 'JOIN', 'JOIN', 'PART', 'JOIN', 'MODE', 'U132', 'U132', 'JOIN', 'like', 'U132', 'U133', 'U132', 'U132', 'hiya', 'U132', 'PART', 'JOIN', 'nick', 'JOIN', 'U132', 'come', 'like', 'like', 'PART', 'jeff', 'U104', 'PART', 'crib', '!!!!', 'PART', 'wack', 'food', 'such', 'deop', 'MODE', 'U132', 'PART', 'U132', 'that', 'U102', 'PART', 'your', 'like', 'only', 'time', 'type', 'when', 'JOIN', 'JOIN', 'sexy', 'JOIN', 'PART', 'JOIN', 'haha', 'love', 'JOIN', 'nite', 'wife', 'love', 'want', 'PART', 'nite', 'U116', 'PART', 'JOIN', 'drug', 'talk', 'told', 'cook', 'turn', 'into', 'want', 'chat', 'JOIN', 'U138', 'hear', 'want', 'your', '((((', 'PART', 'JOIN', 'JOIN', '9:10', 'PART', 'JOIN', 'ladz', 'JOIN', 'hola', 'JOIN', 'PART', 'U115', 'PART', 'PART', 'JOIN', 'aime', 'JOIN', 'What', 'idea', 'over', 'JOIN', 'Ahhh', 'okay', 'chat', 'lady', 'whos', 'been', 'book', 'here', 'JOIN', 'PART', 'PART', 'PART', 'That', 'what', 'JOIN', 'guys', 'chat', 'JOIN', 'chat', 'JOIN', 'JOIN', 'JOIN', 'U119', 'pink', 'PART', 'PART', 'baby', 'with', 'PART', 'same', 'hong', 'kong', 'chat', 'PART', 'ball', 'does', 'PART', 'damn', 'like', 'have', 'good', 'time', 'PART', 'PART', 'JOIN', 'what', 'goes', 'like', 'JOIN', 'U123', 'U123', 'U123', 'MODE', 'U123', 'baby', 'JOIN', 'damn', 'guys', 'dude', 'shut', 'PART', 'blue', 'haha', 'PART', 'PART', 'Oops', 'yawn', 'haha', 'PART', 'PART', 'from', 'PART', 'joke', 'chat', 'That', 'okay', 'haha', 'yeah', 'PART', 'PART', 'love', 'PART', 'haha', 'PART', 'JOIN', 'PART', 'PART', 'guys', 'from', 'chat', 'here', 'JOIN', 'then', 'hell', 'shot', 'JOIN', 'PART', 'JOIN', 'PART', 'JOIN', 'PART', 'JOIN', 'PART', 'PART', 'shot', 'cool', 'whos', 'guys', 'talk', 'with', 'PART', 'chat', 'with', 'sexy', 'guys', 'chat', '??!!', 'PART', 'whos', '??!!', 'talk', 'mass', 'want', 'chat', '....', 'damn', 'PART', 'cali', 'guys', 'chat', 'JOIN', 'PART', 'JOIN', 'real', 'have', 'tits', 'PART', 'PART', 'sexy', 'guys', 'chat', 'U108', 'PART', 'aint', 'find', 'gret', '....', 'damn', 'PART', 'guys', 'chat', 'with', 'PART', 'take', 'life', 'PART', 'JOIN', 'that', 'shit', 'JOIN', 'haha', 'PART', 'dude', 'what', 'hell', 'JOIN', 'PART', 'what', 'girl', 'talk', 'kick', 'U111', 'JOIN', 'PART', 'them', 'guns', 'much', 'JOIN', 'Like', 'like', 'inch', 'face', 'JOIN', 'fart', 'ever', 'sean', 'PART', 'shit', 'howl', 'moon', 'yall', 'mean', 'damn', 'yeah', 'cant', 'just', 'JOIN', 'Ohio', 'even', 'STOP', 'PART', 'PART', 'what', 'JOIN', 'like', 'PART', 'JOIN', 'Take', 'JOIN', 'PART', 'here', 'JOIN', 'JOIN', 'here', 'z-ro', 'dead', 'guys', 'chat', 'wats', 'what', 'here', 'chat', 'chat', 'any1', 'what', 'good', 'with', 'U137', 'dont', 'know', 'from', 'JOIN', 'JOIN', 'cell', 'here', 'Haha', 'here', 'chat', 'JOIN', 'wana', 'chat', '????', 'PART', 'well', 'this', 'haha', 'PART', 'dead', 'damn', 'this', 'room', 'than', 'just', 'dont', 'know', 'ball', 'talk', 'PART', 'miss', 'hell', 'PART', 'here', 'yeah', 'good', 'blue', 'guys', 'JOIN', 'U141', '....', '1985', 'chat', 'JOIN', 'U142', 'U142', 'U142', 'MODE', 'U142', 'PART', 'slam', 'JOIN', 'PART', 'damn', 'PART', 'like', 'damn', 'JOIN', 'here', 'PART', 'here', 'find', 'PART', 'JOIN', 'PART', 'haha', 'U144', 'like', 'kill', 'U119', 'Your', 'skin', '....', 'dont', 'care', '!!!!', 'kill', 'want', '....', 'aint', 'stop', 'good', 'good', 'help', 'tell', 'love', 'will', 'boys', 'have', 'JOIN', 'will', 'sure', 'what', 'dont', 'boys', 'lets', 'kill', '....', 'JOIN', 'ever', 'what', 'love', 'this', 'song', 'JOIN', 'live', 'kill', 'girl', 'just', 'talk', 'what', 'song', 'hmmm', 'seem', 'have', 'U119', 'JOIN', 'JOIN', 'JOIN', 'lets', 'kill', 'PART', 'here', 'from', 'pine', 'city', 'PART', 'JOIN', 'PART', 'what', 'lets', 'kill', 'PART', 'PART', 'come', 'with', 'more', 'plan', 'than', 'kill', 'with', 'JOIN', 'JOIN', 'they', '....', 'JOIN', 'haha', 'JOIN', 'PART', 'JOIN', 'JOIN', 'JOIN', 'what', 'what', 'JOIN', 'they', 'must', 'must', 'they', 'must', 'must', 'PART', 'know', 'chat', 'here', 'here', 'JOIN', 'JOIN', 'JOIN', 'PART', 'yeas', 'like', 'PART', 'JOIN', 'what', 'puke', 'yeah', 'JOIN', 'yeah', 'over', '....', 'JOIN', 'like', 'kids', 'want', 'talk', 'guys', 'talk', 'with', 'PART', 'JOIN', 'crap', 'that', 'PART', 'haha', 'damn', 'waaa', 'yeas', 'guyz', 'PART', 'some', 'U119', 'U145', 'good', 'time', 'PART', 'love', 'haha', 'yeah', 'U141', 'U145', 'only', 'haha', 'JOIN', 'what', 'area', 'here', 'JOIN', 'here', 'what', 'JOIN', 'hmmm', 'guys', 'chat', 'with', 'very', 'girl', 'U119', 'urls', 'PART', 'PART', 'heya', 'star', 'JOIN', 'JOIN', 'JOIN', 'room', 'kill', 'PART', 'JOIN', 'PART', '....', '....', 'PART', 'chat', 'U119', 'kill', '....', 'PART', 'from', 'joke', 'lets', 'pick', '....', 'yeah', 'PART', 'guys', 'chat', 'from', 'yall', 'suck', 'PART', 'Save', 'kids', 'chat', 'wont', 'this', '....', 'chat', 'JOIN', 'what', 'suck', 'U119', 'kill', 'JOIN', 'here', 'suck', 'JOIN', 'haha', 'PART', 'PART', 'U154', 'JOIN', 'PART', 'teck', 'n9ne', 'back', 'take', 'damn', 'U154', 'JOIN', 'more', 'year', 'Room', 'want', 'chat', 'have', 'JOIN', 'girl', 'talk', 'guys', 'chat', 'will', 'PART', 'U114', 'hate', 'PART', 'wooo', 'PART', 'eats', 'U154', 'look', 'good', 'them', 'like', 'chat', 'here', 'want', 'your', 'here', 'sick', 'shit', 'wooo', 'sori', 'guys', 'PART', 'JOIN', 'PART', 'want', 'talk', 'JOIN', 'only', 'PART', 'into', 'U139', 'room', 'chat', 'with', 'love', 'blah', 'blah', 'spot', '....', 'here', 'JOIN', 'sexy', 'guys', 'chat', 'PART', 'U169', 'fast', 'self', 'time', 'JOIN', 'JOIN', 'U169', 'your', 'JOIN', 'talk', 'with', 'U154', 'some', 'cali', 'guys', 'here', 'PART', 'here', 'PART', 'seen', 'U169', 'U169', 'U169', 'U169', 'last', 'seen', 'U111', 'only', 'JOIN', 'JOIN', 'here', 'hmmm', 'chat', 'U169', 'seem', 'does', 'U114', 'haha', 'nope', 'U128', '<333', 'JOIN', 'PART', '<333', 'want', 'swim', 'Long', 'time', 'chat', 'PART', 'true', 'PART', 'know', 'here', 'from', 'JOIN', 'PART', 'yawn', 'want', 'chat', 'PART', 'poem', 'U128', 'like', 'five', 'from', 'into', 'jack', 'PART', 'tick', 'tock', 'PART', 'tick', 'tock', 'JOIN', 'U101', 'here', 'JOIN', 'JOIN', 'ROOM', 'CHAT', 'WITH', 'FROM', 'damn', ',,,,', 'have', 'been', 'cast', 'Rule', 'type', 'CAPS', 'JOIN', 'U114', 'ball', 'have', 'want', 'chat', 'with', 'junk', 'food', 'JOIN', 'tips', 'PART', 'Have', 'been', 'much', 'time', 'that', 'lost', 'this', 'very', 'your', 'life', 'your', 'wana', 'chat', 'with', 'PART', 'JOIN', 'lmao', 'with', 'that', 'like', 'chat', 'beer', 'Hiya', 'that', 'U101', 'said', 'JOIN', 'that', 'from', 'meet', 'your', 'your', 'turn', 'your', 'back', 'This', 'will', 'even', 'this', 'very', 'good', 'rush', 'much', 'your', 'home', 'JOIN', 'Nooo', 'have', 'some', 'good', 'JOIN', 'isnt', 'play', 'JOIN', 'Troy', 'wana', 'chat', 'with', 'room', 'PART', 'What', 'hell', 'PART', 'type', 'with', 'like', 'JOIN', 'guys', 'PART', 'that', 'U101', 'like', 'what', 'yeah', 'some', 'want', 'chat', 'with', 'JOIN', 'PART', 'like', 'fool', 'U105', 'tail', 'JOIN', 'like', 'JOIN', 'Seee', 'U101', 'back', 'what', 'What', 'hell', 'come', 'from', 'lmao', 'room', 'damn', 'room', 'damn', 'runs', 'thru', 'back', 'room', 'damn', 'hair', 'eyes', 'room', 'damn', 'neck', 'PART', 'chat', 'most', 'JOIN', '6:38', 'PART', 'want', 'chat', 'PART', 'good', 'have', 'down', 'JOIN', 'U126', 'just', 'here', 'look', 'JOIN', 'like', 'your', 'just', 'fine', 'JOIN', 'PART', 'JOIN', 'well', 'look', 'dyed', 'hair', 'told', 'what', 'just', 'left', 'PART', 'U105', 'JOIN', 'dont', 'know', 'some', 'PART', 'JOIN', 'PART', 'JOIN', 'kiss', 'your', 'chat', 'just', 'then', 'more', 'fuck', 'haha', 'PART', 'PART', 'JOIN', 'JOIN', 'spin', 'U114', 'PART', 'seen', 'U988', 'will', '....', 'goes', 'stop', 'U114', 'must', 'with', 'fuck', 'over', 'just', 't he', 'take', 'hand', 'Yeah', 'haha', 'U988', 'U988', 'U988', 'Last', 'seen', '!!!!', 'kiss', 'U114', 'baby', 'U114', 'baby', 'that', 'beam', 'that', 'play', 'JOIN', 'with', 'with', 'U114', 'just', 'amen', 'U114', 'puff', 'puff', 'pass', 'U114', 'with', 'daft', 'twit', 'scum', 'seen', 'seen', 'ever', 'walk', 'your', 'feet', 'U134', 'PART', 'long', 'time', 'have', 'seen', 'JOIN', 'want', 'chat', 'from', 'down', 'long', 'time', 'kiss', 'awww', 'come', 'give', 'kiss', 'Type', 'kiss', 'what', 'U114', 'town', 'WHOA', 'some', 'baby', '....', 'PART', 'JOIN', 'PART', 'JOIN', 'hope', 'down', 'room', 'talk', 'said', 'food', 'were', 'puff', 'puff', 'here', 'take', 'toke', 'ribs', 'just', 'food', 'PART', 'PART', 'JOIN', 'JOIN', 'PART', 'JOIN', 'Eggs', 'side', 'Wyte', 'know', 'Heyy', 'room', 'U144', 'U114', 'play', 'game', 'with', 'moms', 'Over', 'song', 'when', 'both', 'ways', 'West', 'Rock', 'here', 'only', 'well', 'Heyy', 'U103', 'here', 'PART', 'JOIN', 'PART', 'JOIN', 'goof', 'work', 'some', 'more', 'PART', 'howz', 'PART', 'U101', 'with', 'here', 'rock', 'year', 'U144', 'JOIN', 'U146', 'U146', 'Have', 'ever', 'felt', 'even', 'more', 'down', 'U103', 'PART', 'U142', \"ex's\", 'live', 'U143', 'PART', 'U146', 'feet', 'they', 'hurt', 'more', 'than', 'they', 'were', 'with', 'then', 'shut', 'away', 'PART', 'what', 'U146', 'good', 'hang', 'U105', 'just', 'come', 'here', 'play', 'with', \"ex's\", 'back', 'yard', 'good', 'with', 'JOIN', 'Well', 'JOIN', 'PART', 'JOIN', 'ouch', 'your', 'legs', 'both', 'able', 'JOIN', 'sure', 'more', 'ones', 'PART', 'PART', 'PART', 'U145', 'stay', 'U114', 'vamp', 'PART', 'LMAO', 'JOIN', 'shut', 'make', 'your', 'self', 'down', 'talk', 'call', 'then', 'dont', 'have', 'talk', 'PART', 'PART', 'What', 'part', 'from', 'U144', 'good', 'here', 'JOIN', 'play', 'with', 'guys', 'U103', 'just', 'JOIN', 'JOIN', 'Nope', '<---', 'live', 'Kent', 'need', 'your', 'what', 'kind', 'live', 'JOIN', 'JOIN', 'kent', 'some', 'with', 'live', '....', 'more', 'seen', 'U989', 'they', 'talk', 'most', 'just', 'U989', 'U989', 'U989', 'Last', 'seen', 'days', 'PART', 'Cool', 'know', 'Cool', 'from', 'U156', 'PART', 'dont', 'have', 'have', 'good', 'that', 'ther', 'some', 'with', 'U114', 'U156', 'from', 'high', 'high', 'work', 'doin', 'PART', 'PART', 'U147', 'what', 'U114', 'JOIN', 'JOIN', 'room', 'JOIN', 'doin', 'JOIN', 'heyy', 'U156', 'TEXT', 'SIZE', 'JOIN', 'kent', 'good', '....', 'room', 'heyy', 'U114', 'PART', 'U156', 'club', 'JOIN', 'even', 'PART', 'JOIN', 'U156', 'U156', 'kent', 'like', 'mins', 'from', 'U163', 'gear', 'gold', 'said', 'mind', 'heyy', 'U144', 'lmao', 'CALI', 'U114', 'Only', 'hook', 'good', 'lmao', 'that', 'PART', 'Tell', 'what', 'JOIN', 'here', 'wana', 'chat', 'room', 'need', 'some', 'that', 'here', 'like', 'have', 'U114', 'work', 'bear', 'heyy', 'wife', 'love', 'life', 'runs', 'Matt', 'Rush', 'AWAY', 'That', 'U163', 'U156', 'sexy', 'wish', 'PART', 'JOIN', 'just', 'past', 'heyy', 'U156', 'need', 'some', 'love', 'some', 'love', 'away', 'like', 'U103', 'back', 'from', 'much', 'U114', 'NTMN', 'give', 'U156', 'love', 'PART', 'JOIN', 'Kiss', 'fool', 'howz', 'lick', 'fool', 'PART', 'U158', 'JOIN', 'PART', 'JOIN', 'well', 'done', 'U156', 'your', 'grea', 'U168', 'U156', 'U156', 'runs', 'thru', 'back', 'U156', 'hair', 'eyes', 'U156', 'neck', 'U156', 'U156', 'been', 'U163', 'U168', 'mine', 'fine', 'U168', 'PART', 'JOIN', 'time', 'U168', 'dear', 'like', 'U156', 'sure', 'does', 'been', 'fine', 'U156', 'U156', 'okay', 'U156', 'want', 'like', 'cool', 'PART', 'been', 'good', 'JOIN', 'Look', 'guys', 'nice', 'jerk', 'from', 'U156', 'like', 'good', 'PART', 'U156', 'JOIN', 'home', 'want', 'know', 'U129', 'does', 'nick', 'U168', 'U168', '....', 'here', 'kiss', 'U168', 'kiss', 'U168', 'dont', 'know', 'will', 'make', 'U168', 'PART', 'cool', 'PART', 'JOIN', 'JOIN', 'U170', 'guys', 'PART', 'PART', 'PART', 'like', 'play', 'with', 'ROOM', 'much', 'U170', 'JOIN', 'moon', 'JOIN', 'only', 'JOIN', 'nice', 'pick', 'U156', 'been', 'that', 'when', 'came', 'U156', 'what', 'guys', 'guts', 'guys', 'ones', 'U156', 'U175', 'baby', 'PART', 'this', 'more', 'jerk', 'like', 'then', 'U156', 'U144', 'runs', 'thru', 'back', 'hair', 'eyes', 'neck', 'U168', 'beer', 'JOIN', 'U156', 'baby', 'U156', 'PART', 'JOIN', 'PART', 'love', 'neck', 'JOIN', 'your', 'hang', 'they', 'U144', 'PART', 'just', 'JOIN', 'U175', 'U168', 'U168', 'nice', 'U156', 'give', 'seen', 'seen', 'chat', 'here', 'know', 'play', 'case', 'this', 'when', 'work', 'that', 'boss', 'died', 'went', 'work', 'told', 'that', 'died', 'wrek', 'give', 'told', 'suck', 'told', 'good', 'PART', 'haha', 'girl', 'JOIN', 'NICK', 'PART', 'pfft', 'just', '!!!!', 'ciao', 'else', 'CHAT', 'WITH', 'FROM', 'cold', 'know', 'just', 'from', 'here', 'JOIN', 'Fort', '2:55', 'AKST', 'warm', 'PART', 'know', 'warm', '4:03', 'warm', 'need', 'some', 'root', 'gone', 'mine', 'same', 'time', 'poor', 'move', 'root', 'gone', 'poor', 'what', 'PART', 'have', 'goes', 'JOIN', 'wear', 'them', 'long', 'PART', 'mine', 'have', 'here', 'once', 'dont', 'hiya', 'keep', 'them', 'when', '....', 'have', 'PART', 'well', 'hmmm', 'well', 'PART', 'note', 'that', 'heck', 'PART', 'heck', 'PART', '....', 'keep', 'them', 'ahhh', 'pain', 'know', 'lmao', 'JOIN', 'JOIN', 'hiya', 'lets', 'chat', 'good', 'need', 'PART', 'back', 'hiya', 'hiya', 'name', 'hiya', 'hair', 'cute', 'that', 'tune', '....', 'head', 'sigh', 'what', 'PART', 'JOIN', 'like', 'hiya', 'hiya', 'that', 'wire', '????', 'back', 'here', 'have', 'been', 'burp', 'hiya', 'oops', 'give', 'just', 'mind', '....', 'that', 'lmao', 'good', 'snow', 'cold', 'soda', 'what', 'with', 'this', 'gray', 'here', 'tlak', 'bout', 'ride', 'some', 'some', 'dont', 'what', 'they', 'JOIN', 'ahem', 'hiya', 'ltnc', 'just', 'glad', 'over', 'with', 'take', 'chat', 'PART', 'JOIN', 'this', 'gets', 'this', 'that', 'gets', 'that', 'rest', 'PART', 'JOIN', 'haha', 'have', 'list', 'room', \"ok'd\", 'just', 'sayn', 'PART', 'sure', 'some', 'take', 'take', 'sock', 'here', 'evah', 'take', 'this', 'cold', 'good', 'bike', 'this', 'down', 'hill', 'went', 'stop', 'PART', 'cold', 'yeah', 'walk', 'that', 'only', 'here', 'sock', 'ohwa', 'caca', 'know', 'JOIN', 'dont', 'know', 'tyvm', 'mine', 'they', '....', 'only', 'when', 'wear', 'them', 'week', 'time', 'them', 'they', 'need', 'luvs', 'with', 'long', 'time', 'want', 'some', 'have', 'with', 'pain', 'like', 'used', 'make', 'PART', 'dont', 'need', 'love', 'they', 'were', 'PART', 'have', 'know', 'sock', 'sock', 'have', 'have', 'have', 'been', 'much', 'prep', 'done', 'when', 'hope', 'toss', 'sock', 'when', 'find', 'sock', 'gets', 'send', 'them', 'here', '....', 'wear', 'them', 'JOIN', 'hell', 'just', 'that', 'ball', 'make', 'some', 'from', 'what', 'does', 'that', 'wash', 'JOIN', 'will', 'dont', 'know', 'does', 'hate', 'tell', 'long', 'been', 'used', 'PART', 'they', 'sell', 'them', 'from', 'sure', 'from', 'know', 'when', 'when', 'your', 'back', 'pull', 'that', 'JOIN', 'adds', 'with', 'them', 'also', 'they', 'dirt', 'then', 'head', 'that', 'they', 'your', 'vent', '100%', 'true', 'just', 'have', 'used', 'have', 'that', 'when', 'went', 'knew', 'what', 'live', 'dont', 'want', 'have', 'haha', 'felt', 'like', 'JOIN', 'PART', 'ahhh', '....', 'JOIN', 'wait', 'much', 'make', 'year', 'JOIN', 'like', 'have', 'LMAO', 'PART', 'what', 'make', 'make', 'have', 'make', 'more', 'than', 'well', 'hear', 'time', 'ride', 'take', 'care', 'have', 'talk', 'soon', 'stay', 'safe', 'kiss', 'your', 'kids', 'your', 'dogs', 'PART', 'have', 'with', 'bull', 'time', 'just', 'life', 'with', 'your', 'make', 'dear', 'lord', 'fits', 'over', 'xbox', 'live', 'JOIN', 'well', 'have', 'fits', 'nice', 'work', 'week', 'what', 'mean', 'PART', 'from', 'week', 'heck', 'what', 'town', 'near', 'cant', 'real', 'asks', 'been', 'same', 'many', 'Road', 'very', 'pick', 'home', 'high', 'live', 'from', 'PART', 'that', 'JOIN', 'over', 'that', 'JOIN', 'hiya', 'hate', 'JOIN', 'seen', 'near', 'here', 'PART', 'what', 'have', 'seen', 'them', '....', 'long', 'does', 'take', 'back', 'dang', 'work', 'chat', 'they', 'like', 'long', 'fire', 'like', 'chit', 'JOIN', 'PART', 'land', 'PART', 'PART', 'doin', 'room', 'well', 'have', 'them', 'that', 'have', 'time', 'chat', 'grin', 'dont', 'here', 'here', 'JOIN', 'haha', 'they', 'were', 'bred', 'kill', 'rats', 'Sat.', 'JOIN', 'they', 'long', 'time', 'they', 'back', 'drop', 'your', 'foot', 'guys', 'life', 'JOIN', 'what', 'samn', 'eyes', 'much', 'this', 'room', 'like', 'Phil', 'into', '????', 'nuff', 'rose', 'PART', 'Ruth', 'good', 'hear', 'like', 'phil', 'meds', 'PART', 'JOIN', 'back', 'JOIN', 'MODE', 'MODE', 'PART', 'hows', 'PART', 'hiya', 'PART', 'hiya', 'must', 'hiya', 'many', 'like', 'open', 'that', 'with', 'doin', 'good', 'dear', 'rofl', '!!!!', 'PART', 'here', 'hows', 'bout', 'here', 'here', 'that', '....', 'tell', 'tell', 'days', 'ages', 'here', 'PART', 'only', 'here', 'lmao', 'well', 'that', 'PART', 'well', 'case', 'word', 'dang', '....', 'here', 'what', 'part', 'rofl', 'like', 'grew', 'PART', 'near', 'year', 'holy', '....', 'nice', 'from', '<---', 'went', 'JOIN', 'love', '....', 'like', 'from', 'PART', '????', 'when', 'that', 'sand', 'well', 'army', 'JOIN', 'clue', 'what', 'here', 'like', '....', 'They', 'army', 'mean', 'that', 'tell', 'only', 'they', 'they', 'lmao', 'that', 'they', 'show', 'kids', 'live', 'JOIN', 'down', 'near', 'when', 'from', 'ears', 'feel', 'best', '....', 'away', 'from', 'well', 'from', 'hear', 'rest', 'nice', 'more', 'that', 'such', 'JOIN', 'yeah', 'luvs', 'PART', 'down', 'mena', 'ROFL', 'that', 'pool', 'like', 'lapd', 'were', 'into', 'surf', 'cant', 'even', 'swim', 'here', 'sand', 'your', 'true', 'JOIN', 'JOIN', 'hard', 'when', 'just', 'side', 'City', '....', 'wear', 'fall', '....', '....', '....', 'much', 'PART', 'what', 'JOIN', 'only', 'that', 'room', 'from', 'hazy', 'that', 'have', 'been', 'were', 'What', 'were', 'hear', 'army', 'band', 'thot', 'just', 'haze', 'left', 'over', 'from', 'very', 'warm', 'yeah', '....', 'like', 'more', 'than', 'sing', 'here', 'dont', 'good', 'they', 'sang', 'some', 'them', 'they', 'down', 'ride', 'than', 'what', 'PART', 'nite', 'shes', 'sick', 'look', 'here', 'sing', 'lmao', 'blue', 'blue', 'acid', 'hmmm', 'here', 'knew', 'that', 'uses', 'blue', 'they', 'were', 'from', 'blue', 'main', 'room', 'find', 'PART', 'just', 'your', 'game', 'your', 'chat', 'room', 'PART', 'JOIN', 'PART', 'PART', 'PART', 'PART', 'wide', 'lost', 'went', 'JOIN', 'from', 'have', 'keys', 'here', 'lmao', 'wont', 'JOIN', 'snow', 'rock', 'salt', 'like', 'some', 'PART', 'JOIN', 'what', 'chat', 'PART', 'what', 'PART', 'much', 'JOIN', 'want', 'room', 'that', 'mess', 'PART', 'base', 'ball', 'JOIN', 'dead', 'JOIN', 'then', 'when', 'over', 'PART', 'byes', 'JOIN', 'PART', 'what', 'were', 'PART', 'some', 'PART', 'wait', 'time', 'PART', 'that', 'when', 'work', 'days', 'this', 'week', 'when', 'have', 'work', 'JOIN', 'back', 'more', 'gawd', 'must', 'love', 'PART', 'PART', 'NICK', 'room', 'PART', 'PART', 'NICK', 'then', 'work', 'NICK', 'haha', 'PART', 'dont', 'like', 'work', 'THAT', 'much', 'will', 'your', 'like', 'that', 'work', 'play', 'JOIN', 'yeah', '....', 'know', 'JOIN', 'sick', 'part', 'have', 'work', 'make', 'near', 'what', \"RN's\", 'make', 'JOIN', 'JOIN', 'only', 'dont', 'alot', 'love', 'well', 'work', 'with', 'hand', 'made', '....', 'that', 'that', 'hour', 'haha', 'PART', 'have', 'they', 'said', 'they', 'have', 'more', 'face', 'well', 'only', 'have', 'JOIN', 'JOIN', 'haha', 'that', 'give', 'JOIN', 'have', 'JOIN', 'just', 'just', 'yout', 'have', 'with', 'this', 'lame', 'chat', 'PART', 'PART', 'well', 'just', 'come', 'here', 'hang', 'with', 'lame', 'face', 'with', 'JOIN', 'PART', 'been', 'they', 'feel', 'lame', 'numb', 'PART', 'NICK', 'life', 'good', 'mmmm', 'dont', 'want', 'your', 'face', 'what', 'each', 'make', 'flow', 'haha', 'that', 'thah', 'road', 'mahn', 'have', 'ever', 'made', 'NICK', 'PART', 'JOIN', 'PART', 'make', 'sure', 'what', 'good', 'haha', 'have', 'King', 'cold', 'that', 'JOIN', 'JOIN', 'mmmm', 'JOIN', 'here', 'seen', 'JOIN', 'with', 'PART', 'guys', 'work', 'shop', 'PART', 'that', 'just', 'trip', 'when', 'JOIN', '....', 'some', 'road', 'were', 'JOIN', 'JOIN', 'PART', 'TALK', 'GIRL', 'WHEN', 'HOTT', 'HERE', 'JOIN', 'PART', 'good', 'soup', 'PART', 'JOIN', 'time', 'live', '6:51', 'PART', 'from', 'here', 'here', 'take', 'girl', 'shes', 'more', 'real', 'JOIN', 'work', 'caps', 'live', '9.53', 'tyvm', 'lmao', 'PART', 'PART', 'chat', 'with', 'PART', 'back', 'PART', 'PART', 'what', 'here', 'yeah', 'PART', 'what', 'yeah', 'only', 'yeah', 'nice', 'JOIN', 'heya', 'ltns', 'PART', 'yeah', 'life', 'know', 'yeah', 'JOIN', 'done', 'sooo', 'hope', 'sure', 'hell', 'aint', 'JOIN', 'need', 'have', 'work', 'hard', 'just', 'that', 'PART', 'Mine', 'PART', 'have', 'have', 'that', 'dont', 'need', 'vega', '....', 'hell', 'JOIN', 'JOIN', 'JOIN', 'been', 'gone', 'long', 'does', 'many', 'pigs', 'lmao', 'from', 'than', '....', '####', 'were', 'here', 'JOIN', 'JOIN', '....', 'case', 'read', 'JOIN', 'lmao', 'what', 'PART', 'dont', 'have', 'know', 'read', 'nice', 'JOIN', 'PART', 'long', 'read', 'STOP', 'room', 'then', 'JOIN', 'JOIN', 'PART', 'king', 'find', 'some', 'fast', 'easy', 'food', 'poof', 'PART', 'PART', 'PART', 'JOIN', 'sure', 'sexy', 'want', 'chat', 'good', 'like', 'that', 'JOIN', 'PART', 'that', 'JOIN', 'Yeah', 'grrr', 'take', 'back', 'NICK', 'more', 'this', 'will', 'work', 'just', 'know', 'from', 'want', 'mean', 'PART', 'them', 'JOIN', 'mean', 'like', 'JOIN', 'PART', 'PART', '....', 'more', 'like', 'PART', 'what', 'JOIN', 'PART', 'just', 'PART', 'PART', 'PART', 'JOIN', 'JOIN', 'love', 'when', 'what', '....', 'JOIN', 'hehe', 'they', 'know', 'NICK', 'well', 'what', 'true', 'JOIN', 'down', 'here', 'JOIN', 'PART', 'Well', 'only', 'much', 'PART', 'JOIN', 'PART', 'they', 'PART', 'like', 'JOIN', 'JOIN', 'what', 'JOIN', 'only', 'when', 'down', 'NICK', 'that', 'Nova', 'even', 'when', 'down', '....', 'damn', 'JOIN', 'PART', 'hiya', 'nope', 'JOIN', 'PART', 'mofo', 'JOIN', 'here', 'soon', 'only', 'hate', 'wont', 'know', 'PART', 'JOIN', 'heya', 'ltns', 'know', 'yeah', 'well', 'PART', 'JOIN', 'PART', 'yeah', 'like', 'that', 'PART', 'back', 'nice', 'know', 'PART', 'dont', 'feel', 'feel', 'JOIN', 'like', 'that', 'much', '....', 'took', 'care', 'PART', 'PART', 'JOIN', 'Ohhh', 'nice', 'know', 'room', 'hate', 'JOIN', 'PART', 'Yeah', 'real', 'flaw', '....', 'PART', 'head', 'PART', 'PART', '....', 'like', 'flaw', 'JOIN', 'make', 'look', 'your', 'your', 'look', 'Holy', 'crap', 'that', 'line', '....', 'much', 'dead', '....', 'That', 'good', 'JOIN', 'JOIN', 'PART', 'JOIN', 'Yeah', 'well', 'good', 'like', 'that', '....', 'PART', 'PART', 'U101', 'PART', 'NICK', 'JOIN', 'what', 'that', 'JOIN', 'fast', 'hiya', 'U100', 'what', 'part', 'PART', 'JOIN', 'PART', 'PART', 'JOIN', 'back', 'nick', 'PART', 'want', 'chat', 'help', 'then', '!!!!', 'love', 'JOIN', 'PART', 'JOIN', 'sips', 'love', 'PART', 'they', 'more', 'like', 'JOIN', 'that', 'PART', 'clay', 'stay', 'late', 'have', 'None', 'here', 'Male', 'only', 'room', 'just', 'your', 'luck', '....', 'JOIN', 'PART', 'told', 'call', 'JOIN', 'here', 'Ahhh', 'full', '....', 'much', 'come', 'back', 'that', 'call', 'Sure', '....', 'down', 'till', 'this', 'PART', 'PART', 'PART', 'PART', 'told', 'JOIN', 'Well', 'here', 'dont', 'have', 'lmao', 'told', 'call', 'PART', 'have', 'PART', 'JOIN', 'JOIN', 'Well', 'call', 'when', 'want', 'PART', 'nice', 'fire', 'JOIN', 'aunt', 'well', 'that', 'PART', 'call', 'want', 'hear', 'that', 'from', 'PART', 'hope', 'gets', 'know', 'much', 'like', 'that', 'PART', 'JOIN', 'aunt', 'here', 'back', 'bacl', 'LMAO', 'PART', '!!!!', 'keep', 'JOIN', 'know', 'JOIN', 'They', 'want', 'body', 'back', 'here', 'PART', 'dont', 'many', 'awww', 'PART', 'hard', 'JOIN', 'cool', 'PART', 'this', 'song', 'that', 'song', 'head', 'just', 'that', 'last', 'they', 'than', 'slap', 'that', 'that', 'JOIN', 'need', 'some', 'JOIN', 'here', 'song', 'that', 'akon', 'JOIN', 'oops', '<---', 'JOIN', 'PART', 'JOIN', 'just', 'alot', 'PART', 'PART', 'PART', 'yoll', 'JOIN', 'PART', 'JOIN', 'JOIN', '!!!!', 'PART', 'JOIN', 'U114', 'U114', 'U114', 'MODE', 'U114', 'PART', 'PART', 'goes', 'boom', 'chat', 'type', 'PART', 'here', 'your', 'line', 'JOIN', 'they', 'have', 'good', 'News', 'Maps', 'more', 'even', 'more', 'love', 'shit', 'crap', 'What', 'heck', 'lawl', 'PART', 'PART', 'JOIN', 'When', 'JOIN', 'PART', 'page', 'here', 'Okay', 'real', 'PART', 'Yeah', 'PART', 'JOIN', 'PART', 'some', 'PART', 'sick', 'JOIN', 'Tiff', 'wazz', 'from', 'Chop', 'wazz', 'from', 'PART', 'JOIN', 'toes', 'DAMN', 'JOIN', 'What', 'toes', 'here', 'TYPR', 'them', 'poll', 'PART', 'toes', 'then', 'them', 'boed', 'JOIN', 'PART', 'Dude', 'some', 'that', 'PART', 'JOIN', 'food', 'back', 'JOIN', 'U122', 'with', 'chat', 'PART', 'PART', 'Does', 'here', 'know', 'U120', 'PART', 'PART', 'JOIN', 'JOIN', 'know', 'rock', 'PART', 'When', 'show', 'chat', 'PART', 'U122', 'with', 'both', 'have', 'same', 'does', 'chat', 'PART', 'JOIN', 'U122', 'U120', 'pwns', 'with', 'bare', 'life', 'PART', 'JOIN', 'love', 'life', 'also', 'life', 'good', 'Very', 'good', 'U120', 'real', 'real', 'here', 'real', 'from', 'chat', 'PART', 'JOIN', 'PART', 'hate', 'U122', 'that', 'dont', 'mind', 'guys', 'good', 'Good', 'Okay', 'love', 'when', 'hate', 'JOIN', 'JOIN', 'U122', 'with', 'need', 'love', 'when', 'chat', 'like', 'U122', 'else', 'U121', 'PART', 'PART', 'guys', 'want', 'talk', 'want', 'talk', 'with', 'PART', 'PART', 'JOIN', 'Food', 'chat', 'name', 'PART', 'your', 'chat', 'JOIN', 'come', 'come', 'into', 'well', 'must', 'JOIN', 'JOIN', 'PART', 'PART', 'have', 'JOIN', 'guys', 'want', 'chat', 'damn', 'feet', 'PART', 'chat', 'only', 'PART', 'JOIN', 'love', 'more', 'chat', 'PART', 'JOIN', 'JOIN', 'JOIN', 'JOIN', 'PART', 'JOIN', 'PART', 'PART', 'JOIN', 'JOIN', 'PART', 'chat', 'well', 'talk', 'JOIN', 'guys', 'talk', 'with', 'from', 'were', 'sexi', 'bois', 'JOIN', 'JOIN', 'JOIN', 'talk', 'JOIN', 'JOIN', 'JOIN', 'PART', 'here', 'JOIN', 'JOIN', 'JOIN', 'JOIN', 'JOIN', 'chat', 'chat', 'U144', 'PART', 'U136', 'chat', 'PART', 'U142', 'KNOW', 'GUYS', 'THAT', 'HAVE', 'NONE', 'YALL', 'EVEN', 'SEEN', 'NONE', 'WILL', 'HAVE', 'YOUR', 'COME', 'FACE', 'THAT', 'JUST', 'YOUR', 'want', 'talk', 'what', 'they', 'want', 'PART', 'JOIN', 'huge', 'Lmao', 'JOIN', 'down', 'caps', 'suck', 'PART', 'Kids', 'PART', 'PART', 'JOIN', 'PART', 'PART', 'guys', 'PART', 'PART', 'PART', 'JOIN', 'sure', 'dead', 'here', 'JOIN', '6:41', 'JOIN', 'this', 'just', 'bied', 'self', 'JOIN', 'talk', 'PART', '6:53', 'JOIN', 'chat', 'guys', 'wana', 'talk', 'girl', 'guys', 'JOIN', 'dont', 'U148', 'talk', 'take', 'PART', 'PART', 'JOIN', 'PART', 'JOIN', 'PART', 'JOIN', 'good', 'room', 'JOIN', 'JOIN', 'PART', 'JOIN', 'come', 'like', 'yall', 'They', 'have', 'JOIN', 'U156', 'need', 'U117', 'U117', 'JOIN', 'U149', 'JOIN', 'JOIN', 'this', 'room', 'U153', 'must', 'U117', 'what', 'here', 'chat', '7:45', 'like', 'U153', 'PART', 'U153', 'PART', 'JOIN', 'PART', 'will', 'this', 'any1', 'ever', 'hear', 'JOIN', 'that', 'move', 'into', 'same', 'room', 'U117', 'only', 'half', 'here', 'PART', 'good', 'need', 'soft', 'PART', 'JOIN', 'JOIN', 'then', 'JOIN', 'game', 'talk', 'here', 'JOIN', 'whos', 'game', 'guys', 'have', 'chat', 'chat', 'with', 'pics', 'want', 'read', 'JOIN', 'JOIN', 'same', 'like', 'JOIN', 'PART', 'argh', 'Uhhh', 'PART', 'that', 'game', 'guys', 'talk', 'tenn', 'hour', 'half', 'pure', 'like', 'fool', 'chat', 'JOIN', 'know', 'lawl', 'JOIN', 'PART', 'JOIN', 'U156', 'JOIN', 'U168', 'PART', 'JOIN', 'wazz', 'chat', 'many', 'does', 'PART', 'JOIN', 'JOIN', 'here', 'over', 'chat', 'PART', 'JOIN', 'PART', 'JOIN', 'chat', 'with', 'sits', 'rubs', 'chat', 'need', 'PART', 'JOIN', 'Lime', 'Song', 'your', 'your', 'song', 'PART', 'JOIN', 'guys', 'only', 'PART', 'talk', 'girl', 'JOIN', 'chat', 'U172', 'PART', 'talk', 'well', 'evil', 'PART', 'JOIN', 'chat', 'JOIN', 'PART', 'U164', 'PART', 'PART', 'what', 'hell', 'PART', 'PART', 'with', 'here', 'yeah', 'JOIN', 'PART', 'pics', 'chat', 'JOIN', 'hott', 'wana', 'with', 'know', 'U150', 'many', 'have', 'JOIN', 'PART', 'JOIN', 'PART', 'JOIN', 'JOIN', 'kool', 'PART', 'lmao', 'with', 'word', 'well', 'PART', 'PART', 'Lime', 'Song', 'dont', 'send', 'JOIN', 'JOIN', 'time', 'PART', 'JOIN', 'JOIN', 'U181', '????', 'PART', 'JOIN', 'babe', 'PART', 'look', 'like', 'dont', 'chat', 'PART', 'gone', 'PART', 'PART', 'JOIN', 'PART', 'PART', 'PART', 'that', 'them', 'know', 'PART', 'JOIN', 'JOIN', 'PART', 'PART', 'PART', 'this', 'room', 'PART', 'PART', 'Lime', 'Song', 'PART', 'JOIN', 'JOIN', 'PART', 'JOIN', 'PART', 'PART', 'PART', 'PART', 'gals', 'PART', 'JOIN', 'woah', 'holy', 'mary', 'ussy', 'U104', 'Tisk', 'Tisk', 'JOIN', 'U190', 'tisk', 'tisk', 'NICK', 'Lime', 'Song', 'your', 'JOIN', 'JOIN', 'U104', 'U190', 'JOIN', 'What', 'what', 'JOIN', '????', 'were', 'what', 'girl', 'same', 'girl', 'chat', 'JOIN', 'PART', 'PART', 'JOIN', 'JOIN', 'JOIN', 'JOIN', 'pics', 'chat', 'here', 'have', 'tell', 'JOIN', 'Lmao', 'knew', 'need', 'talk', 'PART', 'PART', 'knew', 'need', 'want', 'heya', 'tiff', 'JOIN', 'MODE', 'just', 'want', 'JOIN', 'Heys', 'U104', 'JOIN', 'JOIN', 'JOIN', 'U197', 'have', 'U197', 'JOIN', 'U156', 'U104', 'PART', 'U197', 'what', 'U122', 'guys', 'chat', \"<3's\", 'over', 'U197', 'Lime', 'Song', 'U197', 'soon', 'name', 'list', 'JOIN', 'JOIN', 'JOIN', 'room', 'JOIN', 'PART', 'PART', 'PART', 'JOIN', 'chat', 'JOIN', 'lmao', 'PART', 'JOIN', 'PART', 'PART', 'U122', 'girl', 'chat', 'JOIN', 'MODE', 'lets', 'chat', 'lisa', 'seen', 'U819', 'U819', 'U819', 'U819', 'Last', 'seen', 'days', 'hour', 'JOIN', 'PART', 'JOIN', 'PART', 'PART', 'JOIN', 'PART', 'JOIN', 'yall', 'JOIN', 'seen', 'U820', 'U820', 'U820', 'U820', 'Last', 'seen', 'PART', 'PART', 'JOIN', 'chat', 'very', 'swim', 'brwn', 'hair', 'butt', 'some', 'chat', 'U156', 'JOIN', 'fine', 'hurr', 'find', 'Were', 'JOIN', 'U197', 'that', 'know']\n"
          ]
        }
      ]
    },
    {
      "cell_type": "code",
      "source": [
        "freqdist = FreqDist(w for w in text5 if len(w) == 4)\n",
        "print(freqdist.most_common())"
      ],
      "metadata": {
        "colab": {
          "base_uri": "https://localhost:8080/"
        },
        "id": "gVlaKXMmU0fD",
        "outputId": "5199b1d3-9f71-4297-9937-2794f0d11039"
      },
      "execution_count": 29,
      "outputs": [
        {
          "output_type": "stream",
          "name": "stdout",
          "text": [
            "[('JOIN', 1021), ('PART', 1016), ('that', 274), ('what', 183), ('here', 181), ('....', 170), ('have', 164), ('like', 156), ('with', 152), ('chat', 142), ('your', 137), ('good', 130), ('just', 125), ('lmao', 107), ('know', 103), ('room', 98), ('from', 92), ('this', 86), ('well', 81), ('back', 78), ('hiya', 78), ('they', 77), ('dont', 75), ('yeah', 75), ('want', 71), ('love', 60), ('guys', 58), ('some', 58), ('been', 57), ('talk', 56), ('nice', 52), ('time', 50), ('when', 48), ('haha', 44), ('make', 44), ('girl', 43), ('need', 43), ('U122', 42), ('MODE', 41), ('will', 40), ('much', 40), ('then', 40), ('over', 39), ('work', 38), ('were', 38), ('take', 37), ('U121', 36), ('U115', 36), ('song', 36), ('even', 35), ('does', 35), ('seen', 35), ('U156', 35), ('U105', 35), ('more', 34), ('damn', 34), ('only', 33), ('come', 33), ('hell', 29), ('long', 28), ('them', 28), ('name', 27), ('tell', 27), ('away', 26), ('sure', 26), ('look', 26), ('baby', 26), ('call', 26), ('play', 25), ('U110', 25), ('U114', 25), ('NICK', 24), ('down', 24), ('cool', 24), ('sexy', 23), ('many', 23), ('hate', 23), ('said', 23), ('last', 22), ('ever', 22), ('hear', 21), ('life', 21), ('live', 20), ('feel', 19), ('very', 19), ('mean', 19), ('give', 19), ('same', 19), ('must', 19), ('stop', 19), ('LMAO', 19), ('!!!!', 18), ('hugs', 18), ('What', 18), ('find', 18), ('cant', 18), ('left', 17), ('????', 17), ('shit', 17), ('nite', 17), ('busy', 17), ('hair', 17), ('lost', 17), ('U104', 17), ('fine', 16), ('real', 16), ('game', 16), ('fuck', 15), ('sits', 15), ('eyes', 15), ('lets', 15), ('heya', 15), ('kill', 15), ('read', 14), ('shut', 14), ('wait', 14), ('goes', 14), ('keep', 14), ('true', 14), ('pick', 13), ('free', 13), ('else', 13), ('near', 13), ('nope', 13), ('U168', 13), ('hope', 12), ('head', 12), ('male', 12), ('than', 12), ('gets', 12), ('cold', 12), ('hehe', 12), ('bout', 12), ('stay', 12), ('used', 12), ('awww', 12), ('told', 12), ('This', 12), ('U102', 12), ('doin', 11), ('kids', 11), ('perv', 11), ('wont', 11), ('face', 11), ('home', 11), ('year', 11), ('babe', 11), ('into', 11), ('yall', 11), ('.. .', 11), ('U119', 11), ('U107', 11), ('hard', 10), ('show', 10), ('U101', 10), ('once', 10), ('Well', 10), ('help', 10), ('mind', 10), ('Yeah', 10), ('week', 10), ('Liam', 10), ('U132', 10), ('pics', 9), ('such', 9), ('type', 9), ('best', 9), ('neck', 9), ('dang', 9), ('dead', 9), ('runs', 9), ('aint', 9), ('rock', 9), ('days', 9), ('mine', 9), ('book', 9), ('crap', 9), ('soon', 9), ('care', 9), ('full', 9), ('kiss', 9), ('hour', 9), ('nick', 9), ('sick', 9), ('; ..', 9), ('hmmm', 9), ('U139', 8), ('word', 8), ('heyy', 8), ('case', 8), ('wana', 8), ('hows', 8), ('went', 8), ('lady', 8), ('blue', 8), ('says', 8), ('suck', 8), ('made', 8), ('wife', 8), ('sang', 8), ('U144', 8), ('fast', 7), ('rule', 7), ('dude', 7), ('okay', 7), ('alot', 7), ('hand', 7), ('took', 7), ('wear', 7), ('Hiya', 7), ('kick', 7), ('ahhh', 7), ('dear', 7), ('That', 7), ('U108', 7), ('U169', 7), ('U129', 6), ('U116', 6), ('most', 6), ('thru', 6), ('U165', 6), ('list', 6), ('seem', 6), ('sing', 6), ('next', 6), ('done', 6), ('ride', 6), ('comp', 6), ('main', 6), ('))))', 6), ('goin', 6), ('U520', 6), ('pink', 6), ('poor', 6), ('gone', 6), ('oops', 6), ('knew', 6), ('<---', 6), ('ball', 6), ('send', 6), ('Song', 6), ('blah', 6), ('They', 6), ('part', 6), ('U103', 6), ('U120', 6), ('Last', 6), ('whos', 6), ('food', 6), ('U142', 6), ('sock', 6), ('U197', 6), ('legs', 5), ('fire', 5), ('warm', 5), ('late', 5), ('hang', 5), ('miss', 5), ('boys', 5), ('land', 5), ('nose', 5), ('lick', 5), ('caps', 5), ('wish', 5), ('U128', 5), ('came', 5), ('cali', 5), ('roll', 5), ('easy', 5), ('lose', 5), ('When', 5), ('soul', 5), ('luck', 5), ('also', 5), ('kool', 5), ('fall', 5), ('boss', 5), ('beer', 5), ('ohhh', 5), ('####', 5), ('wall', 5), ('Have', 5), ('meet', 5), ('till', 5), ('feet', 5), ('xbox', 5), ('idea', 5), ('heck', 5), ('joke', 5), ('fool', 5), ('felt', 5), ('yoko', 5), ('meds', 5), ('both', 5), ('Lime', 5), ('glad', 4), ('U133', 4), ('U126', 4), ('jerk', 4), ('ugly', 4), ('date', 4), ('ummm', 4), ('quit', 4), ('rest', 4), ('door', 4), ('none', 4), ('self', 4), ('pass', 4), ('line', 4), ('cute', 4), ('holy', 4), ('hook', 4), ('Like', 4), ('each', 4), ('open', 4), ('high', 4), ('ouch', 4), ('evil', 4), ('fart', 4), ('grrr', 4), ('pain', 4), ('pfft', 4), ('sigh', 4), ('shes', 4), ('ROOM', 4), (',,,,', 4), ('lord', 4), ('mmmm', 4), ('ones', 4), ('huge', 4), ('woot', 4), ('shot', 4), ('team', 4), ('ways', 4), ('beat', 4), ('kent', 4), ('U130', 4), ('U196', 4), ('U219', 4), ('turn', 4), ('lame', 4), ('U123', 4), ('U154', 4), ('U988', 4), ('puff', 4), ('U146', 4), ('U989', 4), ('U117', 4), ('U819', 4), ('U820', 4), ('clap', 3), ('itch', 3), ('guyz', 3), ('U136', 3), ('gold', 3), ('ring', 3), ('isnt', 3), ('U141', 3), ('Only', 3), ('U148', 3), ('Your', 3), ('deal', 3), ('wash', 3), ('U109', 3), ('piff', 3), ('jump', 3), ('band', 3), ('orgy', 3), ('slap', 3), ('soft', 3), ('bend', 3), ('toss', 3), ('amen', 3), ('rain', 3), ('deop', 3), ('roof', 3), ('((((', 3), ('CHAT', 3), ('ahem', 3), ('hola', 3), ('butt', 3), ('imma', 3), ('town', 3), ('hawt', 3), ('2006', 3), ('Elev', 3), ('Wind', 3), ('AKDT', 3), ('lead', 3), ('DING', 3), ('note', 3), ('gawd', 3), ('half', 3), ('mary', 3), ('ello', 3), ('hick', 3), ('wine', 3), ('hiii', 3), ('bare', 3), ('vote', 3), ('Same', 3), ('wack', 3), ('snow', 3), ('hurt', 3), ('move', 3), ('road', 3), ('walk', 3), ('yawn', 3), ('hail', 3), ('nana', 3), ('U106', 3), ('hump', 3), ('elle', 3), ('yada', 3), ('tune', 3), ('hank', 3), ('slow', 3), ('rubs', 3), ('skin', 3), ('died', 3), ('U145', 3), ('swim', 3), ('U163', 3), ('army', 3), ('THAT', 3), ('wazz', 3), ('toes', 3), ('U153', 3), ('golf', 2), ('drew', 2), ('cast', 2), ('Days', 2), ('opps', 2), ('U138', 2), ('plan', 2), ('Just', 2), ('deaf', 2), ('deep', 2), ('phil', 2), ('hmph', 2), ('U155', 2), ('Poor', 2), ('Lies', 2), ('bite', 2), ('mins', 2), ('eats', 2), ('>:->', 2), ('cell', 2), ('cmon', 2), ('wats', 2), ('kind', 2), ('mike', 2), ('whoa', 2), ('dumb', 2), ('park', 2), ('Sure', 2), ('Come', 2), ('O.k.', 2), ('mama', 2), ('Nice', 2), ('hold', 2), ('ohio', 2), ('whip', 2), ('twin', 2), ('burp', 2), ('blew', 2), ('temp', 2), ('corn', 2), ('pool', 2), ('cash', 2), ('ears', 2), ('From', 2), ('porn', 2), ('heal', 2), ('Dang', 2), ('ciao', 2), ('DOES', 2), ('typo', 2), ('Stop', 2), ('eric', 2), ('Drew', 2), ('sore', 2), ('Live', 2), ('High', 2), ('hits', 2), ('KoOL', 2), ('past', 2), ('Love', 2), ('meat', 2), ('!!!.', 2), ('argh', 2), ('limp', 2), ('rent', 2), ('cars', 2), ('Tell', 2), ('shop', 2), ('U172', 2), ('five', 2), ('sell', 2), ('<<<<', 2), ('city', 2), ('yard', 2), ('grrl', 2), ('chip', 2), ('bear', 2), ('foot', 2), ('uses', 2), ('DONT', 2), ('sort', 2), ('lies', 2), ('whud', 2), ('hott', 2), ('Down', 2), ('Lets', 2), ('club', 2), ('adds', 2), ('Here', 2), ('born', 2), ('wOOt', 2), ('area', 2), ('?!?!', 2), ('Ohio', 2), ('U112', 2), ('humm', 2), ('newp', 2), ('gays', 2), ('zone', 2), ('hint', 2), ('spin', 2), ('ewww', 2), ('pies', 2), ('doll', 2), ('drop', 2), ('gimp', 2), ('spot', 2), ('ages', 2), ('clue', 2), ('mass', 2), ('Ummm', 2), ('Gosh', 2), ('flow', 2), ('kewl', 2), ('hall', 2), ('haze', 2), ('1996', 2), ('John', 2), ('john', 2), ('sooo', 2), ('cost', 2), ('trip', 2), ('babi', 2), ('rich', 2), ('U100', 2), ('n9ne', 2), ('Ahhh', 2), ('??!!', 2), ('U111', 2), ('moon', 2), ('STOP', 2), ('any1', 2), ('yeas', 2), ('wooo', 2), ('<333', 2), ('tick', 2), ('tock', 2), ('WITH', 2), ('FROM', 2), ('side', 2), ('Heyy', 2), ('howz', 2), (\"ex's\", 2), ('Cool', 2), ('U170', 2), ('U175', 2), ('root', 2), ('tyvm', 2), ('luvs', 2), ('fits', 2), ('rofl', 2), ('sand', 2), ('ltns', 2), ('flaw', 2), ('aunt', 2), ('lawl', 2), ('Okay', 2), ('HAVE', 2), ('NONE', 2), ('YOUR', 2), ('Lmao', 2), ('Tisk', 2), ('U190', 2), ('tisk', 2), ('draw', 1), ('docs', 1), ('Slip', 1), ('Fade', 1), ('bowl', 1), ('bong', 1), ('ogan', 1), ('cams', 1), ('gooo', 1), ('yeee', 1), ('ahah', 1), ('jeep', 1), ('Deep', 1), ('Show', 1), ('Turn', 1), ('Hand', 1), ('VBox', 1), ('ELSE', 1), ('serg', 1), ('bein', 1), ('whys', 1), ('tape', 1), ('sexs', 1), ('form', 1), ('HUGE', 1), ('nads', 1), ('owww', 1), ('gags', 1), ('Meep', 1), ('LAst', 1), (\"pm's\", 1), ('1.99', 1), ('lool', 1), ('kina', 1), ('sext', 1), ('lazy', 1), ('calm', 1), ('arms', 1), ('smax', 1), ('VVil', 1), ('este', 1), ('chik', 1), ('Boyz', 1), ('coat', 1), ('Eyes', 1), ('Dawn', 1), ('LIVE', 1), ('mauh', 1), ('ques', 1), ('4.20', 1), ('gosh', 1), ('ruff', 1), ('mame', 1), ('nada', 1), ('push', 1), ('prob', 1), ('wild', 1), ('whew', 1), ('dark', 1), ('waht', 1), ('test', 1), ('boot', 1), ('hiom', 1), ('HAHA', 1), ('dman', 1), ('jail', 1), ('cops', 1), ('hogs', 1), ('peek', 1), ('MORE', 1), ('TIME', 1), ('loud', 1), ('o.k.', 1), ('Sexy', 1), ('Ctrl', 1), ('hots', 1), ('Need', 1), ('frst', 1), ('1200', 1), ('crop', 1), ('bomb', 1), ('Pour', 1), ('pour', 1), ('Swim', 1), ('Hard', 1), ('eeek', 1), ('tjhe', 1), ('10th', 1), ('heee', 1), ('peel', 1), ('fock', 1), ('Kold', 1), ('exit', 1), ('kold', 1), ('3:45', 1), ('MRIs', 1), ('buff', 1), ('plus', 1), ('tory', 1), ('knee', 1), ('OOPS', 1), ('oooh', 1), ('lala', 1), ('fake', 1), ('ssid', 1), ('poot', 1), ('poop', 1), ('bird', 1), ('plow', 1), ('thnx', 1), ('card', 1), ('Hugs', 1), ('Lord', 1), ('uyes', 1), ('benz', 1), ('<~~~', 1), ('disc', 1), ('LONG', 1), ('Been', 1), ('Will', 1), ('bloe', 1), ('blow', 1), ('hooo', 1), ('thje', 1), ('Jess', 1), ('term', 1), ('Tina', 1), ('ooer', 1), ('HALO', 1), ('Awww', 1), ('anal', 1), ('Drop', 1), ('dojn', 1), ('wubs', 1), ('mkay', 1), ('spat', 1), ('gees', 1), ('hawT', 1), ('yes.', 1), ('puts', 1), ('fish', 1), ('size', 1), ('39.3', 1), ('1980', 1), ('64.8', 1), ('syck', 1), ('tere', 1), ('U542', 1), ('sent', 1), ('45.5', 1), ('98.5', 1), ('1299', 1), ('1900', 1), ('1930', 1), ('Werd', 1), ('Rofl', 1), ('mode', 1), ('nawt', 1), ('sign', 1), ('woof', 1), ('sum1', 1), ('ghet', 1), ('brad', 1), ('offa', 1), ('Dood', 1), ('out.', 1), ('LOUD', 1), ('sink', 1), ('FINE', 1), ('cums', 1), ('loss', 1), ('Life', 1), ('Damn', 1), ('wrap', 1), ('hide', 1), (\"PM's\", 1), ('Talk', 1), ('okey', 1), ('worl', 1), ('Hold', 1), ('cepn', 1), ('lots', 1), ('Mary', 1), ('nawp', 1), ('addy', 1), ('lake', 1), ('slip', 1), ('mite', 1), ('wood', 1), ('orta', 1), ('wins', 1), ('ebay', 1), ('coem', 1), ('giva', 1), ('1.98', 1), ('ally', 1), ('Judy', 1), ('cyas', 1), ('shup', 1), ('tooo', 1), (\"pm'n\", 1), ('choc', 1), ('wher', 1), ('whoo', 1), ('dint', 1), ('tend', 1), ('menu', 1), ('lust', 1), ('nods', 1), ('NAME', 1), ('kept', 1), ('scuk', 1), ('raed', 1), ('Then', 1), ('bugs', 1), ('nerd', 1), ('Hill', 1), ('Evil', 1), ('saME', 1), ('2Pac', 1), ('Time', 1), ('pimp', 1), ('haaa', 1), ('98.6', 1), (\"it's\", 1), ('Mono', 1), ('mono', 1), ('Bone', 1), ('Hero', 1), ('Came', 1), ('.op.', 1), ('Hott', 1), ('Joey', 1), ('Jane', 1), ('span', 1), ('wore', 1), ('QUIT', 1), ('pasa', 1), ('barn', 1), ('Kick', 1), ('feat', 1), ('Back', 1), ('dork', 1), ('laid', 1), ('Home', 1), ('herd', 1), ('Born', 1), ('Away', 1), ('Tide', 1), ('jush', 1), ('Cute', 1), ('GrlZ', 1), ('lung', 1), ('SOME', 1), ('Lion', 1), ('brat', 1), (':o *', 1), ('MUAH', 1), ('fawk', 1), ('dust', 1), ('Help', 1), ('seth', 1), ('Heya', 1), ('bone', 1), ('abou', 1), ('tthe', 1), ('Even', 1), ('herE', 1), ('Hail', 1), ('halo', 1), ('pork', 1), ('1cos', 1), (\"yw's\", 1), ('mark', 1), ('dotn', 1), ('PMSL', 1), ('pmsl', 1), ('gift', 1), ('outs', 1), ('Paul', 1), ('outa', 1), ('York', 1), ('Care', 1), ('Chat', 1), ('fear', 1), ('dies', 1), ('givs', 1), ('bust', 1), ('xmas', 1), ('enuf', 1), ('LoVe', 1), ('eeww', 1), ('dick', 1), ('fair', 1), ('lyin', 1), ('lois', 1), ('cuss', 1), ('LATE', 1), ('THEY', 1), ('GOOD', 1), ('rape', 1), ('geez', 1), ('tart', 1), ('hgey', 1), ('caan', 1), ('lol.', 1), ('Elle', 1), ('nude', 1), ('allo', 1), ('yesh', 1), ('wind', 1), ('Reub', 1), ('!???', 1), ('heat', 1), ('kmph', 1), ('pope', 1), ('yess', 1), ('!...', 1), ('duet', 1), ('wuts', 1), ('west', 1), ('quiz', 1), ('scar', 1), ('Girl', 1), ('pair', 1), ('Rang', 1), ('rang', 1), ('bell', 1), ('dawg', 1), ('febe', 1), ('Prof', 1), ('Kewl', 1), ('jude', 1), ('Yoko', 1), ('seee', 1), ('whou', 1), ('idnt', 1), ('perk', 1), ('http', 1), ('2DAY', 1), ('yell', 1), ('mang', 1), ('SSRI', 1), ('cure', 1), ('wean', 1), ('post', 1), ('anti', 1), ('noth', 1), ('tall', 1), ('pray', 1), ('weed', 1), ('icky', 1), ('Rick', 1), ('spit', 1), ('lube', 1), ('mami', 1), ('east', 1), ('18ST', 1), ('seat', 1), ('cock', 1), ('SExy', 1), ('otay', 1), ('firs', 1), ('site', 1), ('U113', 1), ('dump', 1), ('toop', 1), ('four', 1), ('U118', 1), ('sets', 1), ('asss', 1), ('paid', 1), ('Iowa', 1), ('Teck', 1), ('\"...', 1), ('jeff', 1), ('crib', 1), ('drug', 1), ('cook', 1), ('9:10', 1), ('ladz', 1), ('aime', 1), ('hong', 1), ('kong', 1), ('Oops', 1), ('tits', 1), ('gret', 1), ('guns', 1), ('inch', 1), ('sean', 1), ('howl', 1), ('Take', 1), ('z-ro', 1), ('U137', 1), ('Haha', 1), ('1985', 1), ('slam', 1), ('pine', 1), ('puke', 1), ('waaa', 1), ('urls', 1), ('star', 1), ('Save', 1), ('teck', 1), ('Room', 1), ('sori', 1), ('Long', 1), ('poem', 1), ('jack', 1), ('Rule', 1), ('CAPS', 1), ('junk', 1), ('tips', 1), ('rush', 1), ('Nooo', 1), ('Troy', 1), ('tail', 1), ('Seee', 1), ('6:38', 1), ('dyed', 1), ('t he', 1), ('beam', 1), ('daft', 1), ('twit', 1), ('scum', 1), ('U134', 1), ('Type', 1), ('WHOA', 1), ('toke', 1), ('ribs', 1), ('Eggs', 1), ('Wyte', 1), ('moms', 1), ('Over', 1), ('West', 1), ('Rock', 1), ('goof', 1), ('U143', 1), ('able', 1), ('vamp', 1), ('Nope', 1), ('Kent', 1), ('ther', 1), ('U147', 1), ('TEXT', 1), ('SIZE', 1), ('gear', 1), ('CALI', 1), ('Matt', 1), ('Rush', 1), ('AWAY', 1), ('NTMN', 1), ('Kiss', 1), ('U158', 1), ('grea', 1), ('Look', 1), ('guts', 1), ('wrek', 1), ('Fort', 1), ('2:55', 1), ('AKST', 1), ('4:03', 1), ('wire', 1), ('soda', 1), ('gray', 1), ('tlak', 1), ('ltnc', 1), (\"ok'd\", 1), ('sayn', 1), ('evah', 1), ('bike', 1), ('hill', 1), ('ohwa', 1), ('caca', 1), ('prep', 1), ('pull', 1), ('dirt', 1), ('vent', 1), ('100%', 1), ('safe', 1), ('dogs', 1), ('bull', 1), ('asks', 1), ('Road', 1), ('chit', 1), ('grin', 1), ('bred', 1), ('rats', 1), ('Sat.', 1), ('samn', 1), ('Phil', 1), ('nuff', 1), ('rose', 1), ('Ruth', 1), ('grew', 1), ('mena', 1), ('ROFL', 1), ('lapd', 1), ('surf', 1), ('City', 1), ('hazy', 1), ('thot', 1), ('acid', 1), ('wide', 1), ('keys', 1), ('salt', 1), ('mess', 1), ('base', 1), ('byes', 1), (\"RN's\", 1), ('yout', 1), ('numb', 1), ('thah', 1), ('mahn', 1), ('King', 1), ('TALK', 1), ('GIRL', 1), ('WHEN', 1), ('HOTT', 1), ('HERE', 1), ('soup', 1), ('6:51', 1), ('9.53', 1), ('Mine', 1), ('vega', 1), ('pigs', 1), ('king', 1), ('poof', 1), ('Nova', 1), ('mofo', 1), ('Ohhh', 1), ('Holy', 1), ('sips', 1), ('clay', 1), ('None', 1), ('Male', 1), ('bacl', 1), ('body', 1), ('akon', 1), ('yoll', 1), ('boom', 1), ('News', 1), ('Maps', 1), ('page', 1), ('Tiff', 1), ('Chop', 1), ('DAMN', 1), ('TYPR', 1), ('poll', 1), ('boed', 1), ('Dude', 1), ('Does', 1), ('pwns', 1), ('Very', 1), ('Good', 1), ('Food', 1), ('sexi', 1), ('bois', 1), ('KNOW', 1), ('GUYS', 1), ('YALL', 1), ('EVEN', 1), ('SEEN', 1), ('WILL', 1), ('COME', 1), ('FACE', 1), ('JUST', 1), ('Kids', 1), ('6:41', 1), ('bied', 1), ('6:53', 1), ('U149', 1), ('7:45', 1), ('Uhhh', 1), ('tenn', 1), ('pure', 1), ('U164', 1), ('U150', 1), ('U181', 1), ('gals', 1), ('woah', 1), ('ussy', 1), ('tiff', 1), ('Heys', 1), (\"<3's\", 1), ('lisa', 1), ('brwn', 1), ('hurr', 1), ('Were', 1)]\n"
          ]
        }
      ]
    },
    {
      "cell_type": "markdown",
      "source": [
        "22.Review the discussion of looping with conditions in 4. Use a combination of for and if statements to loop over the words of the movie script for Monty Python and the Holy Grail (text6) and print all the uppercase words, one per line."
      ],
      "metadata": {
        "id": "wr7CMyh7Vgcj"
      }
    },
    {
      "cell_type": "code",
      "source": [
        "for w in text6:\n",
        "  if w.isupper():\n",
        "    print(w)\n",
        "\n"
      ],
      "metadata": {
        "colab": {
          "base_uri": "https://localhost:8080/"
        },
        "id": "tduHcg5FWa0y",
        "outputId": "5d4c98cb-0dae-4bcd-9f2e-c6a7b0cb5c21"
      },
      "execution_count": 30,
      "outputs": [
        {
          "output_type": "stream",
          "name": "stdout",
          "text": [
            "SCENE\n",
            "KING\n",
            "ARTHUR\n",
            "SOLDIER\n",
            "ARTHUR\n",
            "I\n",
            "SOLDIER\n",
            "ARTHUR\n",
            "I\n",
            "I\n",
            "SOLDIER\n",
            "ARTHUR\n",
            "SOLDIER\n",
            "ARTHUR\n",
            "SOLDIER\n",
            "ARTHUR\n",
            "SOLDIER\n",
            "ARTHUR\n",
            "SOLDIER\n",
            "ARTHUR\n",
            "SOLDIER\n",
            "ARTHUR\n",
            "SOLDIER\n",
            "ARTHUR\n",
            "SOLDIER\n",
            "A\n",
            "ARTHUR\n",
            "SOLDIER\n",
            "A\n",
            "ARTHUR\n",
            "SOLDIER\n",
            "ARTHUR\n",
            "SOLDIER\n",
            "I\n",
            "ARTHUR\n",
            "I\n",
            "SOLDIER\n",
            "SOLDIER\n",
            "SOLDIER\n",
            "I\n",
            "ARTHUR\n",
            "SOLDIER\n",
            "SOLDIER\n",
            "SOLDIER\n",
            "SOLDIER\n",
            "SOLDIER\n",
            "SOLDIER\n",
            "SOLDIER\n",
            "SOLDIER\n",
            "SCENE\n",
            "CART\n",
            "MASTER\n",
            "CUSTOMER\n",
            "CART\n",
            "MASTER\n",
            "DEAD\n",
            "PERSON\n",
            "I\n",
            "CART\n",
            "MASTER\n",
            "CUSTOMER\n",
            "DEAD\n",
            "PERSON\n",
            "I\n",
            "CART\n",
            "MASTER\n",
            "CUSTOMER\n",
            "DEAD\n",
            "PERSON\n",
            "I\n",
            "CART\n",
            "MASTER\n",
            "CUSTOMER\n",
            "DEAD\n",
            "PERSON\n",
            "I\n",
            "CUSTOMER\n",
            "CART\n",
            "MASTER\n",
            "I\n",
            "DEAD\n",
            "PERSON\n",
            "I\n",
            "CUSTOMER\n",
            "CART\n",
            "MASTER\n",
            "I\n",
            "DEAD\n",
            "PERSON\n",
            "I\n",
            "CUSTOMER\n",
            "CART\n",
            "MASTER\n",
            "I\n",
            "CUSTOMER\n",
            "CART\n",
            "MASTER\n",
            "I\n",
            "CUSTOMER\n",
            "CART\n",
            "MASTER\n",
            "DEAD\n",
            "PERSON\n",
            "I\n",
            "I\n",
            "CUSTOMER\n",
            "DEAD\n",
            "PERSON\n",
            "I\n",
            "I\n",
            "CUSTOMER\n",
            "CART\n",
            "MASTER\n",
            "CUSTOMER\n",
            "CART\n",
            "MASTER\n",
            "I\n",
            "CUSTOMER\n",
            "CART\n",
            "MASTER\n",
            "SCENE\n",
            "ARTHUR\n",
            "DENNIS\n",
            "ARTHUR\n",
            "DENNIS\n",
            "I\n",
            "ARTHUR\n",
            "I\n",
            "DENNIS\n",
            "I\n",
            "I\n",
            "ARTHUR\n",
            "I\n",
            "DENNIS\n",
            "ARTHUR\n",
            "I\n",
            "DENNIS\n",
            "ARTHUR\n",
            "I\n",
            "DENNIS\n",
            "I\n",
            "ARTHUR\n",
            "I\n",
            "DENNIS\n",
            "WOMAN\n",
            "ARTHUR\n",
            "I\n",
            "WOMAN\n",
            "ARTHUR\n",
            "WOMAN\n",
            "ARTHUR\n",
            "I\n",
            "WOMAN\n",
            "I\n",
            "I\n",
            "DENNIS\n",
            "A\n",
            "WOMAN\n",
            "DENNIS\n",
            "ARTHUR\n",
            "I\n",
            "WOMAN\n",
            "ARTHUR\n",
            "WOMAN\n",
            "ARTHUR\n",
            "DENNIS\n",
            "I\n",
            "ARTHUR\n",
            "DENNIS\n",
            "ARTHUR\n",
            "I\n",
            "DENNIS\n",
            "ARTHUR\n",
            "DENNIS\n",
            "ARTHUR\n",
            "I\n",
            "WOMAN\n",
            "ARTHUR\n",
            "I\n",
            "WOMAN\n",
            "I\n",
            "ARTHUR\n",
            "WOMAN\n",
            "ARTHUR\n",
            "I\n",
            "I\n",
            "DENNIS\n",
            "ARTHUR\n",
            "DENNIS\n",
            "ARTHUR\n",
            "DENNIS\n",
            "I\n",
            "I\n",
            "I\n",
            "ARTHUR\n",
            "DENNIS\n",
            "ARTHUR\n",
            "DENNIS\n",
            "I\n",
            "ARTHUR\n",
            "DENNIS\n",
            "I\n",
            "SCENE\n",
            "BLACK\n",
            "KNIGHT\n",
            "BLACK\n",
            "KNIGHT\n",
            "GREEN\n",
            "KNIGHT\n",
            "BLACK\n",
            "KNIGHT\n",
            "GREEN\n",
            "KNIGHT\n",
            "BLACK\n",
            "KNIGHT\n",
            "BLACK\n",
            "KNIGHT\n",
            "GREEN\n",
            "KNIGHT\n",
            "GREEN\n",
            "KNIGHT\n",
            "BLACK\n",
            "KNIGHT\n",
            "GREEN\n",
            "KNIGHT\n",
            "BLACK\n",
            "KNIGHT\n",
            "ARTHUR\n",
            "I\n",
            "I\n",
            "BLACK\n",
            "KNIGHT\n",
            "ARTHUR\n",
            "BLACK\n",
            "KNIGHT\n",
            "ARTHUR\n",
            "I\n",
            "I\n",
            "BLACK\n",
            "KNIGHT\n",
            "ARTHUR\n",
            "I\n",
            "BLACK\n",
            "KNIGHT\n",
            "I\n",
            "ARTHUR\n",
            "ARTHUR\n",
            "BLACK\n",
            "KNIGHT\n",
            "ARTHUR\n",
            "BLACK\n",
            "KNIGHT\n",
            "ARTHUR\n",
            "BLACK\n",
            "KNIGHT\n",
            "ARTHUR\n",
            "A\n",
            "BLACK\n",
            "KNIGHT\n",
            "ARTHUR\n",
            "BLACK\n",
            "KNIGHT\n",
            "I\n",
            "ARTHUR\n",
            "BLACK\n",
            "KNIGHT\n",
            "ARTHUR\n",
            "BLACK\n",
            "KNIGHT\n",
            "ARTHUR\n",
            "BLACK\n",
            "KNIGHT\n",
            "ARTHUR\n",
            "BLACK\n",
            "KNIGHT\n",
            "ARTHUR\n",
            "BLACK\n",
            "KNIGHT\n",
            "ARTHUR\n",
            "BLACK\n",
            "KNIGHT\n",
            "I\n",
            "ARTHUR\n",
            "BLACK\n",
            "KNIGHT\n",
            "ARTHUR\n",
            "BLACK\n",
            "KNIGHT\n",
            "ARTHUR\n",
            "I\n",
            "ARTHUR\n",
            "BLACK\n",
            "KNIGHT\n",
            "BLACK\n",
            "KNIGHT\n",
            "I\n",
            "ARTHUR\n",
            "BLACK\n",
            "KNIGHT\n",
            "ARTHUR\n",
            "BLACK\n",
            "KNIGHT\n",
            "I\n",
            "ARTHUR\n",
            "BLACK\n",
            "KNIGHT\n",
            "ARTHUR\n",
            "BLACK\n",
            "KNIGHT\n",
            "BLACK\n",
            "KNIGHT\n",
            "ARTHUR\n",
            "BLACK\n",
            "KNIGHT\n",
            "I\n",
            "I\n",
            "SCENE\n",
            "MONKS\n",
            "CROWD\n",
            "A\n",
            "A\n",
            "A\n",
            "A\n",
            "MONKS\n",
            "CROWD\n",
            "A\n",
            "A\n",
            "A\n",
            "A\n",
            "A\n",
            "A\n",
            "A\n",
            "A\n",
            "A\n",
            "A\n",
            "A\n",
            "A\n",
            "A\n",
            "VILLAGER\n",
            "CROWD\n",
            "BEDEVERE\n",
            "VILLAGER\n",
            "CROWD\n",
            "BEDEVERE\n",
            "WITCH\n",
            "I\n",
            "I\n",
            "BEDEVERE\n",
            "WITCH\n",
            "CROWD\n",
            "WITCH\n",
            "BEDEVERE\n",
            "VILLAGER\n",
            "BEDEVERE\n",
            "VILLAGER\n",
            "VILLAGER\n",
            "CROWD\n",
            "BEDEVERE\n",
            "VILLAGER\n",
            "VILLAGER\n",
            "VILLAGER\n",
            "VILLAGER\n",
            "VILLAGERS\n",
            "VILLAGER\n",
            "VILLAGER\n",
            "VILLAGER\n",
            "VILLAGER\n",
            "A\n",
            "VILLAGERS\n",
            "A\n",
            "VILLAGER\n",
            "A\n",
            "VILLAGER\n",
            "RANDOM\n",
            "BEDEVERE\n",
            "VILLAGER\n",
            "BEDEVERE\n",
            "A\n",
            "VILLAGER\n",
            "I\n",
            "VILLAGER\n",
            "VILLAGER\n",
            "CROWD\n",
            "BEDEVERE\n",
            "VILLAGER\n",
            "VILLAGER\n",
            "VILLAGER\n",
            "CROWD\n",
            "BEDEVERE\n",
            "VILLAGER\n",
            "VILLAGER\n",
            "CROWD\n",
            "BEDEVERE\n",
            "VILLAGER\n",
            "VILLAGER\n",
            "VILLAGER\n",
            "BEDEVERE\n",
            "VILLAGER\n",
            "B\n",
            "BEDEVERE\n",
            "CROWD\n",
            "BEDEVERE\n",
            "VILLAGER\n",
            "BEDEVERE\n",
            "VILLAGER\n",
            "RANDOM\n",
            "BEDEVERE\n",
            "VILLAGER\n",
            "VILLAGER\n",
            "VILLAGER\n",
            "CROWD\n",
            "BEDEVERE\n",
            "VILLAGER\n",
            "VILLAGER\n",
            "VILLAGER\n",
            "VILLAGER\n",
            "VILLAGER\n",
            "VILLAGER\n",
            "VILLAGER\n",
            "VILLAGER\n",
            "VILLAGER\n",
            "ARTHUR\n",
            "A\n",
            "CROWD\n",
            "BEDEVERE\n",
            "VILLAGER\n",
            "BEDEVERE\n",
            "VILLAGER\n",
            "A\n",
            "VILLAGER\n",
            "A\n",
            "CROWD\n",
            "A\n",
            "A\n",
            "VILLAGER\n",
            "BEDEVERE\n",
            "CROWD\n",
            "BEDEVERE\n",
            "CROWD\n",
            "A\n",
            "A\n",
            "A\n",
            "WITCH\n",
            "VILLAGER\n",
            "CROWD\n",
            "BEDEVERE\n",
            "ARTHUR\n",
            "I\n",
            "BEDEVERE\n",
            "ARTHUR\n",
            "BEDEVERE\n",
            "I\n",
            "ARTHUR\n",
            "BEDEVERE\n",
            "ARTHUR\n",
            "I\n",
            "NARRATOR\n",
            "SCENE\n",
            "SIR\n",
            "BEDEVERE\n",
            "ARTHUR\n",
            "BEDEVERE\n",
            "SIR\n",
            "LAUNCELOT\n",
            "ARTHUR\n",
            "SIR\n",
            "GALAHAD\n",
            "LAUNCELOT\n",
            "PATSY\n",
            "ARTHUR\n",
            "I\n",
            "KNIGHTS\n",
            "PRISONER\n",
            "KNIGHTS\n",
            "MAN\n",
            "I\n",
            "ARTHUR\n",
            "KNIGHTS\n",
            "SCENE\n",
            "GOD\n",
            "I\n",
            "ARTHUR\n",
            "GOD\n",
            "I\n",
            "I\n",
            "ARTHUR\n",
            "I\n",
            "O\n",
            "GOD\n",
            "ARTHUR\n",
            "GOD\n",
            "ARTHUR\n",
            "O\n",
            "GOD\n",
            "LAUNCELOT\n",
            "A\n",
            "A\n",
            "GALAHAD\n",
            "SCENE\n",
            "ARTHUR\n",
            "FRENCH\n",
            "GUARD\n",
            "ARTHUR\n",
            "FRENCH\n",
            "GUARD\n",
            "ARTHUR\n",
            "FRENCH\n",
            "GUARD\n",
            "I\n",
            "I\n",
            "ARTHUR\n",
            "GALAHAD\n",
            "ARTHUR\n",
            "FRENCH\n",
            "GUARD\n",
            "I\n",
            "ARTHUR\n",
            "FRENCH\n",
            "GUARD\n",
            "ARTHUR\n",
            "FRENCH\n",
            "GUARD\n",
            "I\n",
            "I\n",
            "GALAHAD\n",
            "FRENCH\n",
            "GUARD\n",
            "ARTHUR\n",
            "FRENCH\n",
            "GUARD\n",
            "I\n",
            "GALAHAD\n",
            "ARTHUR\n",
            "FRENCH\n",
            "GUARD\n",
            "I\n",
            "I\n",
            "GALAHAD\n",
            "FRENCH\n",
            "GUARD\n",
            "I\n",
            "ARTHUR\n",
            "I\n",
            "FRENCH\n",
            "GUARD\n",
            "OTHER\n",
            "FRENCH\n",
            "GUARD\n",
            "FRENCH\n",
            "GUARD\n",
            "ARTHUR\n",
            "I\n",
            "KNIGHTS\n",
            "ARTHUR\n",
            "KNIGHTS\n",
            "FRENCH\n",
            "GUARD\n",
            "FRENCH\n",
            "GUARD\n",
            "ARTHUR\n",
            "KNIGHTS\n",
            "FRENCH\n",
            "GUARD\n",
            "FRENCH\n",
            "GUARDS\n",
            "LAUNCELOT\n",
            "I\n",
            "ARTHUR\n",
            "BEDEVERE\n",
            "I\n",
            "FRENCH\n",
            "GUARDS\n",
            "C\n",
            "A\n",
            "ARTHUR\n",
            "BEDEVERE\n",
            "I\n",
            "ARTHUR\n",
            "BEDEVERE\n",
            "U\n",
            "I\n",
            "ARTHUR\n",
            "BEDEVERE\n",
            "ARTHUR\n",
            "KNIGHTS\n",
            "CRASH\n",
            "FRENCH\n",
            "GUARDS\n",
            "SCENE\n",
            "VOICE\n",
            "DIRECTOR\n",
            "HISTORIAN\n",
            "KNIGHT\n",
            "KNIGHT\n",
            "HISTORIAN\n",
            "HISTORIAN\n",
            "S\n",
            "WIFE\n",
            "SCENE\n",
            "NARRATOR\n",
            "MINSTREL\n",
            "O\n",
            "SIR\n",
            "ROBIN\n",
            "DENNIS\n",
            "WOMAN\n",
            "ALL\n",
            "HEADS\n",
            "MINSTREL\n",
            "ROBIN\n",
            "I\n",
            "ALL\n",
            "HEADS\n",
            "MINSTREL\n",
            "ROBIN\n",
            "I\n",
            "ALL\n",
            "HEADS\n",
            "I\n",
            "ROBIN\n",
            "W\n",
            "I\n",
            "I\n",
            "ALL\n",
            "HEADS\n",
            "ROBIN\n",
            "I\n",
            "LEFT\n",
            "HEAD\n",
            "I\n",
            "MIDDLE\n",
            "HEAD\n",
            "I\n",
            "RIGHT\n",
            "HEAD\n",
            "I\n",
            "MIDDLE\n",
            "HEAD\n",
            "I\n",
            "LEFT\n",
            "HEAD\n",
            "I\n",
            "RIGHT\n",
            "HEAD\n",
            "LEFT\n",
            "HEAD\n",
            "ROBIN\n",
            "I\n",
            "LEFT\n",
            "HEAD\n",
            "I\n",
            "RIGHT\n",
            "HEAD\n",
            "MIDDLE\n",
            "HEAD\n",
            "LEFT\n",
            "HEAD\n",
            "RIGHT\n",
            "HEAD\n",
            "MIDDLE\n",
            "HEAD\n",
            "LEFT\n",
            "HEAD\n",
            "MIDDLE\n",
            "HEAD\n",
            "LEFT\n",
            "HEAD\n",
            "I\n",
            "MIDDLE\n",
            "HEAD\n",
            "RIGHT\n",
            "HEAD\n",
            "LEFT\n",
            "HEAD\n",
            "MIDDLE\n",
            "HEAD\n",
            "RIGHT\n",
            "HEAD\n",
            "LEFT\n",
            "HEAD\n",
            "ALL\n",
            "HEADS\n",
            "MIDDLE\n",
            "HEAD\n",
            "RIGHT\n",
            "HEAD\n",
            "MINSTREL\n",
            "ROBIN\n",
            "MINSTREL\n",
            "ROBIN\n",
            "I\n",
            "MINSTREL\n",
            "ROBIN\n",
            "MINSTREL\n",
            "ROBIN\n",
            "I\n",
            "MINSTREL\n",
            "ROBIN\n",
            "I\n",
            "MINSTREL\n",
            "ROBIN\n",
            "MINSTREL\n",
            "ROBIN\n",
            "I\n",
            "CARTOON\n",
            "MONKS\n",
            "CARTOON\n",
            "CHARACTER\n",
            "CARTOON\n",
            "MONKS\n",
            "CARTOON\n",
            "CHARACTERS\n",
            "CARTOON\n",
            "MONKS\n",
            "CARTOON\n",
            "CHARACTER\n",
            "VOICE\n",
            "CARTOON\n",
            "CHARACTER\n",
            "SCENE\n",
            "NARRATOR\n",
            "GALAHAD\n",
            "GIRLS\n",
            "ZOOT\n",
            "GALAHAD\n",
            "ZOOT\n",
            "GALAHAD\n",
            "ZOOT\n",
            "GALAHAD\n",
            "ZOOT\n",
            "MIDGET\n",
            "CRAPPER\n",
            "O\n",
            "ZOOT\n",
            "MIDGET\n",
            "CRAPPER\n",
            "ZOOT\n",
            "GALAHAD\n",
            "I\n",
            "I\n",
            "ZOOT\n",
            "GALAHAD\n",
            "ZOOT\n",
            "GALAHAD\n",
            "ZOOT\n",
            "GALAHAD\n",
            "I\n",
            "ZOOT\n",
            "GALAHAD\n",
            "I\n",
            "I\n",
            "ZOOT\n",
            "I\n",
            "GALAHAD\n",
            "ZOOT\n",
            "PIGLET\n",
            "GALAHAD\n",
            "ZOOT\n",
            "GALAHAD\n",
            "B\n",
            "ZOOT\n",
            "WINSTON\n",
            "GALAHAD\n",
            "PIGLET\n",
            "GALAHAD\n",
            "PIGLET\n",
            "GALAHAD\n",
            "I\n",
            "PIGLET\n",
            "GALAHAD\n",
            "I\n",
            "PIGLET\n",
            "GALAHAD\n",
            "I\n",
            "I\n",
            "I\n",
            "GIRLS\n",
            "GALAHAD\n",
            "GIRLS\n",
            "GALAHAD\n",
            "DINGO\n",
            "I\n",
            "GALAHAD\n",
            "I\n",
            "DINGO\n",
            "GALAHAD\n",
            "I\n",
            "I\n",
            "DINGO\n",
            "GALAHAD\n",
            "DINGO\n",
            "I\n",
            "GALAHAD\n",
            "DINGO\n",
            "I\n",
            "LEFT\n",
            "HEAD\n",
            "DENNIS\n",
            "OLD\n",
            "MAN\n",
            "TIM\n",
            "THE\n",
            "ENCHANTER\n",
            "ARMY\n",
            "OF\n",
            "KNIGHTS\n",
            "DINGO\n",
            "I\n",
            "GOD\n",
            "DINGO\n",
            "GIRLS\n",
            "A\n",
            "A\n",
            "DINGO\n",
            "AMAZING\n",
            "STUNNER\n",
            "LOVELY\n",
            "DINGO\n",
            "GIRLS\n",
            "A\n",
            "A\n",
            "DINGO\n",
            "GIRLS\n",
            "GALAHAD\n",
            "I\n",
            "LAUNCELOT\n",
            "GALAHAD\n",
            "LAUNCELOT\n",
            "GALAHAD\n",
            "LAUNCELOT\n",
            "GALAHAD\n",
            "LAUNCELOT\n",
            "DINGO\n",
            "LAUNCELOT\n",
            "GALAHAD\n",
            "LAUNCELOT\n",
            "GALAHAD\n",
            "I\n",
            "LAUNCELOT\n",
            "GIRLS\n",
            "GALAHAD\n",
            "I\n",
            "DINGO\n",
            "GIRLS\n",
            "LAUNCELOT\n",
            "GALAHAD\n",
            "I\n",
            "I\n",
            "DINGO\n",
            "GIRLS\n",
            "LAUNCELOT\n",
            "GALAHAD\n",
            "I\n",
            "DINGO\n",
            "GIRLS\n",
            "DINGO\n",
            "LAUNCELOT\n",
            "GALAHAD\n",
            "I\n",
            "I\n",
            "LAUNCELOT\n",
            "GALAHAD\n",
            "LAUNCELOT\n",
            "GALAHAD\n",
            "I\n",
            "LAUNCELOT\n",
            "GALAHAD\n",
            "LAUNCELOT\n",
            "GALAHAD\n",
            "I\n",
            "LAUNCELOT\n",
            "I\n",
            "NARRATOR\n",
            "I\n",
            "I\n",
            "CROWD\n",
            "NARRATOR\n",
            "I\n",
            "SCENE\n",
            "OLD\n",
            "MAN\n",
            "ARTHUR\n",
            "OLD\n",
            "MAN\n",
            "ARTHUR\n",
            "OLD\n",
            "MAN\n",
            "ARTHUR\n",
            "OLD\n",
            "MAN\n",
            "ARTHUR\n",
            "OLD\n",
            "MAN\n",
            "ARTHUR\n",
            "OLD\n",
            "MAN\n",
            "ARTHUR\n",
            "OLD\n",
            "MAN\n",
            "SCENE\n",
            "HEAD\n",
            "KNIGHT\n",
            "OF\n",
            "NI\n",
            "KNIGHTS\n",
            "OF\n",
            "NI\n",
            "ARTHUR\n",
            "HEAD\n",
            "KNIGHT\n",
            "RANDOM\n",
            "ARTHUR\n",
            "HEAD\n",
            "KNIGHT\n",
            "BEDEVERE\n",
            "HEAD\n",
            "KNIGHT\n",
            "RANDOM\n",
            "ARTHUR\n",
            "HEAD\n",
            "KNIGHT\n",
            "ARTHUR\n",
            "HEAD\n",
            "KNIGHT\n",
            "KNIGHTS\n",
            "OF\n",
            "NI\n",
            "ARTHUR\n",
            "HEAD\n",
            "KNIGHT\n",
            "ARTHUR\n",
            "HEAD\n",
            "KNIGHT\n",
            "ARTHUR\n",
            "A\n",
            "KNIGHTS\n",
            "OF\n",
            "NI\n",
            "ARTHUR\n",
            "PARTY\n",
            "ARTHUR\n",
            "HEAD\n",
            "KNIGHT\n",
            "ARTHUR\n",
            "O\n",
            "HEAD\n",
            "KNIGHT\n",
            "ARTHUR\n",
            "HEAD\n",
            "KNIGHT\n",
            "ARTHUR\n",
            "HEAD\n",
            "KNIGHT\n",
            "CARTOON\n",
            "CHARACTER\n",
            "SUN\n",
            "CARTOON\n",
            "CHARACTER\n",
            "SUN\n",
            "CARTOON\n",
            "CHARACTER\n",
            "SUN\n",
            "CARTOON\n",
            "CHARACTER\n",
            "SCENE\n",
            "NARRATOR\n",
            "FATHER\n",
            "PRINCE\n",
            "HERBERT\n",
            "FATHER\n",
            "HERBERT\n",
            "FATHER\n",
            "HERBERT\n",
            "B\n",
            "I\n",
            "FATHER\n",
            "I\n",
            "I\n",
            "I\n",
            "I\n",
            "I\n",
            "I\n",
            "HERBERT\n",
            "I\n",
            "I\n",
            "FATHER\n",
            "HERBERT\n",
            "I\n",
            "FATHER\n",
            "I\n",
            "HERBERT\n",
            "B\n",
            "I\n",
            "FATHER\n",
            "HERBERT\n",
            "FATHER\n",
            "HERBERT\n",
            "I\n",
            "FATHER\n",
            "HERBERT\n",
            "I\n",
            "I\n",
            "I\n",
            "FATHER\n",
            "I\n",
            "GUARD\n",
            "GUARD\n",
            "FATHER\n",
            "I\n",
            "GUARD\n",
            "FATHER\n",
            "GUARD\n",
            "GUARD\n",
            "FATHER\n",
            "GUARD\n",
            "FATHER\n",
            "GUARD\n",
            "FATHER\n",
            "GUARD\n",
            "GUARD\n",
            "FATHER\n",
            "GUARD\n",
            "FATHER\n",
            "GUARD\n",
            "FATHER\n",
            "GUARD\n",
            "FATHER\n",
            "GUARD\n",
            "FATHER\n",
            "GUARD\n",
            "I\n",
            "FATHER\n",
            "N\n",
            "GUARD\n",
            "FATHER\n",
            "GUARD\n",
            "FATHER\n",
            "GUARD\n",
            "GUARD\n",
            "FATHER\n",
            "GUARD\n",
            "FATHER\n",
            "GUARD\n",
            "GUARD\n",
            "FATHER\n",
            "GUARD\n",
            "FATHER\n",
            "GUARD\n",
            "FATHER\n",
            "GUARD\n",
            "GUARD\n",
            "GUARD\n",
            "I\n",
            "FATHER\n",
            "GUARD\n",
            "GUARD\n",
            "FATHER\n",
            "GUARD\n",
            "FATHER\n",
            "I\n",
            "GUARD\n",
            "I\n",
            "HERBERT\n",
            "FATHER\n",
            "GUARD\n",
            "FATHER\n",
            "SCENE\n",
            "LAUNCELOT\n",
            "CONCORDE\n",
            "LAUNCELOT\n",
            "CONCORDE\n",
            "LAUNCELOT\n",
            "I\n",
            "I\n",
            "A\n",
            "A\n",
            "CONCORDE\n",
            "I\n",
            "I\n",
            "LAUNCELOT\n",
            "CONCORDE\n",
            "I\n",
            "I\n",
            "I\n",
            "I\n",
            "I\n",
            "LAUNCELOT\n",
            "I\n",
            "CONCORDE\n",
            "I\n",
            "I\n",
            "LAUNCELOT\n",
            "I\n",
            "I\n",
            "CONCORDE\n",
            "LAUNCELOT\n",
            "CONCORDE\n",
            "I\n",
            "LAUNCELOT\n",
            "CONCORDE\n",
            "I\n",
            "I\n",
            "I\n",
            "SCENE\n",
            "PRINCESS\n",
            "LUCKY\n",
            "GIRLS\n",
            "GUEST\n",
            "SENTRY\n",
            "SENTRY\n",
            "SENTRY\n",
            "LAUNCELOT\n",
            "SENTRY\n",
            "LAUNCELOT\n",
            "PRINCESS\n",
            "LUCKY\n",
            "GIRLS\n",
            "LAUNCELOT\n",
            "GUESTS\n",
            "LAUNCELOT\n",
            "GUARD\n",
            "LAUNCELOT\n",
            "O\n",
            "I\n",
            "I\n",
            "HERBERT\n",
            "LAUNCELOT\n",
            "I\n",
            "I\n",
            "HERBERT\n",
            "LAUNCELOT\n",
            "I\n",
            "HERBERT\n",
            "I\n",
            "I\n",
            "LAUNCELOT\n",
            "I\n",
            "HERBERT\n",
            "FATHER\n",
            "HERBERT\n",
            "I\n",
            "FATHER\n",
            "LAUNCELOT\n",
            "I\n",
            "HERBERT\n",
            "LAUNCELOT\n",
            "FATHER\n",
            "LAUNCELOT\n",
            "FATHER\n",
            "LAUNCELOT\n",
            "I\n",
            "I\n",
            "HERBERT\n",
            "I\n",
            "FATHER\n",
            "LAUNCELOT\n",
            "I\n",
            "FATHER\n",
            "I\n",
            "HERBERT\n",
            "FATHER\n",
            "LAUNCELOT\n",
            "I\n",
            "FATHER\n",
            "LAUNCELOT\n",
            "FATHER\n",
            "LAUNCELOT\n",
            "I\n",
            "I\n",
            "I\n",
            "FATHER\n",
            "HERBERT\n",
            "LAUNCELOT\n",
            "I\n",
            "FATHER\n",
            "LAUNCELOT\n",
            "HERBERT\n",
            "I\n",
            "FATHER\n",
            "LAUNCELOT\n",
            "HERBERT\n",
            "I\n",
            "LAUNCELOT\n",
            "I\n",
            "HERBERT\n",
            "LAUNCELOT\n",
            "I\n",
            "I\n",
            "I\n",
            "FATHER\n",
            "HERBERT\n",
            "SCENE\n",
            "GUESTS\n",
            "FATHER\n",
            "GUEST\n",
            "FATHER\n",
            "LAUNCELOT\n",
            "FATHER\n",
            "LAUNCELOT\n",
            "I\n",
            "I\n",
            "I\n",
            "GUEST\n",
            "GUESTS\n",
            "FATHER\n",
            "LAUNCELOT\n",
            "GUEST\n",
            "GUESTS\n",
            "FATHER\n",
            "GUESTS\n",
            "FATHER\n",
            "I\n",
            "I\n",
            "GUEST\n",
            "FATHER\n",
            "GUEST\n",
            "FATHER\n",
            "BRIDE\n",
            "S\n",
            "FATHER\n",
            "GUEST\n",
            "FATHER\n",
            "I\n",
            "I\n",
            "LAUNCELOT\n",
            "GUEST\n",
            "GUESTS\n",
            "CONCORDE\n",
            "HERBERT\n",
            "I\n",
            "FATHER\n",
            "HERBERT\n",
            "I\n",
            "FATHER\n",
            "HERBERT\n",
            "I\n",
            "FATHER\n",
            "GUESTS\n",
            "FATHER\n",
            "GUESTS\n",
            "FATHER\n",
            "GUESTS\n",
            "FATHER\n",
            "GUESTS\n",
            "FATHER\n",
            "GUESTS\n",
            "CONCORDE\n",
            "GUESTS\n",
            "CONCORDE\n",
            "GUESTS\n",
            "LAUNCELOT\n",
            "GUESTS\n",
            "LAUNCELOT\n",
            "I\n",
            "GUESTS\n",
            "CONCORDE\n",
            "LAUNCELOT\n",
            "GUESTS\n",
            "LAUNCELOT\n",
            "GUESTS\n",
            "LAUNCELOT\n",
            "SCENE\n",
            "ARTHUR\n",
            "OLD\n",
            "CRONE\n",
            "ARTHUR\n",
            "CRONE\n",
            "ARTHUR\n",
            "I\n",
            "CRONE\n",
            "ARTHUR\n",
            "CRONE\n",
            "ARTHUR\n",
            "CRONE\n",
            "BEDEVERE\n",
            "ARTHUR\n",
            "BEDEVERE\n",
            "ARTHUR\n",
            "BEDEVERE\n",
            "ARTHUR\n",
            "BEDEVERE\n",
            "ARTHUR\n",
            "BEDEVERE\n",
            "ARTHUR\n",
            "ARTHUR\n",
            "BEDEVERE\n",
            "CRONE\n",
            "BEDEVERE\n",
            "ARTHUR\n",
            "CRONE\n",
            "BEDEVERE\n",
            "ARTHUR\n",
            "BEDEVERE\n",
            "ARTHUR\n",
            "BEDEVERE\n",
            "ROGER\n",
            "THE\n",
            "SHRUBBER\n",
            "ARTHUR\n",
            "ROGER\n",
            "ARTHUR\n",
            "ROGER\n",
            "I\n",
            "I\n",
            "BEDEVERE\n",
            "ARTHUR\n",
            "SCENE\n",
            "ARTHUR\n",
            "O\n",
            "HEAD\n",
            "KNIGHT\n",
            "I\n",
            "ARTHUR\n",
            "HEAD\n",
            "KNIGHT\n",
            "KNIGHTS\n",
            "OF\n",
            "NI\n",
            "HEAD\n",
            "KNIGHT\n",
            "RANDOM\n",
            "HEAD\n",
            "KNIGHT\n",
            "ARTHUR\n",
            "O\n",
            "HEAD\n",
            "KNIGHT\n",
            "ARTHUR\n",
            "RANDOM\n",
            "HEAD\n",
            "KNIGHT\n",
            "KNIGHTS\n",
            "OF\n",
            "NI\n",
            "A\n",
            "A\n",
            "A\n",
            "HEAD\n",
            "KNIGHT\n",
            "ARTHUR\n",
            "HEAD\n",
            "KNIGHT\n",
            "ARTHUR\n",
            "KNIGHTS\n",
            "OF\n",
            "NI\n",
            "HEAD\n",
            "KNIGHT\n",
            "ARTHUR\n",
            "HEAD\n",
            "KNIGHT\n",
            "I\n",
            "ARTHUR\n",
            "KNIGHTS\n",
            "OF\n",
            "NI\n",
            "HEAD\n",
            "KNIGHT\n",
            "ARTHUR\n",
            "KNIGHTS\n",
            "OF\n",
            "NI\n",
            "HEAD\n",
            "KNIGHT\n",
            "KNIGHTS\n",
            "OF\n",
            "NI\n",
            "BEDEVERE\n",
            "MINSTREL\n",
            "ARTHUR\n",
            "ROBIN\n",
            "HEAD\n",
            "KNIGHT\n",
            "ARTHUR\n",
            "MINSTREL\n",
            "ROBIN\n",
            "HEAD\n",
            "KNIGHT\n",
            "KNIGHTS\n",
            "OF\n",
            "NI\n",
            "ROBIN\n",
            "I\n",
            "KNIGHTS\n",
            "OF\n",
            "NI\n",
            "ROBIN\n",
            "ARTHUR\n",
            "KNIGHTS\n",
            "OF\n",
            "NI\n",
            "HEAD\n",
            "KNIGHT\n",
            "ARTHUR\n",
            "KNIGHTS\n",
            "OF\n",
            "NI\n",
            "HEAD\n",
            "KNIGHT\n",
            "ARTHUR\n",
            "HEAD\n",
            "KNIGHT\n",
            "I\n",
            "I\n",
            "I\n",
            "KNIGHTS\n",
            "OF\n",
            "NI\n",
            "NARRATOR\n",
            "KNIGHTS\n",
            "NARRATOR\n",
            "MINSTREL\n",
            "NARRATOR\n",
            "KNIGHTS\n",
            "NARRATOR\n",
            "A\n",
            "CARTOON\n",
            "CHARACTER\n",
            "NARRATOR\n",
            "CARTOON\n",
            "CHARACTER\n",
            "NARRATOR\n",
            "CARTOON\n",
            "CHARACTER\n",
            "NARRATOR\n",
            "CARTOON\n",
            "CHARACTER\n",
            "NARRATOR\n",
            "CARTOON\n",
            "CHARACTER\n",
            "NARRATOR\n",
            "SCENE\n",
            "KNIGHTS\n",
            "ARTHUR\n",
            "TIM\n",
            "THE\n",
            "ENCHANTER\n",
            "I\n",
            "ARTHUR\n",
            "TIM\n",
            "ARTHUR\n",
            "TIM\n",
            "ARTHUR\n",
            "TIM\n",
            "I\n",
            "ARTHUR\n",
            "O\n",
            "TIM\n",
            "ROBIN\n",
            "ARTHUR\n",
            "KNIGHTS\n",
            "ARTHUR\n",
            "BEDEVERE\n",
            "GALAHAD\n",
            "ROBIN\n",
            "BEDEVERE\n",
            "ROBIN\n",
            "BEDEVERE\n",
            "ARTHUR\n",
            "GALAHAD\n",
            "ARTHUR\n",
            "I\n",
            "I\n",
            "TIM\n",
            "A\n",
            "ARTHUR\n",
            "A\n",
            "TIM\n",
            "A\n",
            "ARTHUR\n",
            "I\n",
            "ROBIN\n",
            "Y\n",
            "ARTHUR\n",
            "GALAHAD\n",
            "KNIGHTS\n",
            "TIM\n",
            "ROBIN\n",
            "ARTHUR\n",
            "ROBIN\n",
            "GALAHAD\n",
            "ARTHUR\n",
            "ROBIN\n",
            "KNIGHTS\n",
            "ARTHUR\n",
            "TIM\n",
            "I\n",
            "KNIGHTS\n",
            "TIM\n",
            "ARTHUR\n",
            "O\n",
            "TIM\n",
            "ARTHUR\n",
            "SCENE\n",
            "GALAHAD\n",
            "ARTHUR\n",
            "TIM\n",
            "ARTHUR\n",
            "GALAHAD\n",
            "ARTHUR\n",
            "W\n",
            "TIM\n",
            "ARTHUR\n",
            "TIM\n",
            "ARTHUR\n",
            "TIM\n",
            "ARTHUR\n",
            "TIM\n",
            "ARTHUR\n",
            "TIM\n",
            "ARTHUR\n",
            "TIM\n",
            "ARTHUR\n",
            "TIM\n",
            "ROBIN\n",
            "I\n",
            "I\n",
            "TIM\n",
            "GALAHAD\n",
            "TIM\n",
            "GALAHAD\n",
            "ROBIN\n",
            "TIM\n",
            "I\n",
            "ROBIN\n",
            "TIM\n",
            "ARTHUR\n",
            "BORS\n",
            "TIM\n",
            "BORS\n",
            "ARTHUR\n",
            "TIM\n",
            "I\n",
            "ROBIN\n",
            "I\n",
            "TIM\n",
            "I\n",
            "I\n",
            "ARTHUR\n",
            "TIM\n",
            "ARTHUR\n",
            "TIM\n",
            "KNIGHTS\n",
            "KNIGHTS\n",
            "ARTHUR\n",
            "KNIGHTS\n",
            "TIM\n",
            "ARTHUR\n",
            "LAUNCELOT\n",
            "GALAHAD\n",
            "ARTHUR\n",
            "GALAHAD\n",
            "ARTHUR\n",
            "ROBIN\n",
            "ARTHUR\n",
            "GALAHAD\n",
            "ARTHUR\n",
            "GALAHAD\n",
            "LAUNCELOT\n",
            "ARTHUR\n",
            "LAUNCELOT\n",
            "ARTHUR\n",
            "MONKS\n",
            "ARTHUR\n",
            "LAUNCELOT\n",
            "I\n",
            "ARTHUR\n",
            "BROTHER\n",
            "MAYNARD\n",
            "SECOND\n",
            "BROTHER\n",
            "O\n",
            "MAYNARD\n",
            "SECOND\n",
            "BROTHER\n",
            "MAYNARD\n",
            "KNIGHTS\n",
            "ARTHUR\n",
            "GALAHAD\n",
            "ARTHUR\n",
            "SCENE\n",
            "ARTHUR\n",
            "LAUNCELOT\n",
            "GALAHAD\n",
            "ARTHUR\n",
            "MAYNARD\n",
            "GALAHAD\n",
            "LAUNCELOT\n",
            "ARTHUR\n",
            "MAYNARD\n",
            "ARTHUR\n",
            "MAYNARD\n",
            "BEDEVERE\n",
            "MAYNARD\n",
            "LAUNCELOT\n",
            "MAYNARD\n",
            "ARTHUR\n",
            "MAYNARD\n",
            "GALAHAD\n",
            "ARTHUR\n",
            "MAYNARD\n",
            "LAUNCELOT\n",
            "ARTHUR\n",
            "BEDEVERE\n",
            "GALAHAD\n",
            "BEDEVERE\n",
            "I\n",
            "LAUNCELOT\n",
            "ARTHUR\n",
            "LAUNCELOT\n",
            "KNIGHTS\n",
            "BEDEVERE\n",
            "LAUNCELOT\n",
            "BEDEVERE\n",
            "N\n",
            "LAUNCELOT\n",
            "BEDEVERE\n",
            "I\n",
            "ARTHUR\n",
            "GALAHAD\n",
            "MAYNARD\n",
            "BROTHER\n",
            "MAYNARD\n",
            "BEDEVERE\n",
            "ARTHUR\n",
            "KNIGHTS\n",
            "BEDEVERE\n",
            "KNIGHTS\n",
            "NARRATOR\n",
            "ANIMATOR\n",
            "NARRATOR\n",
            "SCENE\n",
            "GALAHAD\n",
            "ARTHUR\n",
            "ROBIN\n",
            "ARTHUR\n",
            "BEDEVERE\n",
            "ARTHUR\n",
            "GALAHAD\n",
            "ARTHUR\n",
            "GALAHAD\n",
            "ARTHUR\n",
            "ROBIN\n",
            "ARTHUR\n",
            "ROBIN\n",
            "I\n",
            "GALAHAD\n",
            "ARTHUR\n",
            "ROBIN\n",
            "ARTHUR\n",
            "ROBIN\n",
            "I\n",
            "LAUNCELOT\n",
            "I\n",
            "I\n",
            "ARTHUR\n",
            "GALAHAD\n",
            "ARTHUR\n",
            "LAUNCELOT\n",
            "I\n",
            "ARTHUR\n",
            "BRIDGEKEEPER\n",
            "LAUNCELOT\n",
            "I\n",
            "BRIDGEKEEPER\n",
            "LAUNCELOT\n",
            "BRIDGEKEEPER\n",
            "LAUNCELOT\n",
            "BRIDGEKEEPER\n",
            "LAUNCELOT\n",
            "BRIDGEKEEPER\n",
            "LAUNCELOT\n",
            "ROBIN\n",
            "BRIDGEKEEPER\n",
            "ROBIN\n",
            "I\n",
            "BRIDGEKEEPER\n",
            "ROBIN\n",
            "BRIDGEKEEPER\n",
            "ROBIN\n",
            "BRIDGEKEEPER\n",
            "ROBIN\n",
            "I\n",
            "BRIDGEKEEPER\n",
            "GALAHAD\n",
            "BRIDGEKEEPER\n",
            "GALAHAD\n",
            "I\n",
            "BRIDGEKEEPER\n",
            "GALAHAD\n",
            "BRIDGEKEEPER\n",
            "ARTHUR\n",
            "BRIDGEKEEPER\n",
            "ARTHUR\n",
            "BRIDGEKEEPER\n",
            "ARTHUR\n",
            "BRIDGEKEEPER\n",
            "I\n",
            "I\n",
            "BEDEVERE\n",
            "ARTHUR\n",
            "SCENE\n",
            "ARTHUR\n",
            "BEDEVERE\n",
            "ARTHUR\n",
            "BEDEVERE\n",
            "ARTHUR\n",
            "FRENCH\n",
            "GUARD\n",
            "ARTHUR\n",
            "I\n",
            "FRENCH\n",
            "GUARD\n",
            "I\n",
            "I\n",
            "ARTHUR\n",
            "FRENCH\n",
            "GUARD\n",
            "I\n",
            "ARTHUR\n",
            "FRENCH\n",
            "GUARDS\n",
            "ARTHUR\n",
            "FRENCH\n",
            "GUARD\n",
            "ARTHUR\n",
            "FRENCH\n",
            "GUARD\n",
            "FRENCH\n",
            "GUARDS\n",
            "ARTHUR\n",
            "BEDEVERE\n",
            "ARTHUR\n",
            "FRENCH\n",
            "GUARDS\n",
            "ARTHUR\n",
            "FRENCH\n",
            "GUARDS\n",
            "ARTHUR\n",
            "FRENCH\n",
            "GUARDS\n",
            "ARTHUR\n",
            "ARMY\n",
            "OF\n",
            "KNIGHTS\n",
            "HISTORIAN\n",
            "S\n",
            "WIFE\n",
            "I\n",
            "INSPECTOR\n",
            "OFFICER\n",
            "HISTORIAN\n",
            "S\n",
            "WIFE\n",
            "OFFICER\n",
            "INSPECTOR\n",
            "OFFICER\n",
            "BEDEVERE\n",
            "INSPECTOR\n",
            "OFFICER\n",
            "INSPECTOR\n",
            "OFFICER\n",
            "OFFICER\n",
            "RANDOM\n",
            "RANDOM\n",
            "OFFICER\n",
            "OFFICER\n",
            "OFFICER\n",
            "OFFICER\n",
            "INSPECTOR\n",
            "OFFICER\n",
            "CAMERAMAN\n"
          ]
        }
      ]
    },
    {
      "cell_type": "markdown",
      "source": [
        "24.Write expressions for finding all words in text6 that meet the conditions listed below. The result should be in the form of a list of words: ['word1', 'word2', ...].  \n",
        "1. Ending in ise\n",
        "2. Containing the letter z\n",
        "3. Containing the sequence of letters pt\n",
        "4. Having all lowercase letters except for an initial capital (i.e., titlecase)"
      ],
      "metadata": {
        "id": "9qO_YU_VXINd"
      }
    },
    {
      "cell_type": "code",
      "source": [
        "print([w for w in text6 if w.endswith('ise')])\n",
        "print([w for w in text6 if 'z' in w])\n",
        "print([w for w in text6 if 'pt' in w])\n",
        "print([w for w in text6 if w.istitle()])"
      ],
      "metadata": {
        "colab": {
          "base_uri": "https://localhost:8080/"
        },
        "id": "9XUFtZarXiQ9",
        "outputId": "b7da059c-13c0-4e4e-d1ee-0d9c50d868f9"
      },
      "execution_count": 34,
      "outputs": [
        {
          "output_type": "stream",
          "name": "stdout",
          "text": [
            "['wise', 'wise', 'apologise', 'surprise', 'surprise', 'surprise', 'noise', 'surprise']\n",
            "['zone', 'amazes', 'Fetchez', 'Fetchez', 'zoop', 'zoo', 'zhiv', 'frozen', 'zoosh']\n",
            "['empty', 'aptly', 'Thpppppt', 'Thppt', 'Thppt', 'empty', 'Thppppt', 'temptress', 'temptation', 'ptoo', 'Chapter', 'excepting', 'Thpppt']\n",
            "['Whoa', 'Halt', 'Who', 'It', 'I', 'Arthur', 'Uther', 'Pendragon', 'Camelot', 'King', 'Britons', 'Saxons', 'England', 'Pull', 'I', 'Patsy', 'We', 'Camelot', 'I', 'What', 'Ridden', 'Yes', 'You', 'What', 'You', 'So', 'We', 'Mercea', 'Where', 'We', 'Found', 'In', 'Mercea', 'The', 'What', 'Well', 'The', 'Are', 'Not', 'They', 'What', 'A', 'It', 'It', 'It', 'A', 'Well', 'Will', 'Arthur', 'Court', 'Camelot', 'Listen', 'In', 'Please', 'Am', 'I', 'I', 'It', 'African', 'Oh', 'African', 'European', 'That', 'Oh', 'I', 'Will', 'Camelot', 'But', 'African', 'Oh', 'So', 'Wait', 'Supposing', 'No', 'Well', 'They', 'What', 'Well', 'Bring', 'Bring', 'Bring', 'Bring', 'Bring', 'Bring', 'Bring', 'Bring', 'Ninepence', 'Bring', 'Bring', 'Bring', 'Bring', 'Here', 'Ninepence', 'I', 'What', 'Nothing', 'Here', 'I', 'Ere', 'He', 'Yes', 'I', 'He', 'Well', 'He', 'I', 'No', 'You', 'Oh', 'I', 'It', 'I', 'Oh', 'I', 'I', 'Well', 'I', 'Well', 'He', 'No', 'I', 'Robinson', 'They', 'Well', 'Thursday', 'I', 'I', 'You', 'Look', 'I', 'I', 'Ah', 'Not', 'See', 'Thursday', 'Right', 'All', 'Who', 'I', 'Must', 'Why', 'He', 'King', 'Arthur', 'King', 'Arthur', 'Old', 'Man', 'Man', 'Sorry', 'What', 'I', 'I', 'I', 'I', 'Well', 'I', 'Man', 'Well', 'Dennis', 'Well', 'I', 'Dennis', 'Well', 'I', 'What', 'I', 'Well', 'I', 'Oh', 'And', 'By', 'By', 'If', 'Dennis', 'Oh', 'How', 'How', 'I', 'Arthur', 'King', 'Britons', 'Who', 'King', 'The', 'Britons', 'Who', 'Britons', 'Well', 'We', 'Britons', 'I', 'I', 'I', 'You', 'We', 'A', 'Oh', 'That', 'If', 'Please', 'I', 'Who', 'No', 'Then', 'We', 'What', 'I', 'We', 'We', 'Yes', 'But', 'Yes', 'I', 'By', 'Be', 'But', 'Be', 'I', 'Order', 'Who', 'Heh', 'I', 'Well', 'I', 'You', 'Well', 'The', 'Lady', 'Lake', 'Excalibur', 'Divine', 'Providence', 'I', 'Arthur', 'Excalibur', 'That', 'I', 'Listen', 'Supreme', 'Be', 'Well', 'Shut', 'I', 'I', 'I', 'Shut', 'Shut', 'Ah', 'Shut', 'Oh', 'Come', 'Help', 'I', 'Bloody', 'Oh', 'Did', 'Did', 'That', 'I', 'Did', 'You', 'King', 'Arthur', 'Aaagh', 'King', 'Arthur', 'Aaagh', 'Ooh', 'King', 'Arthur', 'Aagh', 'Oh', 'King', 'Arthur', 'Ooh', 'Aaagh', 'Agh', 'Aaaaaah', 'Aaaaaaaaah', 'Umm', 'You', 'Sir', 'Knight', 'I', 'Arthur', 'King', 'Britons', 'I', 'Camelot', 'You', 'Will', 'You', 'So', 'Come', 'Patsy', 'None', 'What', 'None', 'I', 'Sir', 'Knight', 'I', 'Then', 'I', 'King', 'Britons', 'I', 'So', 'Aaah', 'Now', 'Tis', 'A', 'Your', 'No', 'Well', 'I', 'You', 'Come', 'Huyah', 'Hiyaah', 'Aaaaaaaah', 'Victory', 'We', 'Thee', 'Lord', 'Thy', 'Hah', 'Come', 'What', 'Have', 'Eh', 'You', 'Sir', 'Knight', 'Oh', 'Look', 'You', 'Yes', 'I', 'Look', 'Just', 'Look', 'Chicken', 'Chickennn', 'Look', 'I', 'Right', 'Right', 'I', 'You', 'Come', 'What', 'I', 'You', 'The', 'Black', 'Knight', 'Have', 'Come', 'Ooh', 'All', 'Come', 'Patsy', 'Oh', 'Oh', 'I', 'Running', 'You', 'Come', 'I', 'Pie', 'Iesu', 'Pie', 'Iesu', 'Pie', 'Iesu', 'A', 'A', 'A', 'A', 'Pie', 'Iesu', 'A', 'A', 'A', 'A', 'We', 'A', 'A', 'A', 'A', 'We', 'A', 'A', 'Burn', 'Burn', 'Burn', 'We', 'We', 'A', 'A', 'A', 'We', 'May', 'Burn', 'Burn', 'Burn', 'Burn', 'How', 'She', 'Right', 'Yeah', 'Yeah', 'Bring', 'I', 'I', 'Uh', 'They', 'Augh', 'We', 'And', 'It', 'Well', 'Well', 'The', 'And', 'Yeah', 'We', 'Right', 'Yeaaah', 'Yeaah', 'Did', 'No', 'No', 'No', 'No', 'No', 'No', 'Yes', 'Yes', 'Yes', 'Yeah', 'A', 'A', 'A', 'She', 'What', 'Well', 'A', 'I', 'Burn', 'Burn', 'Burn', 'Burn', 'Burn', 'Quiet', 'Quiet', 'Quiet', 'Quiet', 'There', 'Are', 'Ah', 'What', 'Tell', 'Tell', 'Tell', 'Burn', 'Burn', 'Burn', 'Burn', 'Burn', 'And', 'More', 'Shh', 'Wood', 'So', 'B', 'Good', 'Heh', 'Oh', 'Oh', 'So', 'Build', 'Ah', 'Oh', 'Oh', 'True', 'Uhh', 'Does', 'No', 'No', 'No', 'It', 'Throw', 'The', 'Throw', 'What', 'Bread', 'Apples', 'Uh', 'Cider', 'Uh', 'Cherries', 'Mud', 'Churches', 'Churches', 'Lead', 'Lead', 'A', 'Oooh', 'Exactly', 'So', 'If', 'And', 'A', 'A', 'A', 'A', 'Here', 'Use', 'We', 'Ohh', 'Ohh', 'Burn', 'Burn', 'Burn', 'Burn', 'Burn', 'Burn', 'Burn', 'Burn', 'Burn', 'Ahh', 'Ahh', 'Right', 'Remove', 'A', 'A', 'A', 'It', 'Burn', 'Burn', 'Burn', 'Burn', 'Burn', 'Burn', 'Who', 'I', 'Arthur', 'King', 'Britons', 'My', 'Good', 'Sir', 'Knight', 'Camelot', 'Round', 'Table', 'My', 'I', 'What', 'Bedevere', 'Then', 'I', 'Sir', 'Bedevere', 'Knight', 'Round', 'Table', 'The', 'Sir', 'Bedevere', 'King', 'Arthur', 'Sir', 'Lancelot', 'Brave', 'Sir', 'Gallahad', 'Pure', 'Sir', 'Robin', 'Sir', 'Lancelot', 'Dragon', 'Angnor', 'Chicken', 'Bristol', 'Battle', 'Badon', 'Hill', 'Sir', 'Not', 'Together', 'Knights', 'Round', 'Table', 'And', 'This', 'Sir', 'Bedevere', 'Explain', 'Oh', 'Look', 'Camelot', 'Camelot', 'Camelot', 'It', 'Shh', 'Knights', 'I', 'Let', 'Camelot', 'We', 'We', 'We', 'With', 'We', 'Camelot', 'We', 'We', 'Round', 'Table', 'Our', 'But', 'That', 'We', 'Camelot', 'We', 'In', 'Quite', 'Between', 'Clark', 'Gable', 'It', 'Camelot', 'I', 'Well', 'Camelot', 'It', 'Right', 'Right', 'Arthur', 'Arthur', 'King', 'Britons', 'Oh', 'One', 'I', 'Sorry', 'And', 'Every', 'I', 'I', 'What', 'I', 'O', 'Lord', 'Well', 'It', 'Psalms', 'Now', 'Yes', 'Lord', 'Right', 'Arthur', 'King', 'Britons', 'Knights', 'Round', 'Table', 'Good', 'O', 'Lord', 'Course', 'Behold', 'Arthur', 'Holy', 'Grail', 'Look', 'Arthur', 'That', 'Arthur', 'Holy', 'Grail', 'A', 'A', 'Lord', 'God', 'King', 'Arthur', 'Halt', 'Hallo', 'Hallo', 'Allo', 'Who', 'It', 'King', 'Arthur', 'Knights', 'Round', 'Table', 'Who', 'This', 'Guy', 'Loimbard', 'Go', 'God', 'If', 'Holy', 'Grail', 'Well', 'I', 'I', 'Uh', 'What', 'He', 'Are', 'Oh', 'I', 'Well', 'Of', 'You', 'English', 'Well', 'I', 'French', 'Why', 'I', 'What', 'England', 'Mind', 'If', 'Grail', 'You', 'English', 'Go', 'I', 'Arthur', 'King', 'English', 'Thpppppt', 'Thppt', 'Thppt', 'What', 'Now', 'I', 'I', 'You', 'Is', 'No', 'I', 'Now', 'I', 'Fetchez', 'Quoi', 'Fetchez', 'If', 'I', 'Jesus', 'Christ', 'Christ', 'Ah', 'Ohh', 'Right', 'Charge', 'Charge', 'Hey', 'There', 'And', 'Run', 'Run', 'Thppppt', 'Fiends', 'I', 'No', 'No', 'Sir', 'I', 'C', 'Quoi', 'Un', 'What', 'A', 'Oh', 'Oui', 'Hurry', 'What', 'Let', 'Oh', 'On', 'Bon', 'Over', 'What', 'Well', 'Launcelot', 'Galahad', 'I', 'French', 'Not', 'Who', 'U', 'Launcelot', 'Galahad', 'I', 'Uh', 'Ohh', 'Oh', 'Um', 'Run', 'Run', 'Run', 'Run', 'Run', 'Run', 'Run', 'Run', 'Oh', 'Haw', 'Haw', 'Picture', 'Schools', 'Action', 'Defeat', 'King', 'Arthur', 'The', 'French', 'Arthur', 'Holy', 'Grail', 'Arthur', 'Grail', 'Now', 'Launcelot', 'Aaaah', 'S', 'Frank', 'The', 'Tale', 'Sir', 'Robin', 'So', 'Sir', 'Robin', 'Ewing', 'Bravely', 'Sir', 'Robin', 'Camelot', 'He', 'O', 'Sir', 'Robin', 'He', 'Brave', 'Sir', 'Robin', 'He', 'Or', 'To', 'And', 'Sir', 'Robin', 'His', 'And', 'And', 'And', 'That', 'Heh', 'Looks', 'Anarcho', 'Oh', 'Dennis', 'We', 'Halt', 'Who', 'He', 'Sir', 'Robin', 'Sir', 'Robin', 'Shut', 'Um', 'I', 'What', 'To', 'Shut', 'Um', 'I', 'Sir', 'Knight', 'I', 'Ah', 'W', 'I', 'I', 'Knight', 'Round', 'Table', 'You', 'Knight', 'Round', 'Table', 'I', 'In', 'I', 'Shall', 'I', 'Oh', 'I', 'Well', 'I', 'I', 'Oh', 'Oh', 'Perhaps', 'I', 'And', 'Oh', 'Get', 'I', 'Oh', 'Yes', 'What', 'Yapping', 'You', 'You', 'What', 'You', 'Oh', 'I', 'Anyway', 'Well', 'Oh', 'Oh', 'All', 'All', 'We', 'Yes', 'Oh', 'All', 'All', 'Right', 'He', 'So', 'He', 'Brave', 'Sir', 'Robin', 'No', 'Bravely', 'I', 'When', 'No', 'Yes', 'Sir', 'Robin', 'I', 'And', 'I', 'He', 'All', 'Bravest', 'Sir', 'Robin', 'I', 'Pie', 'Iesu', 'Heh', 'Pie', 'Iesu', 'Wayy', 'Ho', 'Woa', 'Heh', 'Heh', 'Wayy', 'Wayy', 'Forgive', 'Oh', 'Oooo', 'The', 'Tale', 'Sir', 'Galahad', 'Open', 'Open', 'In', 'King', 'Arthur', 'Hello', 'Welcome', 'Sir', 'Knight', 'Welcome', 'Castle', 'Anthrax', 'The', 'Castle', 'Anthrax', 'Yes', 'Oh', 'Oh', 'You', 'Holy', 'Grail', 'The', 'The', 'Grail', 'It', 'Oh', 'Midget', 'Crapper', 'Yes', 'O', 'Zoot', 'Prepare', 'Oh', 'Thank', 'Thank', 'Thank', 'Thank', 'Thank', 'Away', 'The', 'Well', 'I', 'I', 'What', 'Sir', 'Galahad', 'Chaste', 'Mine', 'Zoot', 'Just', 'Zoot', 'Oh', 'Look', 'In', 'God', 'Grail', 'Oh', 'You', 'No', 'I', 'It', 'Sir', 'Galahad', 'You', 'Well', 'I', 'I', 'Oh', 'I', 'We', 'Oooh', 'It', 'We', 'Nay', 'Nay', 'Come', 'Come', 'You', 'Oh', 'No', 'Oh', 'No', 'Lie', 'Well', 'They', 'Uh', 'B', 'Oh', 'You', 'Doctor', 'Piglet', 'Doctor', 'Winston', 'Practice', 'Try', 'Are', 'We', 'There', 'Please', 'We', 'Look', 'This', 'I', 'Back', 'At', 'Torment', 'I', 'Grail', 'There', 'I', 'I', 'I', 'Hello', 'Oh', 'Hello', 'Hello', 'Hello', 'Hello', 'Hello', 'Hello', 'Hello', 'Hello', 'Hello', 'Hello', 'Hello', 'Hello', 'Hello', 'Hello', 'Hello', 'Hello', 'Hello', 'Hello', 'Hello', 'Hello', 'Hello', 'Hello', 'Hello', 'Zoot', 'No', 'I', 'Zoot', 'Dingo', 'Oh', 'I', 'Where', 'I', 'Grail', 'I', 'Oh', 'Oh', 'Bad', 'Zoot', 'Well', 'Oh', 'Zoot', 'She', 'I', 'It', 'It', 'Grail', 'Oh', 'Zoot', 'She', 'Do', 'We', 'It', 'I', 'At', 'Well', 'It', 'Get', 'Yes', 'Yes', 'Oh', 'I', 'Get', 'Oh', 'Zoot', 'Oh', 'And', 'Castle', 'Anthrax', 'You', 'A', 'A', 'You', 'And', 'And', 'And', 'And', 'And', 'Yes', 'A', 'A', 'There', 'And', 'The', 'The', 'Well', 'I', 'Sir', 'Galahad', 'Oh', 'Quick', 'What', 'Quick', 'Why', 'You', 'No', 'Silence', 'You', 'Come', 'We', 'Look', 'I', 'Come', 'Sir', 'Galahad', 'No', 'Look', 'I', 'Yes', 'Let', 'Yes', 'Let', 'No', 'Sir', 'Galahad', 'Come', 'No', 'Really', 'Honestly', 'I', 'I', 'Oh', 'Let', 'Yes', 'Let', 'No', 'Quick', 'Quick', 'Please', 'I', 'There', 'Yes', 'He', 'We', 'We', 'He', 'Oh', 'We', 'You', 'I', 'I', 'Yes', 'You', 'Look', 'No', 'Look', 'I', 'No', 'Holy', 'Grail', 'Come', 'Oh', 'No', 'It', 'I', 'No', 'I', 'Sir', 'Launcelot', 'Sir', 'Galahad', 'Grail', 'Meanwhile', 'King', 'Arthur', 'Sir', 'Bedevere', 'Oh', 'I', 'I', 'Get', 'Oh', 'On', 'Arthur', 'I', 'Heh', 'Hee', 'And', 'Grail', 'Ha', 'Heh', 'Ha', 'Ha', 'Where', 'Heh', 'Old', 'Hee', 'He', 'And', 'Grail', 'The', 'Grail', 'There', 'Gorge', 'Eternal', 'Peril', 'But', 'Grail', 'Where', 'Grail', 'Seek', 'Bridge', 'Death', 'The', 'Bridge', 'Death', 'Grail', 'Heh', 'Ha', 'Hee', 'Ni', 'Ni', 'Ni', 'Ni', 'Ni', 'Ni', 'Who', 'We', 'Knights', 'Who', 'Say', 'Ni', 'Ni', 'No', 'Not', 'Knights', 'Who', 'Say', 'Ni', 'The', 'Who', 'We', 'Ni', 'Peng', 'Neee', 'Neee', 'Those', 'The', 'Knights', 'Who', 'Say', 'Ni', 'Knights', 'Ni', 'Ni', 'Ni', 'Ni', 'Ni', 'Ni', 'Ni', 'Ow', 'Ow', 'Ow', 'Agh', 'We', 'Well', 'We', 'A', 'Ni', 'Ni', 'Ni', 'Ni', 'Ow', 'Oh', 'Please', 'No', 'We', 'You', 'O', 'Knights', 'Ni', 'One', 'Of', 'And', 'Yes', 'Now', 'Hmm', 'Oh', 'Great', 'Hm', 'Hmm', 'Hm', 'Hmm', 'Ohh', 'Ay', 'Thsss', 'Ayy', 'Thsss', 'Ayy', 'Stop', 'Stop', 'Ay', 'Stop', 'Look', 'Clear', 'Go', 'Go', 'Go', 'Go', 'And', 'Clear', 'Hah', 'Bloody', 'The', 'Tale', 'Sir', 'Launcelot', 'One', 'What', 'No', 'Not', 'All', 'This', 'But', 'Mother', 'Father', 'Father', 'B', 'Father', 'I', 'Listen', 'I', 'When', 'I', 'Other', 'I', 'I', 'It', 'So', 'I', 'That', 'So', 'I', 'That', 'But', 'And', 'But', 'I', 'I', 'Rather', 'I', 'Stop', 'Stop', 'You', 'I', 'Now', 'In', 'Britain', 'B', 'I', 'Listen', 'Alice', 'Herbert', 'Erbert', 'We', 'We', 'But', 'I', 'Don', 'What', 'She', 'She', 'She', 'I', 'I', 'I', 'Cut', 'Cut', 'Look', 'Princess', 'Lucky', 'Guards', 'Make', 'Prince', 'I', 'Not', 'Hic', 'No', 'Until', 'I', 'Until', 'No', 'No', 'You', 'And', 'Hic', 'Right', 'We', 'No', 'Leaving', 'Leaving', 'Yes', 'All', 'Right', 'Hic', 'Right', 'Oh', 'Yes', 'What', 'Oh', 'Look', 'Uh', 'You', 'Alright', 'Hic', 'Right', 'Oh', 'I', 'Uhh', 'N', 'No', 'You', 'Oh', 'We', 'But', 'No', 'Just', 'Until', 'No', 'Just', 'Just', 'Hic', 'Get', 'Get', 'All', 'Right', 'We', 'Hic', 'And', 'What', 'Make', 'The', 'Prince', 'Yes', 'Make', 'Oh', 'Hic', 'Ah', 'I', 'You', 'Is', 'Hic', 'Oh', 'No', 'Right', 'Where', 'We', 'No', 'I', 'Oh', 'I', 'Right', 'But', 'Father', 'Shut', 'And', 'And', 'Hic', 'Oh', 'Well', 'Concorde', 'Thank', 'Most', 'And', 'Over', 'Good', 'Steady', 'And', 'Uuh', 'Come', 'Concorde', 'Message', 'Concorde', 'Concorde', 'Speak', 'To', 'I', 'Please', 'I', 'Tall', 'Tower', 'Swamp', 'Castle', 'At', 'A', 'A', 'This', 'Holy', 'Grail', 'Brave', 'Concorde', 'Uh', 'I', 'I', 'Well', 'I', 'I', 'I', 'I', 'I', 'Oh', 'I', 'Actually', 'I', 'I', 'No', 'Concorde', 'Stay', 'I', 'I', 'Idiom', 'Idiom', 'No', 'I', 'Farewell', 'Concorde', 'I', 'I', 'Shall', 'I', 'Yeah', 'Morning', 'Morning', 'Oooh', 'Ha', 'Hiyya', 'Hey', 'Hiyya', 'Ha', 'Ha', 'Huy', 'Uuh', 'Aaah', 'Ha', 'And', 'Aah', 'Hiyah', 'Aah', 'Aaah', 'Hyy', 'Hya', 'Hiyya', 'Ha', 'Now', 'O', 'Sir', 'Launcelot', 'Camelot', 'I', 'Oh', 'I', 'You', 'Uh', 'I', 'I', 'You', 'Uh', 'You', 'I', 'I', 'I', 'Well', 'I', 'Stop', 'Stop', 'Stop', 'Stop', 'Who', 'I', 'No', 'Uh', 'I', 'Sir', 'Launcelot', 'He', 'Father', 'Well', 'Did', 'Uh', 'Oh', 'Sorry', 'They', 'Well', 'I', 'Um', 'I', 'Don', 'Sir', 'Launcelot', 'I', 'You', 'Well', 'I', 'I', 'Hurry', 'Sir', 'Launcelot', 'Hurry', 'Shut', 'You', 'Well', 'I', 'Didn', 'You', 'Oh', 'Is', 'You', 'This', 'Well', 'I', 'I', 'Camelot', 'I', 'Camelot', 'Are', 'Camelot', 'Hurry', 'Sir', 'Launcelot', 'Uh', 'I', 'Knight', 'King', 'Arthur', 'Very', 'Camelot', 'Uh', 'Is', 'Hurry', 'I', 'Would', 'Well', 'I', 'I', 'Um', 'Oooh', 'I', 'I', 'I', 'Oh', 'Oooh', 'Well', 'We', 'There', 'Oh', 'Ha', 'Hey', 'Ha', 'Hold', 'Stop', 'Hold', 'Hold', 'Hold', 'Hold', 'Hold', 'Please', 'Sorry', 'Sorry', 'You', 'I', 'I', 'I', 'Sorry', 'Sorry', 'He', 'Hold', 'Hold', 'Please', 'Hold', 'This', 'Sir', 'Launcelot', 'Court', 'Camelot', 'Hello', 'He', 'Please', 'Please', 'This', 'Let', 'We', 'Unfortunately', 'Herbert', 'Oh', 'Oh', 'But', 'I', 'I', 'For', 'He', 'Since', 'He', 'For', 'S', 'Uugh', 'Oh', 'And', 'I', 'And', 'I', 'Princess', 'Sir', 'Launcelot', 'Camelot', 'What', 'Look', 'The', 'Prince', 'Oooh', 'The', 'Prince', 'He', 'No', 'I', 'You', 'Tall', 'Tower', 'No', 'I', 'How', 'Well', 'I', 'Not', 'Not', 'No', 'Stop', 'He', 'He', 'Shut', 'He', 'Shut', 'He', 'Shut', 'He', 'Not', 'He', 'He', 'He', 'He', 'Quickly', 'He', 'Come', 'He', 'He', 'No', 'It', 'He', 'I', 'Oh', 'Dramatically', 'Dramatically', 'But', 'Heee', 'Hoa', 'Hoo', 'What', 'Excuse', 'Could', 'King', 'Arthur', 'Old', 'Is', 'Who', 'The', 'Knights', 'Who', 'Say', 'Ni', 'Aggh', 'No', 'Never', 'We', 'If', 'I', 'Agh', 'Do', 'Very', 'If', 'No', 'Never', 'No', 'Ni', 'Nu', 'No', 'Nu', 'No', 'Nu', 'No', 'You', 'No', 'Ni', 'Ni', 'That', 'That', 'You', 'Ni', 'Ohh', 'Ni', 'Ni', 'Agh', 'Ni', 'Ni', 'Ni', 'Ni', 'Ni', 'Are', 'Erm', 'Oh', 'There', 'Nothing', 'Even', 'Did', 'Yes', 'Shrubberies', 'I', 'My', 'Roger', 'Shrubber', 'I', 'Ni', 'No', 'No', 'No', 'O', 'Knights', 'Ni', 'May', 'It', 'I', 'But', 'What', 'We', 'Knights', 'Who', 'Say', 'Ni', 'Ni', 'Shh', 'Shh', 'We', 'Knights', 'Who', 'Say', 'Ecky', 'Ni', 'Therefore', 'What', 'O', 'Knights', 'Knights', 'Who', 'Til', 'Recently', 'Said', 'Ni', 'Firstly', 'Not', 'Ni', 'Then', 'A', 'A', 'A', 'Ni', 'Shh', 'Ni', 'Ni', 'Ni', 'Shh', 'Shh', 'Then', 'We', 'Oh', 'Cut', 'It', 'Aaaugh', 'Aaaugh', 'Augh', 'Ohh', 'Don', 'What', 'I', 'Knights', 'Ni', 'How', 'Aaaaugh', 'You', 'What', 'Agh', 'No', 'No', 'You', 'No', 'Not', 'My', 'Sir', 'Robin', 'Packing', 'And', 'And', 'Yes', 'Sir', 'Robin', 'My', 'It', 'Now', 'Surely', 'Holy', 'Grail', 'He', 'Shut', 'No', 'No', 'Far', 'He', 'Aaaaugh', 'I', 'Aaaaugh', 'Uh', 'No', 'Aaaaugh', 'Aaaaugh', 'Stop', 'The', 'Oh', 'Ow', 'He', 'Patsy', 'Wait', 'I', 'I', 'Ooh', 'I', 'And', 'That', 'Ohh', 'Aaaaugh', 'And', 'Arthur', 'Bedevere', 'Sir', 'Robin', 'Beyond', 'Launcelot', 'Galahad', 'Yay', 'Yay', 'In', 'Nador', 'Robin', 'Get', 'Eee', 'And', 'Yay', 'A', 'Winter', 'Spring', 'Mmm', 'Spring', 'Summer', 'Oh', 'Ahh', 'Summer', 'Winter', 'Oh', 'And', 'Winter', 'Spring', 'Summer', 'Autumn', 'Aah', 'Oh', 'Waa', 'Until', 'King', 'Arthur', 'Eh', 'Oh', 'See', 'Oh', 'Oh', 'Knights', 'Forward', 'What', 'I', 'By', 'There', 'Tim', 'Greetings', 'Tim', 'Enchanter', 'Greetings', 'King', 'Arthur', 'You', 'I', 'You', 'Holy', 'Grail', 'That', 'You', 'O', 'Tim', 'Quite', 'Oh', 'Yes', 'Holy', 'Grail', 'Our', 'Holy', 'Grail', 'Yeah', 'Yes', 'It', 'It', 'Yeah', 'Yup', 'Yup', 'Hm', 'And', 'Yes', 'Yeah', 'We', 'We', 'We', 'Ages', 'Umhm', 'Uh', 'Look', 'Fine', 'Um', 'I', 'I', 'A', 'A', 'A', 'Yes', 'I', 'Y', 'Yes', 'Yup', 'That', 'Yes', 'Oh', 'Oh', 'Thank', 'Ahh', 'Oh', 'Fine', 'Thank', 'Splendid', 'Aah', 'Look', 'Yes', 'I', 'Holy', 'Grail', 'Oh', 'Oh', 'To', 'Caerbannog', 'Olfin', 'Bedwere', 'Rheged', 'Holy', 'Grail', 'Where', 'O', 'Tim', 'Follow', 'But', 'Follow', 'Bones', 'So', 'What', 'They', 'Then', 'Dis', 'Behold', 'Caerbannog', 'Right', 'Keep', 'What', 'W', 'Too', 'What', 'There', 'Where', 'There', 'What', 'It', 'You', 'What', 'You', 'Well', 'Ohh', 'That', 'You', 'I', 'I', 'Look', 'Get', 'He', 'Oh', 'You', 'I', 'What', 'He', 'Go', 'Bors', 'Chop', 'Right', 'Silly', 'One', 'Look', 'Aaaugh', 'Jesus', 'Christ', 'I', 'I', 'I', 'Oh', 'Oh', 'Well', 'I', 'Oh', 'Do', 'Right', 'Oh', 'Charge', 'Aaaaugh', 'Aaaugh', 'Run', 'Run', 'Run', 'Run', 'Ha', 'Ha', 'Ha', 'Ha', 'Right', 'How', 'Gawain', 'Ector', 'And', 'Bors', 'That', 'Three', 'Three', 'Three', 'And', 'That', 'Would', 'Oh', 'Let', 'It', 'Like', 'Well', 'Have', 'No', 'We', 'Holy', 'Hand', 'Grenade', 'Yes', 'The', 'Holy', 'Hand', 'Grenade', 'Antioch', 'Tis', 'Brother', 'Maynard', 'Brother', 'Maynard', 'Bring', 'Holy', 'Hand', 'Grenade', 'Pie', 'Iesu', 'Pie', 'Iesu', 'Pie', 'Iesu', 'Pie', 'Iesu', 'How', 'I', 'Consult', 'Book', 'Armaments', 'Armaments', 'Chapter', 'Two', 'Nine', 'Twenty', 'And', 'Saint', 'Attila', 'O', 'Lord', 'And', 'Lord', 'Skip', 'Brother', 'And', 'Lord', 'First', 'Holy', 'Pin', 'Then', 'Three', 'Four', 'Five', 'Once', 'Holy', 'Hand', 'Grenade', 'Antioch', 'Amen', 'Amen', 'Right', 'One', 'Three', 'Three', 'There', 'Look', 'What', 'What', 'Brother', 'Maynard', 'You', 'It', 'Aramaic', 'Of', 'Joseph', 'Arimathea', 'Course', 'What', 'It', 'Here', 'Joseph', 'Arimathea', 'He', 'Holy', 'Grail', 'Castle', 'What', 'Castle', 'What', 'He', 'Oh', 'Well', 'Look', 'He', 'Well', 'Perhaps', 'Oh', 'Well', 'No', 'Just', 'Aauuggghhh', 'Aaauggh', 'Do', 'Camaaaaaargue', 'Where', 'France', 'I', 'Isn', 'Saint', 'Aauuuves', 'Cornwall', 'No', 'Saint', 'Ives', 'Oh', 'Saint', 'Iiiives', 'Iiiiives', 'Oooohoohohooo', 'No', 'Aauuuuugh', 'Aauuugh', 'N', 'No', 'Oooooooh', 'Oh', 'Yes', 'I', 'Oooh', 'My', 'God', 'It', 'Black', 'Beast', 'Aaauugh', 'Black', 'Beast', 'Aaauugh', 'That', 'That', 'Run', 'Run', 'Run', 'Run', 'Run', 'Keep', 'Shh', 'Shh', 'Shh', 'Shh', 'Shh', 'Shh', 'Shh', 'Shh', 'We', 'Aagh', 'As', 'Black', 'Beast', 'Arthur', 'Ulk', 'The', 'The', 'Holy', 'Grail', 'There', 'The', 'Bridge', 'Death', 'Oh', 'Look', 'There', 'What', 'He', 'Bridge', 'Death', 'He', 'Three', 'Three', 'He', 'Three', 'Three', 'What', 'Then', 'Gorge', 'Eternal', 'Peril', 'Oh', 'I', 'Who', 'Sir', 'Robin', 'Yes', 'Brave', 'Sir', 'Robin', 'Hey', 'I', 'Why', 'Launcelot', 'Yes', 'Let', 'I', 'I', 'No', 'No', 'Hang', 'Hang', 'Hang', 'Just', 'Three', 'Three', 'And', 'I', 'Good', 'Sir', 'Launcelot', 'God', 'Stop', 'Who', 'Bridge', 'Death', 'Ask', 'I', 'What', 'My', 'Sir', 'Launcelot', 'Camelot', 'What', 'To', 'Holy', 'Grail', 'What', 'Blue', 'Right', 'Off', 'Oh', 'Thank', 'That', 'Stop', 'Who', 'Bridge', 'Death', 'Ask', 'I', 'What', 'Sir', 'Robin', 'Camelot', 'What', 'To', 'Holy', 'Grail', 'What', 'Assyria', 'I', 'Auuuuuuuugh', 'Stop', 'What', 'Sir', 'Galahad', 'Camelot', 'What', 'I', 'Grail', 'What', 'Blue', 'No', 'Hee', 'Stop', 'What', 'It', 'Arthur', 'King', 'Britons', 'What', 'To', 'Holy', 'Grail', 'What', 'What', 'An', 'African', 'European', 'Huh', 'I', 'I', 'Auuuuuuuugh', 'How', 'Well', 'Launcelot', 'Launcelot', 'Launcelot', 'Launcelot', 'Launcelot', 'Launcelot', 'Launcelot', 'Launcelot', 'Launcelot', 'The', 'Castle', 'Aaagh', 'Our', 'God', 'Almighty', 'God', 'Thee', 'Thou', 'Jesus', 'Christ', 'Allo', 'English', 'Monsieur', 'Arthur', 'King', 'So', 'French', 'How', 'I', 'Knights', 'Camelot', 'God', 'Himself', 'How', 'English', 'I', 'So', 'French', 'I', 'In', 'Lord', 'No', 'English', 'I', 'If', 'In', 'God', 'Agh', 'Right', 'That', 'Yes', 'Ha', 'Walk', 'Just', 'And', 'And', 'English', 'Thpppt', 'We', 'Yes', 'Stand', 'French', 'Dappy', 'Today', 'In', 'God', 'Hoo', 'Ohh', 'Holy', 'Grail', 'God', 'Ha', 'Charge', 'Hooray', 'S', 'Yes', 'They', 'I', 'Come', 'Anybody', 'All', 'Come', 'Back', 'S', 'Get', 'Back', 'Right', 'Just', 'Come', 'Come', 'Put', 'Clear', 'Come', 'With', 'Which', 'Oh', 'Come', 'Put', 'Get', 'We', 'Ahh', 'Ooh', 'Come', 'Back', 'Riiight', 'Come', 'Run', 'Run', 'Pull', 'My', 'Come', 'Back', 'Back', 'Right', 'Come', 'Everything', 'All', 'That', 'Just', 'Christ']\n"
          ]
        }
      ]
    },
    {
      "cell_type": "markdown",
      "source": [
        "25.Define sent to be the list of words ['she', 'sells', 'sea', 'shells', 'by', 'the', 'sea', 'shore']. Now write code to perform the following tasks:\n",
        "\n",
        "1. Print all words beginning with sh\n",
        "2. Print all words longer than four characters"
      ],
      "metadata": {
        "id": "UikYSwhi6amB"
      }
    },
    {
      "cell_type": "code",
      "source": [
        "word_list = ['she', 'sells', 'sea', 'shells', 'by', 'the', 'sea', 'shore']\n",
        "print([w for w in word_list if w.startswith('sh')])\n",
        "print([w for w in word_list if len(w) > 4])"
      ],
      "metadata": {
        "colab": {
          "base_uri": "https://localhost:8080/"
        },
        "id": "3sEpdLhH6jIH",
        "outputId": "a9144a5b-d62f-450a-d4d0-287c20570650"
      },
      "execution_count": 36,
      "outputs": [
        {
          "output_type": "stream",
          "name": "stdout",
          "text": [
            "['she', 'shells', 'shore']\n",
            "['sells', 'shells', 'shore']\n"
          ]
        }
      ]
    },
    {
      "cell_type": "markdown",
      "source": [
        "26.What does the following Python code do? sum(len(w) for w in text1) Can you use it to work out the average word length of a text?"
      ],
      "metadata": {
        "id": "imtCyPK47O-v"
      }
    },
    {
      "cell_type": "code",
      "source": [
        "# sum(len(w) for w in text1) will sum up all the length of text1. It may equal to the exact number of characters in a text.\n",
        "print(sum(len(w) for w in text1))\n",
        "# To find the average word length of a text we can try this:\n",
        "print(sum(len(w) for w in text1) / len(text1))"
      ],
      "metadata": {
        "colab": {
          "base_uri": "https://localhost:8080/"
        },
        "id": "IrmbC1Lf7WYE",
        "outputId": "fc5ed63b-846b-4cc3-ee47-723f99e8e11f"
      },
      "execution_count": 39,
      "outputs": [
        {
          "output_type": "stream",
          "name": "stdout",
          "text": [
            "999044\n",
            "3.830411128023649\n"
          ]
        }
      ]
    },
    {
      "cell_type": "markdown",
      "source": [
        "27.Define a function called vocab_size(text) that has a single parameter for the text, and which returns the vocabulary size of the text."
      ],
      "metadata": {
        "id": "QFju0PZD8KSn"
      }
    },
    {
      "cell_type": "code",
      "source": [
        "def vocab_size(text):\n",
        "  v_size = len(set([w.lower() for w in text if w.isalpha()]))\n",
        "  print(v_size)\n",
        "\n",
        "vocab_size(text1)"
      ],
      "metadata": {
        "colab": {
          "base_uri": "https://localhost:8080/"
        },
        "id": "4yO4JuXM8O1W",
        "outputId": "3303533c-02e6-45d6-b754-059fc711d58a"
      },
      "execution_count": 41,
      "outputs": [
        {
          "output_type": "stream",
          "name": "stdout",
          "text": [
            "16948\n"
          ]
        }
      ]
    },
    {
      "cell_type": "markdown",
      "source": [
        "28.Define a function percent(word, text) that calculates how often a given word occurs in a text, and expresses the result as a percentage."
      ],
      "metadata": {
        "id": "8iirjp1w9ZJW"
      }
    },
    {
      "cell_type": "code",
      "source": [
        "def percent(word, text):\n",
        "  print(text.count(word))\n",
        "  print(100 * text.count(word) / len(text))\n",
        "\n",
        "percent('love', text3)"
      ],
      "metadata": {
        "colab": {
          "base_uri": "https://localhost:8080/"
        },
        "id": "AoYFJ2pX9dcl",
        "outputId": "7006ac47-dfb8-4683-dce9-1b4ebaf9a348"
      },
      "execution_count": 43,
      "outputs": [
        {
          "output_type": "stream",
          "name": "stdout",
          "text": [
            "4\n",
            "0.008935751943526048\n"
          ]
        }
      ]
    },
    {
      "cell_type": "markdown",
      "source": [
        "29.We have been using sets to store vocabularies. Try the following Python expression: set(sent3) < set(text1). Experiment with this using different arguments to set(). What does it do? Can you think of a practical application for this?"
      ],
      "metadata": {
        "id": "ZlGZ7_2p9_wk"
      }
    },
    {
      "cell_type": "code",
      "source": [
        "set(text5) < set(text1) # set calculates the distinct tokens in a text and this whole sentence tries to calculate whether this is true or not\n",
        "# we can easily check which text has more vocabulary among two."
      ],
      "metadata": {
        "colab": {
          "base_uri": "https://localhost:8080/"
        },
        "id": "1JI9dCBo-IN2",
        "outputId": "13956660-0027-4093-dce6-ae83fa437f66"
      },
      "execution_count": 45,
      "outputs": [
        {
          "output_type": "execute_result",
          "data": {
            "text/plain": [
              "False"
            ]
          },
          "metadata": {},
          "execution_count": 45
        }
      ]
    }
  ]
}